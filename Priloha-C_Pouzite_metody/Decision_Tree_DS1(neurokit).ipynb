{
  "cells": [
    {
      "cell_type": "code",
      "execution_count": 1,
      "metadata": {
        "id": "vykfoCe6xPDc"
      },
      "outputs": [],
      "source": [
        "import pandas\n",
        "import numpy as np \n",
        "from sklearn.metrics import classification_report"
      ]
    },
    {
      "cell_type": "code",
      "execution_count": 2,
      "metadata": {
        "colab": {
          "base_uri": "https://localhost:8080/",
          "height": 300
        },
        "id": "Cjm8rRN9xRxe",
        "outputId": "b0753946-db72-4372-8ab1-727af372e9b0"
      },
      "outputs": [
        {
          "data": {
            "text/html": [
              "\n",
              "  <div id=\"df-5f266ad0-7d53-4d9c-8f32-284ea37bf49e\">\n",
              "    <div class=\"colab-df-container\">\n",
              "      <div>\n",
              "<style scoped>\n",
              "    .dataframe tbody tr th:only-of-type {\n",
              "        vertical-align: middle;\n",
              "    }\n",
              "\n",
              "    .dataframe tbody tr th {\n",
              "        vertical-align: top;\n",
              "    }\n",
              "\n",
              "    .dataframe thead th {\n",
              "        text-align: right;\n",
              "    }\n",
              "</style>\n",
              "<table border=\"1\" class=\"dataframe\">\n",
              "  <thead>\n",
              "    <tr style=\"text-align: right;\">\n",
              "      <th></th>\n",
              "      <th>ID</th>\n",
              "      <th>ECG_Rate_Mean</th>\n",
              "      <th>HRV_MeanNN</th>\n",
              "      <th>HRV_SDNN</th>\n",
              "      <th>HRV_SDANN1</th>\n",
              "      <th>HRV_SDNNI1</th>\n",
              "      <th>HRV_RMSSD</th>\n",
              "      <th>HRV_SDSD</th>\n",
              "      <th>HRV_CVNN</th>\n",
              "      <th>HRV_CVSD</th>\n",
              "      <th>...</th>\n",
              "      <th>HRV_HFD</th>\n",
              "      <th>HRV_KFD</th>\n",
              "      <th>HRV_LZC</th>\n",
              "      <th>SCR_Peaks_N</th>\n",
              "      <th>SCR_Peaks_Amplitude_Mean</th>\n",
              "      <th>Min_Tep</th>\n",
              "      <th>Max_Tep</th>\n",
              "      <th>Mean_Tep</th>\n",
              "      <th>STDEV_Tep</th>\n",
              "      <th>Label</th>\n",
              "    </tr>\n",
              "  </thead>\n",
              "  <tbody>\n",
              "    <tr>\n",
              "      <th>0</th>\n",
              "      <td>3_h</td>\n",
              "      <td>127.634701</td>\n",
              "      <td>473.245614</td>\n",
              "      <td>150.712984</td>\n",
              "      <td>58.920459</td>\n",
              "      <td>121.235178</td>\n",
              "      <td>164.597955</td>\n",
              "      <td>164.742778</td>\n",
              "      <td>0.318467</td>\n",
              "      <td>0.347807</td>\n",
              "      <td>...</td>\n",
              "      <td>1.993155</td>\n",
              "      <td>2.189870</td>\n",
              "      <td>0.931543</td>\n",
              "      <td>40</td>\n",
              "      <td>0.659369</td>\n",
              "      <td>37.15</td>\n",
              "      <td>38.61</td>\n",
              "      <td>37.894830</td>\n",
              "      <td>0.297241</td>\n",
              "      <td>Neutral</td>\n",
              "    </tr>\n",
              "    <tr>\n",
              "      <th>1</th>\n",
              "      <td>5_h</td>\n",
              "      <td>111.367546</td>\n",
              "      <td>539.250000</td>\n",
              "      <td>58.330888</td>\n",
              "      <td>9.528221</td>\n",
              "      <td>57.980129</td>\n",
              "      <td>54.021632</td>\n",
              "      <td>54.075843</td>\n",
              "      <td>0.108170</td>\n",
              "      <td>0.100179</td>\n",
              "      <td>...</td>\n",
              "      <td>1.955297</td>\n",
              "      <td>2.087771</td>\n",
              "      <td>0.699331</td>\n",
              "      <td>35</td>\n",
              "      <td>0.821870</td>\n",
              "      <td>35.68</td>\n",
              "      <td>36.66</td>\n",
              "      <td>36.170000</td>\n",
              "      <td>0.042649</td>\n",
              "      <td>Negative</td>\n",
              "    </tr>\n",
              "    <tr>\n",
              "      <th>2</th>\n",
              "      <td>6_h</td>\n",
              "      <td>63.205824</td>\n",
              "      <td>972.563177</td>\n",
              "      <td>399.763200</td>\n",
              "      <td>69.564970</td>\n",
              "      <td>375.250435</td>\n",
              "      <td>499.610355</td>\n",
              "      <td>500.492116</td>\n",
              "      <td>0.411041</td>\n",
              "      <td>0.513705</td>\n",
              "      <td>...</td>\n",
              "      <td>2.013749</td>\n",
              "      <td>2.613006</td>\n",
              "      <td>1.113077</td>\n",
              "      <td>49</td>\n",
              "      <td>0.712868</td>\n",
              "      <td>36.17</td>\n",
              "      <td>36.66</td>\n",
              "      <td>36.630415</td>\n",
              "      <td>0.116931</td>\n",
              "      <td>Negative</td>\n",
              "    </tr>\n",
              "    <tr>\n",
              "      <th>3</th>\n",
              "      <td>7_h</td>\n",
              "      <td>63.744888</td>\n",
              "      <td>984.814815</td>\n",
              "      <td>536.944546</td>\n",
              "      <td>53.731704</td>\n",
              "      <td>512.384700</td>\n",
              "      <td>760.829497</td>\n",
              "      <td>762.145515</td>\n",
              "      <td>0.545224</td>\n",
              "      <td>0.772561</td>\n",
              "      <td>...</td>\n",
              "      <td>2.018079</td>\n",
              "      <td>3.060609</td>\n",
              "      <td>1.076909</td>\n",
              "      <td>18</td>\n",
              "      <td>1.213596</td>\n",
              "      <td>37.15</td>\n",
              "      <td>37.63</td>\n",
              "      <td>37.256868</td>\n",
              "      <td>0.200067</td>\n",
              "      <td>Neutral</td>\n",
              "    </tr>\n",
              "    <tr>\n",
              "      <th>4</th>\n",
              "      <td>8_h</td>\n",
              "      <td>55.961404</td>\n",
              "      <td>1072.000000</td>\n",
              "      <td>129.044994</td>\n",
              "      <td>27.525674</td>\n",
              "      <td>97.114529</td>\n",
              "      <td>131.507326</td>\n",
              "      <td>131.526180</td>\n",
              "      <td>0.120378</td>\n",
              "      <td>0.122675</td>\n",
              "      <td>...</td>\n",
              "      <td>1.988184</td>\n",
              "      <td>1.442423</td>\n",
              "      <td>0.892168</td>\n",
              "      <td>35</td>\n",
              "      <td>0.672532</td>\n",
              "      <td>37.63</td>\n",
              "      <td>38.12</td>\n",
              "      <td>37.722453</td>\n",
              "      <td>0.192077</td>\n",
              "      <td>Negative</td>\n",
              "    </tr>\n",
              "  </tbody>\n",
              "</table>\n",
              "<p>5 rows × 81 columns</p>\n",
              "</div>\n",
              "      <button class=\"colab-df-convert\" onclick=\"convertToInteractive('df-5f266ad0-7d53-4d9c-8f32-284ea37bf49e')\"\n",
              "              title=\"Convert this dataframe to an interactive table.\"\n",
              "              style=\"display:none;\">\n",
              "        \n",
              "  <svg xmlns=\"http://www.w3.org/2000/svg\" height=\"24px\"viewBox=\"0 0 24 24\"\n",
              "       width=\"24px\">\n",
              "    <path d=\"M0 0h24v24H0V0z\" fill=\"none\"/>\n",
              "    <path d=\"M18.56 5.44l.94 2.06.94-2.06 2.06-.94-2.06-.94-.94-2.06-.94 2.06-2.06.94zm-11 1L8.5 8.5l.94-2.06 2.06-.94-2.06-.94L8.5 2.5l-.94 2.06-2.06.94zm10 10l.94 2.06.94-2.06 2.06-.94-2.06-.94-.94-2.06-.94 2.06-2.06.94z\"/><path d=\"M17.41 7.96l-1.37-1.37c-.4-.4-.92-.59-1.43-.59-.52 0-1.04.2-1.43.59L10.3 9.45l-7.72 7.72c-.78.78-.78 2.05 0 2.83L4 21.41c.39.39.9.59 1.41.59.51 0 1.02-.2 1.41-.59l7.78-7.78 2.81-2.81c.8-.78.8-2.07 0-2.86zM5.41 20L4 18.59l7.72-7.72 1.47 1.35L5.41 20z\"/>\n",
              "  </svg>\n",
              "      </button>\n",
              "      \n",
              "  <style>\n",
              "    .colab-df-container {\n",
              "      display:flex;\n",
              "      flex-wrap:wrap;\n",
              "      gap: 12px;\n",
              "    }\n",
              "\n",
              "    .colab-df-convert {\n",
              "      background-color: #E8F0FE;\n",
              "      border: none;\n",
              "      border-radius: 50%;\n",
              "      cursor: pointer;\n",
              "      display: none;\n",
              "      fill: #1967D2;\n",
              "      height: 32px;\n",
              "      padding: 0 0 0 0;\n",
              "      width: 32px;\n",
              "    }\n",
              "\n",
              "    .colab-df-convert:hover {\n",
              "      background-color: #E2EBFA;\n",
              "      box-shadow: 0px 1px 2px rgba(60, 64, 67, 0.3), 0px 1px 3px 1px rgba(60, 64, 67, 0.15);\n",
              "      fill: #174EA6;\n",
              "    }\n",
              "\n",
              "    [theme=dark] .colab-df-convert {\n",
              "      background-color: #3B4455;\n",
              "      fill: #D2E3FC;\n",
              "    }\n",
              "\n",
              "    [theme=dark] .colab-df-convert:hover {\n",
              "      background-color: #434B5C;\n",
              "      box-shadow: 0px 1px 3px 1px rgba(0, 0, 0, 0.15);\n",
              "      filter: drop-shadow(0px 1px 2px rgba(0, 0, 0, 0.3));\n",
              "      fill: #FFFFFF;\n",
              "    }\n",
              "  </style>\n",
              "\n",
              "      <script>\n",
              "        const buttonEl =\n",
              "          document.querySelector('#df-5f266ad0-7d53-4d9c-8f32-284ea37bf49e button.colab-df-convert');\n",
              "        buttonEl.style.display =\n",
              "          google.colab.kernel.accessAllowed ? 'block' : 'none';\n",
              "\n",
              "        async function convertToInteractive(key) {\n",
              "          const element = document.querySelector('#df-5f266ad0-7d53-4d9c-8f32-284ea37bf49e');\n",
              "          const dataTable =\n",
              "            await google.colab.kernel.invokeFunction('convertToInteractive',\n",
              "                                                     [key], {});\n",
              "          if (!dataTable) return;\n",
              "\n",
              "          const docLinkHtml = 'Like what you see? Visit the ' +\n",
              "            '<a target=\"_blank\" href=https://colab.research.google.com/notebooks/data_table.ipynb>data table notebook</a>'\n",
              "            + ' to learn more about interactive tables.';\n",
              "          element.innerHTML = '';\n",
              "          dataTable['output_type'] = 'display_data';\n",
              "          await google.colab.output.renderOutput(dataTable, element);\n",
              "          const docLink = document.createElement('div');\n",
              "          docLink.innerHTML = docLinkHtml;\n",
              "          element.appendChild(docLink);\n",
              "        }\n",
              "      </script>\n",
              "    </div>\n",
              "  </div>\n",
              "  "
            ],
            "text/plain": [
              "    ID  ECG_Rate_Mean   HRV_MeanNN    HRV_SDNN  HRV_SDANN1  HRV_SDNNI1  \\\n",
              "0  3_h     127.634701   473.245614  150.712984   58.920459  121.235178   \n",
              "1  5_h     111.367546   539.250000   58.330888    9.528221   57.980129   \n",
              "2  6_h      63.205824   972.563177  399.763200   69.564970  375.250435   \n",
              "3  7_h      63.744888   984.814815  536.944546   53.731704  512.384700   \n",
              "4  8_h      55.961404  1072.000000  129.044994   27.525674   97.114529   \n",
              "\n",
              "    HRV_RMSSD    HRV_SDSD  HRV_CVNN  HRV_CVSD  ...   HRV_HFD   HRV_KFD  \\\n",
              "0  164.597955  164.742778  0.318467  0.347807  ...  1.993155  2.189870   \n",
              "1   54.021632   54.075843  0.108170  0.100179  ...  1.955297  2.087771   \n",
              "2  499.610355  500.492116  0.411041  0.513705  ...  2.013749  2.613006   \n",
              "3  760.829497  762.145515  0.545224  0.772561  ...  2.018079  3.060609   \n",
              "4  131.507326  131.526180  0.120378  0.122675  ...  1.988184  1.442423   \n",
              "\n",
              "    HRV_LZC  SCR_Peaks_N  SCR_Peaks_Amplitude_Mean  Min_Tep  Max_Tep  \\\n",
              "0  0.931543           40                  0.659369    37.15    38.61   \n",
              "1  0.699331           35                  0.821870    35.68    36.66   \n",
              "2  1.113077           49                  0.712868    36.17    36.66   \n",
              "3  1.076909           18                  1.213596    37.15    37.63   \n",
              "4  0.892168           35                  0.672532    37.63    38.12   \n",
              "\n",
              "    Mean_Tep  STDEV_Tep     Label  \n",
              "0  37.894830   0.297241   Neutral  \n",
              "1  36.170000   0.042649  Negative  \n",
              "2  36.630415   0.116931  Negative  \n",
              "3  37.256868   0.200067   Neutral  \n",
              "4  37.722453   0.192077  Negative  \n",
              "\n",
              "[5 rows x 81 columns]"
            ]
          },
          "execution_count": 2,
          "metadata": {},
          "output_type": "execute_result"
        }
      ],
      "source": [
        "moje_data = pandas.read_csv('neurokit.csv',sep=';')\n",
        "moje_data.head()"
      ]
    },
    {
      "cell_type": "code",
      "execution_count": 5,
      "metadata": {
        "id": "LahDXmmR0RCc"
      },
      "outputs": [],
      "source": [
        "from sklearn.tree import DecisionTreeClassifier \n",
        "from sklearn.model_selection import train_test_split \n",
        "from sklearn import metrics "
      ]
    },
    {
      "cell_type": "code",
      "execution_count": 6,
      "metadata": {
        "id": "3_Pc2Zct0iAt"
      },
      "outputs": [],
      "source": [
        "X = moje_data.drop(['ID','Label'], axis=1)\n",
        "y = moje_data['Label']\n",
        "\n",
        "X_train, X_test, y_train, y_test = train_test_split(X, y, test_size = 0.2, random_state = 12)"
      ]
    },
    {
      "cell_type": "code",
      "execution_count": 7,
      "metadata": {
        "id": "MJ-r7E5HrkK_"
      },
      "outputs": [],
      "source": [
        "X_train = X_train.replace((np.inf, -np.inf, np.nan), 0).reset_index(drop=True)"
      ]
    },
    {
      "cell_type": "code",
      "execution_count": 8,
      "metadata": {
        "id": "ihgGVNrKKkw0"
      },
      "outputs": [],
      "source": [
        "\n",
        "from sklearn.preprocessing import StandardScaler\n",
        "\n",
        "scaler = StandardScaler().fit(X_train)\n",
        "X_train_scaled = scaler.transform(X_train)\n",
        "\n",
        "\n",
        "scaler = StandardScaler().fit(X_test)\n",
        "X_test_scaled = scaler.transform(X_test)\n"
      ]
    },
    {
      "cell_type": "code",
      "execution_count": 9,
      "metadata": {
        "id": "xGRfjrSb1Gdb"
      },
      "outputs": [],
      "source": [
        "clf = DecisionTreeClassifier(criterion = \"gini\", splitter = 'random', max_leaf_nodes = 5, min_samples_leaf = 10, max_depth= 6)\n",
        "#clf = DecisionTreeClassifier()"
      ]
    },
    {
      "cell_type": "code",
      "execution_count": 10,
      "metadata": {
        "id": "3atDktWW2ORV"
      },
      "outputs": [],
      "source": [
        "clf = clf.fit(X_train_scaled,y_train,)"
      ]
    },
    {
      "cell_type": "code",
      "execution_count": 11,
      "metadata": {
        "id": "2Nbp5LQG2QoV"
      },
      "outputs": [],
      "source": [
        "y_pred = clf.predict(X_test_scaled)"
      ]
    },
    {
      "cell_type": "code",
      "execution_count": 12,
      "metadata": {
        "colab": {
          "base_uri": "https://localhost:8080/"
        },
        "id": "GhyaA3Vn2WiU",
        "outputId": "2e353322-b8da-402f-caa3-a9cbcf71279c"
      },
      "outputs": [
        {
          "name": "stdout",
          "output_type": "stream",
          "text": [
            "Accuracy: 0.5625\n"
          ]
        }
      ],
      "source": [
        "print(\"Accuracy:\",metrics.accuracy_score(y_test, y_pred))"
      ]
    },
    {
      "cell_type": "code",
      "execution_count": 13,
      "metadata": {
        "colab": {
          "base_uri": "https://localhost:8080/"
        },
        "id": "48aKGqwT5Rur",
        "outputId": "81f11921-f12f-4254-9da9-1c0ad20020e9"
      },
      "outputs": [
        {
          "name": "stdout",
          "output_type": "stream",
          "text": [
            "Training Set Mean Accuracy = 0.59\n",
            "Test Set Mean Accuracy = 0.56\n"
          ]
        }
      ],
      "source": [
        "train_error = np.round(clf.score(X_train_scaled, y_train), 2)\n",
        "test_error = np.round(clf.score(X_test_scaled, y_test), 2)\n",
        "    \n",
        "print(\"Training Set Mean Accuracy = \" + str(train_error))\n",
        "print(\"Test Set Mean Accuracy = \" + str(test_error))"
      ]
    }
  ],
  "metadata": {
    "colab": {
      "collapsed_sections": [],
      "name": "Tree_not_overfit.ipynb",
      "provenance": []
    },
    "kernelspec": {
      "display_name": "Python 3",
      "name": "python3"
    }
  },
  "nbformat": 4,
  "nbformat_minor": 0
}
