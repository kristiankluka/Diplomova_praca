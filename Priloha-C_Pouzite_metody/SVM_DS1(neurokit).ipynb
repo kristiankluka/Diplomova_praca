{
  "nbformat": 4,
  "nbformat_minor": 0,
  "metadata": {
    "colab": {
      "name": "SVM_DS1(neurokit).ipynb",
      "provenance": []
    },
    "kernelspec": {
      "name": "python3",
      "display_name": "Python 3"
    },
    "language_info": {
      "name": "python"
    }
  },
  "cells": [
    {
      "cell_type": "code",
      "execution_count": 1,
      "metadata": {
        "colab": {
          "base_uri": "https://localhost:8080/"
        },
        "id": "berWdV8rPf7c",
        "outputId": "75d3b37f-925d-4b40-b1d2-af612c1f66e6"
      },
      "outputs": [
        {
          "output_type": "stream",
          "name": "stdout",
          "text": [
            "(61, 79) (16, 79) (61,) (16,)\n"
          ]
        }
      ],
      "source": [
        "\n",
        "import pandas as pd\n",
        "import numpy as np\n",
        "data = pd.read_csv('neurokit.csv', sep=';')\n",
        "features = data.drop(['Label','ID'], axis=1)\n",
        "target = data['Label']\n",
        "from sklearn.model_selection import train_test_split\n",
        "\n",
        "\n",
        "features = features.replace((np.inf, -np.inf, np.nan), 0).reset_index(drop=True)\n",
        "X_train, X_test, y_train, y_test = train_test_split(\n",
        "    features, target,test_size=0.20,random_state=42,stratify=target)\n",
        "print(X_train.shape, X_test.shape, y_train.shape, y_test.shape)\n",
        "\n",
        "X= X_test\n",
        "\n",
        "from sklearn import preprocessing\n",
        "scaler = preprocessing.StandardScaler() \n",
        "X_train = scaler.fit_transform(X_train, y_train)\n",
        "X_test = scaler.transform(X_test)\n",
        "\n",
        "from sklearn.discriminant_analysis import LinearDiscriminantAnalysis as LDA\n",
        "lda = LDA(n_components=1)\n",
        "X_train = lda.fit_transform(X_train, y_train)\n",
        "X_test = lda.transform(X_test)\n",
        "\n",
        "from sklearn.svm import SVC\n",
        "model = SVC(random_state=42)\n",
        "parameters = {'kernel': ('linear', 'rbf'), 'C': [0.1 , 1, 10], 'gamma': [0.1, 1, 10]}\n",
        "\n",
        "from sklearn.model_selection import KFold\n",
        "cv = KFold(n_splits=5, shuffle=True, random_state=42)\n",
        "\n",
        "from sklearn.model_selection import GridSearchCV\n",
        "clf = GridSearchCV(model, param_grid=parameters, scoring='accuracy', n_jobs=1, cv=cv, refit=True)\n",
        "\n",
        "\n"
      ]
    },
    {
      "cell_type": "code",
      "source": [
        "%%time\n",
        "clf.fit(X_train, y_train)"
      ],
      "metadata": {
        "colab": {
          "base_uri": "https://localhost:8080/"
        },
        "id": "iYUH50NldUZt",
        "outputId": "62c68a76-26cc-499c-fd58-9ac0e6b5f3c3"
      },
      "execution_count": 2,
      "outputs": [
        {
          "output_type": "stream",
          "name": "stdout",
          "text": [
            "CPU times: user 278 ms, sys: 60.1 ms, total: 338 ms\n",
            "Wall time: 342 ms\n"
          ]
        },
        {
          "output_type": "execute_result",
          "data": {
            "text/plain": [
              "GridSearchCV(cv=KFold(n_splits=5, random_state=42, shuffle=True),\n",
              "             estimator=SVC(random_state=42), n_jobs=1,\n",
              "             param_grid={'C': [0.1, 1, 10], 'gamma': [0.1, 1, 10],\n",
              "                         'kernel': ('linear', 'rbf')},\n",
              "             scoring='accuracy')"
            ]
          },
          "metadata": {},
          "execution_count": 2
        }
      ]
    },
    {
      "cell_type": "code",
      "source": [
        "from sklearn.model_selection import cross_val_score\n",
        "scores = cross_val_score(clf.best_estimator_, X_train, y_train, scoring='accuracy', cv=cv, n_jobs=-1)\n",
        "print('Presnosť tréningových dát: %0.2f' % (scores.max() * 100))\n",
        "y_pred = clf.best_estimator_.predict(X_test)\n",
        "from sklearn.metrics import accuracy_score\n",
        "print('Presnosť klasifikácie dát: %0.2f' % (accuracy_score(y_test,y_pred) * 100))\n"
      ],
      "metadata": {
        "colab": {
          "base_uri": "https://localhost:8080/"
        },
        "id": "-aqH6iF_dRNw",
        "outputId": "f68ffae7-1d01-4f5c-8037-358c71d707fb"
      },
      "execution_count": 3,
      "outputs": [
        {
          "output_type": "stream",
          "name": "stdout",
          "text": [
            "Presnosť tréningových dát: 100.00\n",
            "Presnosť klasifikácie dát: 31.25\n"
          ]
        }
      ]
    },
    {
      "cell_type": "code",
      "source": [
        "from sklearn.metrics import confusion_matrix,  classification_report\n",
        "import seaborn as sns\n",
        "import matplotlib.pyplot as plt\n",
        "mapovanie = {'Negative': 0, 'Positive': 1, 'Neutral': 2}\n",
        "#y_pred = np.array(list(map(lambda x: np.argmax(x), clf.predict(X_test_scaled))))\n",
        "\n",
        "cm = confusion_matrix(y_test, y_pred)\n",
        "clr = classification_report(y_test, y_pred, target_names=mapovanie.keys())\n",
        "\n",
        "plt.figure(figsize=(8, 8))\n",
        "sns.heatmap(cm, annot=True, vmin=0, fmt='g', cbar=False, cmap='Blues')\n",
        "plt.xticks(np.arange(3) + 0.5, mapovanie.keys())\n",
        "plt.yticks(np.arange(3) + 0.5, mapovanie.keys())\n",
        "plt.xlabel(\"Klasifikácia\")\n",
        "plt.ylabel(\"Skutočnosť\")\n",
        "plt.title(\"Confusion Matrix\")\n",
        "plt.show()\n",
        "\n",
        "print(\"Classification Report:\\n----------------------\\n\", clr)"
      ],
      "metadata": {
        "id": "0cXkLij4PvaS",
        "colab": {
          "base_uri": "https://localhost:8080/",
          "height": 721
        },
        "outputId": "5a604625-ea70-4081-a623-4df0bbf119d0"
      },
      "execution_count": 4,
      "outputs": [
        {
          "output_type": "display_data",
          "data": {
            "text/plain": [
              "<Figure size 576x576 with 1 Axes>"
            ],
            "image/png": "[encoded data removed]"
          },
          "metadata": {
            "needs_background": "light"
          }
        },
        {
          "output_type": "stream",
          "name": "stdout",
          "text": [
            "Classification Report:\n",
            "----------------------\n",
            "               precision    recall  f1-score   support\n",
            "\n",
            "    Negative       0.75      0.38      0.50         8\n",
            "    Positive       0.00      0.00      0.00         5\n",
            "     Neutral       0.25      0.67      0.36         3\n",
            "\n",
            "    accuracy                           0.31        16\n",
            "   macro avg       0.33      0.35      0.29        16\n",
            "weighted avg       0.42      0.31      0.32        16\n",
            "\n"
          ]
        }
      ]
    }
  ]
}