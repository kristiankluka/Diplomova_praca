{
  "cells": [
    {
      "cell_type": "code",
      "execution_count": 1,
      "metadata": {
        "id": "vykfoCe6xPDc"
      },
      "outputs": [],
      "source": [
        "import pandas\n",
        "import numpy as np \n",
        "from sklearn.metrics import classification_report"
      ]
    },
    {
      "cell_type": "code",
      "execution_count": 2,
      "metadata": {
        "colab": {
          "base_uri": "https://localhost:8080/",
          "height": 206
        },
        "id": "Cjm8rRN9xRxe",
        "outputId": "48edd5d8-d584-4024-9ef3-d887f1ad63c1"
      },
      "outputs": [
        {
          "data": {
            "text/html": [
              "\n",
              "  <div id=\"df-e808e05f-1bf6-4fb8-b140-169083c394b7\">\n",
              "    <div class=\"colab-df-container\">\n",
              "      <div>\n",
              "<style scoped>\n",
              "    .dataframe tbody tr th:only-of-type {\n",
              "        vertical-align: middle;\n",
              "    }\n",
              "\n",
              "    .dataframe tbody tr th {\n",
              "        vertical-align: top;\n",
              "    }\n",
              "\n",
              "    .dataframe thead th {\n",
              "        text-align: right;\n",
              "    }\n",
              "</style>\n",
              "<table border=\"1\" class=\"dataframe\">\n",
              "  <thead>\n",
              "    <tr style=\"text-align: right;\">\n",
              "      <th></th>\n",
              "      <th>ID</th>\n",
              "      <th>Min_EKG</th>\n",
              "      <th>Max_EKG</th>\n",
              "      <th>Mean_EKG</th>\n",
              "      <th>STDEV_EKG</th>\n",
              "      <th>Min_GSR</th>\n",
              "      <th>Max_GSR</th>\n",
              "      <th>Mean_GSR</th>\n",
              "      <th>STDEV_GSR</th>\n",
              "      <th>Min_Tep</th>\n",
              "      <th>Max_Tep</th>\n",
              "      <th>Mean_Tep</th>\n",
              "      <th>STDEV_Tep</th>\n",
              "      <th>Label</th>\n",
              "    </tr>\n",
              "  </thead>\n",
              "  <tbody>\n",
              "    <tr>\n",
              "      <th>0</th>\n",
              "      <td>1_h</td>\n",
              "      <td>171</td>\n",
              "      <td>650</td>\n",
              "      <td>407.777358</td>\n",
              "      <td>137.906972</td>\n",
              "      <td>132</td>\n",
              "      <td>460</td>\n",
              "      <td>309.290566</td>\n",
              "      <td>95.519882</td>\n",
              "      <td>37.15</td>\n",
              "      <td>39.10</td>\n",
              "      <td>38.103925</td>\n",
              "      <td>0.564672</td>\n",
              "      <td>Neutral</td>\n",
              "    </tr>\n",
              "    <tr>\n",
              "      <th>1</th>\n",
              "      <td>2_h</td>\n",
              "      <td>170</td>\n",
              "      <td>650</td>\n",
              "      <td>420.826415</td>\n",
              "      <td>140.368050</td>\n",
              "      <td>130</td>\n",
              "      <td>460</td>\n",
              "      <td>291.343396</td>\n",
              "      <td>94.786518</td>\n",
              "      <td>35.68</td>\n",
              "      <td>37.63</td>\n",
              "      <td>36.632566</td>\n",
              "      <td>0.557221</td>\n",
              "      <td>Negative</td>\n",
              "    </tr>\n",
              "    <tr>\n",
              "      <th>2</th>\n",
              "      <td>3_h</td>\n",
              "      <td>174</td>\n",
              "      <td>649</td>\n",
              "      <td>411.766038</td>\n",
              "      <td>136.412941</td>\n",
              "      <td>131</td>\n",
              "      <td>456</td>\n",
              "      <td>294.433962</td>\n",
              "      <td>93.505167</td>\n",
              "      <td>37.16</td>\n",
              "      <td>38.61</td>\n",
              "      <td>37.878189</td>\n",
              "      <td>0.415849</td>\n",
              "      <td>Neutral</td>\n",
              "    </tr>\n",
              "    <tr>\n",
              "      <th>3</th>\n",
              "      <td>4_h</td>\n",
              "      <td>171</td>\n",
              "      <td>650</td>\n",
              "      <td>414.396226</td>\n",
              "      <td>145.213211</td>\n",
              "      <td>139</td>\n",
              "      <td>460</td>\n",
              "      <td>299.184906</td>\n",
              "      <td>97.555616</td>\n",
              "      <td>36.75</td>\n",
              "      <td>37.12</td>\n",
              "      <td>36.928604</td>\n",
              "      <td>0.112906</td>\n",
              "      <td>Neutral</td>\n",
              "    </tr>\n",
              "    <tr>\n",
              "      <th>4</th>\n",
              "      <td>5_h</td>\n",
              "      <td>170</td>\n",
              "      <td>650</td>\n",
              "      <td>415.049057</td>\n",
              "      <td>141.312521</td>\n",
              "      <td>131</td>\n",
              "      <td>458</td>\n",
              "      <td>277.800000</td>\n",
              "      <td>97.853950</td>\n",
              "      <td>36.75</td>\n",
              "      <td>37.12</td>\n",
              "      <td>36.948868</td>\n",
              "      <td>0.111699</td>\n",
              "      <td>Negative</td>\n",
              "    </tr>\n",
              "  </tbody>\n",
              "</table>\n",
              "</div>\n",
              "      <button class=\"colab-df-convert\" onclick=\"convertToInteractive('df-e808e05f-1bf6-4fb8-b140-169083c394b7')\"\n",
              "              title=\"Convert this dataframe to an interactive table.\"\n",
              "              style=\"display:none;\">\n",
              "        \n",
              "  <svg xmlns=\"http://www.w3.org/2000/svg\" height=\"24px\"viewBox=\"0 0 24 24\"\n",
              "       width=\"24px\">\n",
              "    <path d=\"M0 0h24v24H0V0z\" fill=\"none\"/>\n",
              "    <path d=\"M18.56 5.44l.94 2.06.94-2.06 2.06-.94-2.06-.94-.94-2.06-.94 2.06-2.06.94zm-11 1L8.5 8.5l.94-2.06 2.06-.94-2.06-.94L8.5 2.5l-.94 2.06-2.06.94zm10 10l.94 2.06.94-2.06 2.06-.94-2.06-.94-.94-2.06-.94 2.06-2.06.94z\"/><path d=\"M17.41 7.96l-1.37-1.37c-.4-.4-.92-.59-1.43-.59-.52 0-1.04.2-1.43.59L10.3 9.45l-7.72 7.72c-.78.78-.78 2.05 0 2.83L4 21.41c.39.39.9.59 1.41.59.51 0 1.02-.2 1.41-.59l7.78-7.78 2.81-2.81c.8-.78.8-2.07 0-2.86zM5.41 20L4 18.59l7.72-7.72 1.47 1.35L5.41 20z\"/>\n",
              "  </svg>\n",
              "      </button>\n",
              "      \n",
              "  <style>\n",
              "    .colab-df-container {\n",
              "      display:flex;\n",
              "      flex-wrap:wrap;\n",
              "      gap: 12px;\n",
              "    }\n",
              "\n",
              "    .colab-df-convert {\n",
              "      background-color: #E8F0FE;\n",
              "      border: none;\n",
              "      border-radius: 50%;\n",
              "      cursor: pointer;\n",
              "      display: none;\n",
              "      fill: #1967D2;\n",
              "      height: 32px;\n",
              "      padding: 0 0 0 0;\n",
              "      width: 32px;\n",
              "    }\n",
              "\n",
              "    .colab-df-convert:hover {\n",
              "      background-color: #E2EBFA;\n",
              "      box-shadow: 0px 1px 2px rgba(60, 64, 67, 0.3), 0px 1px 3px 1px rgba(60, 64, 67, 0.15);\n",
              "      fill: #174EA6;\n",
              "    }\n",
              "\n",
              "    [theme=dark] .colab-df-convert {\n",
              "      background-color: #3B4455;\n",
              "      fill: #D2E3FC;\n",
              "    }\n",
              "\n",
              "    [theme=dark] .colab-df-convert:hover {\n",
              "      background-color: #434B5C;\n",
              "      box-shadow: 0px 1px 3px 1px rgba(0, 0, 0, 0.15);\n",
              "      filter: drop-shadow(0px 1px 2px rgba(0, 0, 0, 0.3));\n",
              "      fill: #FFFFFF;\n",
              "    }\n",
              "  </style>\n",
              "\n",
              "      <script>\n",
              "        const buttonEl =\n",
              "          document.querySelector('#df-e808e05f-1bf6-4fb8-b140-169083c394b7 button.colab-df-convert');\n",
              "        buttonEl.style.display =\n",
              "          google.colab.kernel.accessAllowed ? 'block' : 'none';\n",
              "\n",
              "        async function convertToInteractive(key) {\n",
              "          const element = document.querySelector('#df-e808e05f-1bf6-4fb8-b140-169083c394b7');\n",
              "          const dataTable =\n",
              "            await google.colab.kernel.invokeFunction('convertToInteractive',\n",
              "                                                     [key], {});\n",
              "          if (!dataTable) return;\n",
              "\n",
              "          const docLinkHtml = 'Like what you see? Visit the ' +\n",
              "            '<a target=\"_blank\" href=https://colab.research.google.com/notebooks/data_table.ipynb>data table notebook</a>'\n",
              "            + ' to learn more about interactive tables.';\n",
              "          element.innerHTML = '';\n",
              "          dataTable['output_type'] = 'display_data';\n",
              "          await google.colab.output.renderOutput(dataTable, element);\n",
              "          const docLink = document.createElement('div');\n",
              "          docLink.innerHTML = docLinkHtml;\n",
              "          element.appendChild(docLink);\n",
              "        }\n",
              "      </script>\n",
              "    </div>\n",
              "  </div>\n",
              "  "
            ],
            "text/plain": [
              "    ID  Min_EKG  Max_EKG    Mean_EKG   STDEV_EKG  Min_GSR  Max_GSR  \\\n",
              "0  1_h      171      650  407.777358  137.906972      132      460   \n",
              "1  2_h      170      650  420.826415  140.368050      130      460   \n",
              "2  3_h      174      649  411.766038  136.412941      131      456   \n",
              "3  4_h      171      650  414.396226  145.213211      139      460   \n",
              "4  5_h      170      650  415.049057  141.312521      131      458   \n",
              "\n",
              "     Mean_GSR  STDEV_GSR  Min_Tep  Max_Tep   Mean_Tep  STDEV_Tep     Label  \n",
              "0  309.290566  95.519882    37.15    39.10  38.103925   0.564672   Neutral  \n",
              "1  291.343396  94.786518    35.68    37.63  36.632566   0.557221  Negative  \n",
              "2  294.433962  93.505167    37.16    38.61  37.878189   0.415849   Neutral  \n",
              "3  299.184906  97.555616    36.75    37.12  36.928604   0.112906   Neutral  \n",
              "4  277.800000  97.853950    36.75    37.12  36.948868   0.111699  Negative  "
            ]
          },
          "execution_count": 2,
          "metadata": {},
          "output_type": "execute_result"
        }
      ],
      "source": [
        "moje_data = pandas.read_csv('ds2.csv',sep=';')\n",
        "moje_data.head()"
      ]
    },
    {
      "cell_type": "code",
      "execution_count": 5,
      "metadata": {
        "id": "LahDXmmR0RCc"
      },
      "outputs": [],
      "source": [
        "from sklearn.tree import DecisionTreeClassifier \n",
        "from sklearn.model_selection import train_test_split \n",
        "from sklearn import metrics "
      ]
    },
    {
      "cell_type": "code",
      "execution_count": 6,
      "metadata": {
        "id": "3_Pc2Zct0iAt"
      },
      "outputs": [],
      "source": [
        "X = moje_data.drop(['ID','Label'], axis=1)\n",
        "y = moje_data['Label']\n",
        "\n",
        "X_train, X_test, y_train, y_test = train_test_split(X, y, test_size = 0.2, random_state = 12)"
      ]
    },
    {
      "cell_type": "code",
      "execution_count": 7,
      "metadata": {
        "id": "MJ-r7E5HrkK_"
      },
      "outputs": [],
      "source": [
        "X_train = X_train.replace((np.inf, -np.inf, np.nan), 0).reset_index(drop=True)"
      ]
    },
    {
      "cell_type": "code",
      "execution_count": 8,
      "metadata": {
        "id": "ihgGVNrKKkw0"
      },
      "outputs": [],
      "source": [
        "\n",
        "from sklearn.preprocessing import StandardScaler\n",
        "\n",
        "scaler = StandardScaler().fit(X_train)\n",
        "X_train_scaled = scaler.transform(X_train)\n",
        "\n",
        "\n",
        "scaler = StandardScaler().fit(X_test)\n",
        "X_test_scaled = scaler.transform(X_test)\n"
      ]
    },
    {
      "cell_type": "code",
      "execution_count": 9,
      "metadata": {
        "id": "xGRfjrSb1Gdb"
      },
      "outputs": [],
      "source": [
        "clf = DecisionTreeClassifier(criterion = \"gini\", splitter = 'best', max_leaf_nodes = 3, min_samples_leaf = 10, max_depth= 10)\n",
        "#clf = DecisionTreeClassifier()"
      ]
    },
    {
      "cell_type": "code",
      "execution_count": 10,
      "metadata": {
        "colab": {
          "base_uri": "https://localhost:8080/"
        },
        "id": "3atDktWW2ORV",
        "outputId": "e9dd7055-05ff-4c79-c3fc-9b3a4b227311"
      },
      "outputs": [
        {
          "name": "stdout",
          "output_type": "stream",
          "text": [
            "CPU times: user 2.03 ms, sys: 7 µs, total: 2.04 ms\n",
            "Wall time: 2.29 ms\n"
          ]
        }
      ],
      "source": [
        "%%time\n",
        "clf = clf.fit(X_train_scaled,y_train,)"
      ]
    },
    {
      "cell_type": "code",
      "execution_count": 11,
      "metadata": {
        "id": "2Nbp5LQG2QoV"
      },
      "outputs": [],
      "source": [
        "y_pred = clf.predict(X_test_scaled)"
      ]
    },
    {
      "cell_type": "code",
      "execution_count": 12,
      "metadata": {
        "colab": {
          "base_uri": "https://localhost:8080/"
        },
        "id": "GhyaA3Vn2WiU",
        "outputId": "bfad6baa-88a3-45ab-9341-f95bf5bc642a"
      },
      "outputs": [
        {
          "name": "stdout",
          "output_type": "stream",
          "text": [
            "Accuracy: 0.6785714285714286\n"
          ]
        }
      ],
      "source": [
        "\n",
        "print(\"Accuracy:\",metrics.accuracy_score(y_test, y_pred))"
      ]
    },
    {
      "cell_type": "code",
      "execution_count": 13,
      "metadata": {
        "colab": {
          "base_uri": "https://localhost:8080/"
        },
        "id": "48aKGqwT5Rur",
        "outputId": "8916271a-e921-4760-91fe-b84b0c7b50d6"
      },
      "outputs": [
        {
          "name": "stdout",
          "output_type": "stream",
          "text": [
            "Presnosť tréningových dát = 0.69\n",
            "Presnosť testovacích dát = 0.68\n"
          ]
        }
      ],
      "source": [
        "train_error = np.round(clf.score(X_train_scaled, y_train), 2)\n",
        "test_error = np.round(clf.score(X_test_scaled, y_test), 2)\n",
        "    \n",
        "print(\"Presnosť tréningových dát = \" + str(train_error))\n",
        "print(\"Presnosť testovacích dát = \" + str(test_error))"
      ]
    },
    {
      "cell_type": "code",
      "execution_count": 14,
      "metadata": {
        "colab": {
          "base_uri": "https://localhost:8080/",
          "height": 845
        },
        "id": "xqMLOhzO6197",
        "outputId": "0d2ffd75-b488-410f-9158-163c36fc9c2d"
      },
      "outputs": [
        {
          "name": "stderr",
          "output_type": "stream",
          "text": [
            "/usr/local/lib/python3.7/dist-packages/sklearn/metrics/_classification.py:1318: UndefinedMetricWarning: Precision and F-score are ill-defined and being set to 0.0 in labels with no predicted samples. Use `zero_division` parameter to control this behavior.\n",
            "  _warn_prf(average, modifier, msg_start, len(result))\n",
            "/usr/local/lib/python3.7/dist-packages/sklearn/metrics/_classification.py:1318: UndefinedMetricWarning: Precision and F-score are ill-defined and being set to 0.0 in labels with no predicted samples. Use `zero_division` parameter to control this behavior.\n",
            "  _warn_prf(average, modifier, msg_start, len(result))\n",
            "/usr/local/lib/python3.7/dist-packages/sklearn/metrics/_classification.py:1318: UndefinedMetricWarning: Precision and F-score are ill-defined and being set to 0.0 in labels with no predicted samples. Use `zero_division` parameter to control this behavior.\n",
            "  _warn_prf(average, modifier, msg_start, len(result))\n"
          ]
        },
        {
          "data": {
            "image/png": "[encoded data removed]",
            "text/plain": [
              "<Figure size 576x576 with 1 Axes>"
            ]
          },
          "metadata": {
            "needs_background": "light"
          },
          "output_type": "display_data"
        },
        {
          "name": "stdout",
          "output_type": "stream",
          "text": [
            "Classification Report:\n",
            "----------------------\n",
            "               precision    recall  f1-score   support\n",
            "\n",
            "    Negative       0.80      0.92      0.86        13\n",
            "    Positive       0.00      0.00      0.00         8\n",
            "     Neutral       0.54      1.00      0.70         7\n",
            "\n",
            "    accuracy                           0.68        28\n",
            "   macro avg       0.45      0.64      0.52        28\n",
            "weighted avg       0.51      0.68      0.57        28\n",
            "\n"
          ]
        }
      ],
      "source": [
        "from sklearn.metrics import confusion_matrix,  classification_report\n",
        "import seaborn as sns\n",
        "import matplotlib.pyplot as plt\n",
        "mapovanie = {'Negative': 0, 'Positive': 1, 'Neutral': 2}\n",
        "#y_pred = np.array(list(map(lambda x: np.argmax(x), clf.predict(X_test_scaled))))\n",
        "\n",
        "cm = confusion_matrix(y_test, y_pred)\n",
        "clr = classification_report(y_test, y_pred, target_names=mapovanie.keys())\n",
        "\n",
        "plt.figure(figsize=(8, 8))\n",
        "sns.heatmap(cm, annot=True, vmin=0, fmt='g', cbar=False, cmap='Blues')\n",
        "plt.xticks(np.arange(3) + 0.5, mapovanie.keys())\n",
        "plt.yticks(np.arange(3) + 0.5, mapovanie.keys())\n",
        "plt.xlabel(\"Klasifikácia\")\n",
        "plt.ylabel(\"Skutočnosť\")\n",
        "plt.title(\"Confusion Matrix\")\n",
        "plt.show()\n",
        "\n",
        "print(\"Classification Report:\\n----------------------\\n\", clr)"
      ]
    }
  ],
  "metadata": {
    "colab": {
      "collapsed_sections": [],
      "name": "Tree_not_overfit_68%_ds2_cm.ipynb",
      "provenance": []
    },
    "kernelspec": {
      "display_name": "Python 3",
      "name": "python3"
    }
  },
  "nbformat": 4,
  "nbformat_minor": 0
}
