{
  "cells": [
    {
      "cell_type": "code",
      "execution_count": 1,
      "metadata": {
        "colab": {
          "base_uri": "https://localhost:8080/"
        },
        "id": "sBvIbRPrskGv",
        "outputId": "933855ca-779d-4bd7-f094-947ff3256dff"
      },
      "outputs": [
        {
          "name": "stdout",
          "output_type": "stream",
          "text": [
            "Requirement already satisfied: keras in /usr/local/lib/python3.7/dist-packages (2.8.0)\n"
          ]
        }
      ],
      "source": [
        "!pip install keras"
      ]
    },
    {
      "cell_type": "code",
      "execution_count": 2,
      "metadata": {
        "id": "WspQ0oK_uMnF"
      },
      "outputs": [],
      "source": [
        "import numpy as np\n",
        "import pandas as pd\n",
        "import matplotlib.pyplot as plt\n",
        "import seaborn as sns\n",
        "from sklearn.model_selection import train_test_split\n",
        "import tensorflow as tf\n",
        "from sklearn.metrics import confusion_matrix, classification_report\n",
        "import keras\n",
        "import numpy as np\n",
        "import matplotlib.pyplot as plt\n",
        "import pandas as pd\n",
        "import seaborn as sns\n",
        "from sklearn.preprocessing import LabelEncoder\n",
        "from sklearn.preprocessing import StandardScaler, OneHotEncoder\n",
        "from sklearn.compose import ColumnTransformer\n",
        "from sklearn.pipeline import Pipeline\n",
        "from sklearn.model_selection import train_test_split\n",
        "from keras.models import Sequential\n",
        "from tensorflow.keras.optimizers import SGD\n",
        "from keras.layers import Dense, Dropout, Activation, BatchNormalization\n",
        "from sklearn.metrics import confusion_matrix,  classification_report\n",
        "from keras.utils.vis_utils import plot_model\n",
        "from tensorflow.keras.utils import to_categorical"
      ]
    },
    {
      "cell_type": "code",
      "execution_count": 3,
      "metadata": {
        "id": "Clr788F1uUJn"
      },
      "outputs": [],
      "source": [
        "data = pd.read_csv('neurokit.csv',sep=';')"
      ]
    },
    {
      "cell_type": "code",
      "execution_count": 4,
      "metadata": {
        "colab": {
          "base_uri": "https://localhost:8080/",
          "height": 661
        },
        "id": "xfWLoULdufjl",
        "outputId": "3c43f0aa-2d1e-4ff6-fc6c-0ac2c92651e9"
      },
      "outputs": [
        {
          "data": {
            "text/html": [
              "\n",
              "  <div id=\"df-ba67bbcc-7946-4ba5-bc62-396f18330943\">\n",
              "    <div class=\"colab-df-container\">\n",
              "      <div>\n",
              "<style scoped>\n",
              "    .dataframe tbody tr th:only-of-type {\n",
              "        vertical-align: middle;\n",
              "    }\n",
              "\n",
              "    .dataframe tbody tr th {\n",
              "        vertical-align: top;\n",
              "    }\n",
              "\n",
              "    .dataframe thead th {\n",
              "        text-align: right;\n",
              "    }\n",
              "</style>\n",
              "<table border=\"1\" class=\"dataframe\">\n",
              "  <thead>\n",
              "    <tr style=\"text-align: right;\">\n",
              "      <th></th>\n",
              "      <th>ID</th>\n",
              "      <th>ECG_Rate_Mean</th>\n",
              "      <th>HRV_MeanNN</th>\n",
              "      <th>HRV_SDNN</th>\n",
              "      <th>HRV_SDANN1</th>\n",
              "      <th>HRV_SDNNI1</th>\n",
              "      <th>HRV_RMSSD</th>\n",
              "      <th>HRV_SDSD</th>\n",
              "      <th>HRV_CVNN</th>\n",
              "      <th>HRV_CVSD</th>\n",
              "      <th>...</th>\n",
              "      <th>HRV_HFD</th>\n",
              "      <th>HRV_KFD</th>\n",
              "      <th>HRV_LZC</th>\n",
              "      <th>SCR_Peaks_N</th>\n",
              "      <th>SCR_Peaks_Amplitude_Mean</th>\n",
              "      <th>Min_Tep</th>\n",
              "      <th>Max_Tep</th>\n",
              "      <th>Mean_Tep</th>\n",
              "      <th>STDEV_Tep</th>\n",
              "      <th>Label</th>\n",
              "    </tr>\n",
              "  </thead>\n",
              "  <tbody>\n",
              "    <tr>\n",
              "      <th>0</th>\n",
              "      <td>3_h</td>\n",
              "      <td>127.634701</td>\n",
              "      <td>473.245614</td>\n",
              "      <td>150.712984</td>\n",
              "      <td>58.920459</td>\n",
              "      <td>121.235178</td>\n",
              "      <td>164.597955</td>\n",
              "      <td>164.742778</td>\n",
              "      <td>0.318467</td>\n",
              "      <td>0.347807</td>\n",
              "      <td>...</td>\n",
              "      <td>1.993155</td>\n",
              "      <td>2.189870</td>\n",
              "      <td>0.931543</td>\n",
              "      <td>40</td>\n",
              "      <td>0.659369</td>\n",
              "      <td>37.15</td>\n",
              "      <td>38.61</td>\n",
              "      <td>37.894830</td>\n",
              "      <td>2.972412e-01</td>\n",
              "      <td>Neutral</td>\n",
              "    </tr>\n",
              "    <tr>\n",
              "      <th>1</th>\n",
              "      <td>5_h</td>\n",
              "      <td>111.367546</td>\n",
              "      <td>539.250000</td>\n",
              "      <td>58.330888</td>\n",
              "      <td>9.528221</td>\n",
              "      <td>57.980129</td>\n",
              "      <td>54.021632</td>\n",
              "      <td>54.075843</td>\n",
              "      <td>0.108170</td>\n",
              "      <td>0.100179</td>\n",
              "      <td>...</td>\n",
              "      <td>1.955297</td>\n",
              "      <td>2.087771</td>\n",
              "      <td>0.699331</td>\n",
              "      <td>35</td>\n",
              "      <td>0.821870</td>\n",
              "      <td>35.68</td>\n",
              "      <td>36.66</td>\n",
              "      <td>36.170000</td>\n",
              "      <td>4.264903e-02</td>\n",
              "      <td>Negative</td>\n",
              "    </tr>\n",
              "    <tr>\n",
              "      <th>2</th>\n",
              "      <td>6_h</td>\n",
              "      <td>63.205824</td>\n",
              "      <td>972.563177</td>\n",
              "      <td>399.763200</td>\n",
              "      <td>69.564970</td>\n",
              "      <td>375.250435</td>\n",
              "      <td>499.610355</td>\n",
              "      <td>500.492116</td>\n",
              "      <td>0.411041</td>\n",
              "      <td>0.513705</td>\n",
              "      <td>...</td>\n",
              "      <td>2.013749</td>\n",
              "      <td>2.613006</td>\n",
              "      <td>1.113077</td>\n",
              "      <td>49</td>\n",
              "      <td>0.712868</td>\n",
              "      <td>36.17</td>\n",
              "      <td>36.66</td>\n",
              "      <td>36.630415</td>\n",
              "      <td>1.169313e-01</td>\n",
              "      <td>Negative</td>\n",
              "    </tr>\n",
              "    <tr>\n",
              "      <th>3</th>\n",
              "      <td>7_h</td>\n",
              "      <td>63.744888</td>\n",
              "      <td>984.814815</td>\n",
              "      <td>536.944546</td>\n",
              "      <td>53.731704</td>\n",
              "      <td>512.384700</td>\n",
              "      <td>760.829497</td>\n",
              "      <td>762.145515</td>\n",
              "      <td>0.545224</td>\n",
              "      <td>0.772561</td>\n",
              "      <td>...</td>\n",
              "      <td>2.018079</td>\n",
              "      <td>3.060609</td>\n",
              "      <td>1.076909</td>\n",
              "      <td>18</td>\n",
              "      <td>1.213596</td>\n",
              "      <td>37.15</td>\n",
              "      <td>37.63</td>\n",
              "      <td>37.256868</td>\n",
              "      <td>2.000672e-01</td>\n",
              "      <td>Neutral</td>\n",
              "    </tr>\n",
              "    <tr>\n",
              "      <th>4</th>\n",
              "      <td>8_h</td>\n",
              "      <td>55.961404</td>\n",
              "      <td>1072.000000</td>\n",
              "      <td>129.044994</td>\n",
              "      <td>27.525674</td>\n",
              "      <td>97.114529</td>\n",
              "      <td>131.507326</td>\n",
              "      <td>131.526180</td>\n",
              "      <td>0.120378</td>\n",
              "      <td>0.122675</td>\n",
              "      <td>...</td>\n",
              "      <td>1.988184</td>\n",
              "      <td>1.442423</td>\n",
              "      <td>0.892168</td>\n",
              "      <td>35</td>\n",
              "      <td>0.672532</td>\n",
              "      <td>37.63</td>\n",
              "      <td>38.12</td>\n",
              "      <td>37.722453</td>\n",
              "      <td>1.920770e-01</td>\n",
              "      <td>Negative</td>\n",
              "    </tr>\n",
              "    <tr>\n",
              "      <th>...</th>\n",
              "      <td>...</td>\n",
              "      <td>...</td>\n",
              "      <td>...</td>\n",
              "      <td>...</td>\n",
              "      <td>...</td>\n",
              "      <td>...</td>\n",
              "      <td>...</td>\n",
              "      <td>...</td>\n",
              "      <td>...</td>\n",
              "      <td>...</td>\n",
              "      <td>...</td>\n",
              "      <td>...</td>\n",
              "      <td>...</td>\n",
              "      <td>...</td>\n",
              "      <td>...</td>\n",
              "      <td>...</td>\n",
              "      <td>...</td>\n",
              "      <td>...</td>\n",
              "      <td>...</td>\n",
              "      <td>...</td>\n",
              "      <td>...</td>\n",
              "    </tr>\n",
              "    <tr>\n",
              "      <th>72</th>\n",
              "      <td>13_z</td>\n",
              "      <td>53.721128</td>\n",
              "      <td>1154.452055</td>\n",
              "      <td>458.869808</td>\n",
              "      <td>0.000000</td>\n",
              "      <td>0.000000</td>\n",
              "      <td>724.125430</td>\n",
              "      <td>729.131622</td>\n",
              "      <td>0.397478</td>\n",
              "      <td>0.627246</td>\n",
              "      <td>...</td>\n",
              "      <td>2.022261</td>\n",
              "      <td>5.627728</td>\n",
              "      <td>1.187090</td>\n",
              "      <td>13</td>\n",
              "      <td>1.263435</td>\n",
              "      <td>35.68</td>\n",
              "      <td>36.17</td>\n",
              "      <td>36.135412</td>\n",
              "      <td>1.262514e-01</td>\n",
              "      <td>Negative</td>\n",
              "    </tr>\n",
              "    <tr>\n",
              "      <th>73</th>\n",
              "      <td>17_z</td>\n",
              "      <td>51.140997</td>\n",
              "      <td>1211.029412</td>\n",
              "      <td>466.576575</td>\n",
              "      <td>0.000000</td>\n",
              "      <td>0.000000</td>\n",
              "      <td>670.924679</td>\n",
              "      <td>675.845200</td>\n",
              "      <td>0.385273</td>\n",
              "      <td>0.554012</td>\n",
              "      <td>...</td>\n",
              "      <td>1.959142</td>\n",
              "      <td>3.397379</td>\n",
              "      <td>1.342823</td>\n",
              "      <td>8</td>\n",
              "      <td>4.770975</td>\n",
              "      <td>35.68</td>\n",
              "      <td>35.68</td>\n",
              "      <td>35.680000</td>\n",
              "      <td>4.288558e-14</td>\n",
              "      <td>Negative</td>\n",
              "    </tr>\n",
              "    <tr>\n",
              "      <th>74</th>\n",
              "      <td>18_z</td>\n",
              "      <td>78.690638</td>\n",
              "      <td>765.366972</td>\n",
              "      <td>402.033435</td>\n",
              "      <td>0.000000</td>\n",
              "      <td>0.000000</td>\n",
              "      <td>313.692170</td>\n",
              "      <td>315.153240</td>\n",
              "      <td>0.525282</td>\n",
              "      <td>0.409859</td>\n",
              "      <td>...</td>\n",
              "      <td>1.870507</td>\n",
              "      <td>1.330114</td>\n",
              "      <td>0.931402</td>\n",
              "      <td>11</td>\n",
              "      <td>2.705936</td>\n",
              "      <td>36.17</td>\n",
              "      <td>36.66</td>\n",
              "      <td>36.648471</td>\n",
              "      <td>7.471383e-02</td>\n",
              "      <td>Negative</td>\n",
              "    </tr>\n",
              "    <tr>\n",
              "      <th>75</th>\n",
              "      <td>19_z</td>\n",
              "      <td>38.579963</td>\n",
              "      <td>1719.791667</td>\n",
              "      <td>1946.757795</td>\n",
              "      <td>0.000000</td>\n",
              "      <td>0.000000</td>\n",
              "      <td>2359.800185</td>\n",
              "      <td>2377.489688</td>\n",
              "      <td>1.131973</td>\n",
              "      <td>1.372143</td>\n",
              "      <td>...</td>\n",
              "      <td>1.914095</td>\n",
              "      <td>1.879271</td>\n",
              "      <td>0.930827</td>\n",
              "      <td>8</td>\n",
              "      <td>1.016711</td>\n",
              "      <td>37.63</td>\n",
              "      <td>38.61</td>\n",
              "      <td>37.872118</td>\n",
              "      <td>3.082713e-01</td>\n",
              "      <td>Negative</td>\n",
              "    </tr>\n",
              "    <tr>\n",
              "      <th>76</th>\n",
              "      <td>20_z</td>\n",
              "      <td>51.915688</td>\n",
              "      <td>1165.714286</td>\n",
              "      <td>590.507204</td>\n",
              "      <td>0.000000</td>\n",
              "      <td>0.000000</td>\n",
              "      <td>590.673283</td>\n",
              "      <td>594.821491</td>\n",
              "      <td>0.506563</td>\n",
              "      <td>0.506705</td>\n",
              "      <td>...</td>\n",
              "      <td>1.843424</td>\n",
              "      <td>2.006862</td>\n",
              "      <td>1.400979</td>\n",
              "      <td>74</td>\n",
              "      <td>0.383242</td>\n",
              "      <td>33.72</td>\n",
              "      <td>34.21</td>\n",
              "      <td>33.806471</td>\n",
              "      <td>1.879064e-01</td>\n",
              "      <td>Negative</td>\n",
              "    </tr>\n",
              "  </tbody>\n",
              "</table>\n",
              "<p>77 rows × 81 columns</p>\n",
              "</div>\n",
              "      <button class=\"colab-df-convert\" onclick=\"convertToInteractive('df-ba67bbcc-7946-4ba5-bc62-396f18330943')\"\n",
              "              title=\"Convert this dataframe to an interactive table.\"\n",
              "              style=\"display:none;\">\n",
              "        \n",
              "  <svg xmlns=\"http://www.w3.org/2000/svg\" height=\"24px\"viewBox=\"0 0 24 24\"\n",
              "       width=\"24px\">\n",
              "    <path d=\"M0 0h24v24H0V0z\" fill=\"none\"/>\n",
              "    <path d=\"M18.56 5.44l.94 2.06.94-2.06 2.06-.94-2.06-.94-.94-2.06-.94 2.06-2.06.94zm-11 1L8.5 8.5l.94-2.06 2.06-.94-2.06-.94L8.5 2.5l-.94 2.06-2.06.94zm10 10l.94 2.06.94-2.06 2.06-.94-2.06-.94-.94-2.06-.94 2.06-2.06.94z\"/><path d=\"M17.41 7.96l-1.37-1.37c-.4-.4-.92-.59-1.43-.59-.52 0-1.04.2-1.43.59L10.3 9.45l-7.72 7.72c-.78.78-.78 2.05 0 2.83L4 21.41c.39.39.9.59 1.41.59.51 0 1.02-.2 1.41-.59l7.78-7.78 2.81-2.81c.8-.78.8-2.07 0-2.86zM5.41 20L4 18.59l7.72-7.72 1.47 1.35L5.41 20z\"/>\n",
              "  </svg>\n",
              "      </button>\n",
              "      \n",
              "  <style>\n",
              "    .colab-df-container {\n",
              "      display:flex;\n",
              "      flex-wrap:wrap;\n",
              "      gap: 12px;\n",
              "    }\n",
              "\n",
              "    .colab-df-convert {\n",
              "      background-color: #E8F0FE;\n",
              "      border: none;\n",
              "      border-radius: 50%;\n",
              "      cursor: pointer;\n",
              "      display: none;\n",
              "      fill: #1967D2;\n",
              "      height: 32px;\n",
              "      padding: 0 0 0 0;\n",
              "      width: 32px;\n",
              "    }\n",
              "\n",
              "    .colab-df-convert:hover {\n",
              "      background-color: #E2EBFA;\n",
              "      box-shadow: 0px 1px 2px rgba(60, 64, 67, 0.3), 0px 1px 3px 1px rgba(60, 64, 67, 0.15);\n",
              "      fill: #174EA6;\n",
              "    }\n",
              "\n",
              "    [theme=dark] .colab-df-convert {\n",
              "      background-color: #3B4455;\n",
              "      fill: #D2E3FC;\n",
              "    }\n",
              "\n",
              "    [theme=dark] .colab-df-convert:hover {\n",
              "      background-color: #434B5C;\n",
              "      box-shadow: 0px 1px 3px 1px rgba(0, 0, 0, 0.15);\n",
              "      filter: drop-shadow(0px 1px 2px rgba(0, 0, 0, 0.3));\n",
              "      fill: #FFFFFF;\n",
              "    }\n",
              "  </style>\n",
              "\n",
              "      <script>\n",
              "        const buttonEl =\n",
              "          document.querySelector('#df-ba67bbcc-7946-4ba5-bc62-396f18330943 button.colab-df-convert');\n",
              "        buttonEl.style.display =\n",
              "          google.colab.kernel.accessAllowed ? 'block' : 'none';\n",
              "\n",
              "        async function convertToInteractive(key) {\n",
              "          const element = document.querySelector('#df-ba67bbcc-7946-4ba5-bc62-396f18330943');\n",
              "          const dataTable =\n",
              "            await google.colab.kernel.invokeFunction('convertToInteractive',\n",
              "                                                     [key], {});\n",
              "          if (!dataTable) return;\n",
              "\n",
              "          const docLinkHtml = 'Like what you see? Visit the ' +\n",
              "            '<a target=\"_blank\" href=https://colab.research.google.com/notebooks/data_table.ipynb>data table notebook</a>'\n",
              "            + ' to learn more about interactive tables.';\n",
              "          element.innerHTML = '';\n",
              "          dataTable['output_type'] = 'display_data';\n",
              "          await google.colab.output.renderOutput(dataTable, element);\n",
              "          const docLink = document.createElement('div');\n",
              "          docLink.innerHTML = docLinkHtml;\n",
              "          element.appendChild(docLink);\n",
              "        }\n",
              "      </script>\n",
              "    </div>\n",
              "  </div>\n",
              "  "
            ],
            "text/plain": [
              "      ID  ECG_Rate_Mean   HRV_MeanNN     HRV_SDNN  HRV_SDANN1  HRV_SDNNI1  \\\n",
              "0    3_h     127.634701   473.245614   150.712984   58.920459  121.235178   \n",
              "1    5_h     111.367546   539.250000    58.330888    9.528221   57.980129   \n",
              "2    6_h      63.205824   972.563177   399.763200   69.564970  375.250435   \n",
              "3    7_h      63.744888   984.814815   536.944546   53.731704  512.384700   \n",
              "4    8_h      55.961404  1072.000000   129.044994   27.525674   97.114529   \n",
              "..   ...            ...          ...          ...         ...         ...   \n",
              "72  13_z      53.721128  1154.452055   458.869808    0.000000    0.000000   \n",
              "73  17_z      51.140997  1211.029412   466.576575    0.000000    0.000000   \n",
              "74  18_z      78.690638   765.366972   402.033435    0.000000    0.000000   \n",
              "75  19_z      38.579963  1719.791667  1946.757795    0.000000    0.000000   \n",
              "76  20_z      51.915688  1165.714286   590.507204    0.000000    0.000000   \n",
              "\n",
              "      HRV_RMSSD     HRV_SDSD  HRV_CVNN  HRV_CVSD  ...   HRV_HFD   HRV_KFD  \\\n",
              "0    164.597955   164.742778  0.318467  0.347807  ...  1.993155  2.189870   \n",
              "1     54.021632    54.075843  0.108170  0.100179  ...  1.955297  2.087771   \n",
              "2    499.610355   500.492116  0.411041  0.513705  ...  2.013749  2.613006   \n",
              "3    760.829497   762.145515  0.545224  0.772561  ...  2.018079  3.060609   \n",
              "4    131.507326   131.526180  0.120378  0.122675  ...  1.988184  1.442423   \n",
              "..          ...          ...       ...       ...  ...       ...       ...   \n",
              "72   724.125430   729.131622  0.397478  0.627246  ...  2.022261  5.627728   \n",
              "73   670.924679   675.845200  0.385273  0.554012  ...  1.959142  3.397379   \n",
              "74   313.692170   315.153240  0.525282  0.409859  ...  1.870507  1.330114   \n",
              "75  2359.800185  2377.489688  1.131973  1.372143  ...  1.914095  1.879271   \n",
              "76   590.673283   594.821491  0.506563  0.506705  ...  1.843424  2.006862   \n",
              "\n",
              "     HRV_LZC  SCR_Peaks_N  SCR_Peaks_Amplitude_Mean  Min_Tep  Max_Tep  \\\n",
              "0   0.931543           40                  0.659369    37.15    38.61   \n",
              "1   0.699331           35                  0.821870    35.68    36.66   \n",
              "2   1.113077           49                  0.712868    36.17    36.66   \n",
              "3   1.076909           18                  1.213596    37.15    37.63   \n",
              "4   0.892168           35                  0.672532    37.63    38.12   \n",
              "..       ...          ...                       ...      ...      ...   \n",
              "72  1.187090           13                  1.263435    35.68    36.17   \n",
              "73  1.342823            8                  4.770975    35.68    35.68   \n",
              "74  0.931402           11                  2.705936    36.17    36.66   \n",
              "75  0.930827            8                  1.016711    37.63    38.61   \n",
              "76  1.400979           74                  0.383242    33.72    34.21   \n",
              "\n",
              "     Mean_Tep     STDEV_Tep     Label  \n",
              "0   37.894830  2.972412e-01   Neutral  \n",
              "1   36.170000  4.264903e-02  Negative  \n",
              "2   36.630415  1.169313e-01  Negative  \n",
              "3   37.256868  2.000672e-01   Neutral  \n",
              "4   37.722453  1.920770e-01  Negative  \n",
              "..        ...           ...       ...  \n",
              "72  36.135412  1.262514e-01  Negative  \n",
              "73  35.680000  4.288558e-14  Negative  \n",
              "74  36.648471  7.471383e-02  Negative  \n",
              "75  37.872118  3.082713e-01  Negative  \n",
              "76  33.806471  1.879064e-01  Negative  \n",
              "\n",
              "[77 rows x 81 columns]"
            ]
          },
          "execution_count": 4,
          "metadata": {},
          "output_type": "execute_result"
        }
      ],
      "source": [
        "#data = data.dropna(axis= 1)\n",
        "data"
      ]
    },
    {
      "cell_type": "markdown",
      "metadata": {
        "id": "vgKVbCYe34cp"
      },
      "source": [
        "# **Kontrola dát**\n"
      ]
    },
    {
      "cell_type": "code",
      "execution_count": 5,
      "metadata": {
        "colab": {
          "base_uri": "https://localhost:8080/"
        },
        "id": "Gm24VWXt2r8C",
        "outputId": "c080f4f0-9f85-4842-cd72-5dfeddfc1225"
      },
      "outputs": [
        {
          "data": {
            "text/plain": [
              "Negative    37\n",
              "Neutral     25\n",
              "Positive    15\n",
              "Name: Label, dtype: int64"
            ]
          },
          "execution_count": 5,
          "metadata": {},
          "output_type": "execute_result"
        }
      ],
      "source": [
        "data['Label'].value_counts()"
      ]
    },
    {
      "cell_type": "markdown",
      "metadata": {
        "id": "05fIj-J1bvyl"
      },
      "source": []
    },
    {
      "cell_type": "code",
      "execution_count": 6,
      "metadata": {
        "id": "CvQmjFEd4Kn5"
      },
      "outputs": [],
      "source": [
        "mapovanie = {'Negative': 0, 'Positive': 1, 'Neutral': 2}"
      ]
    },
    {
      "cell_type": "code",
      "execution_count": 7,
      "metadata": {
        "id": "yEw2AyB64nx6"
      },
      "outputs": [],
      "source": [
        "def preprocesing(df):\n",
        "    df = df.copy()\n",
        "    \n",
        "    df['Label'] = df['Label'].replace(mapovanie)\n",
        "    \n",
        "    y = df['Label'].copy()\n",
        "    X = df.drop(['ID','Label'], axis=1).copy()\n",
        "    \n",
        "    X_train, X_test, y_train, y_test = train_test_split(X, y, train_size=0.8, random_state=12)\n",
        "    \n",
        "    return X_train, X_test, y_train, y_test"
      ]
    },
    {
      "cell_type": "code",
      "execution_count": 8,
      "metadata": {
        "id": "iJL-qArN4zr6"
      },
      "outputs": [],
      "source": [
        "X_train, X_test, y_train, y_test = preprocesing(data)\n",
        "X_train = X_train.replace((np.inf, -np.inf, np.nan), 0).reset_index(drop=True)"
      ]
    },
    {
      "cell_type": "code",
      "execution_count": 9,
      "metadata": {
        "id": "Lge7WHFuBi-k"
      },
      "outputs": [],
      "source": [
        "#X_train = X_train.apply(lambda row: row.fillna(row.mean()), axis=1)\n"
      ]
    },
    {
      "cell_type": "code",
      "execution_count": 10,
      "metadata": {
        "id": "wTi67O7YDYUb"
      },
      "outputs": [],
      "source": [
        "#X_test = X_test.apply(lambda row: row.fillna(row.mean()), axis=1)"
      ]
    },
    {
      "cell_type": "code",
      "execution_count": 11,
      "metadata": {
        "id": "1f3o3n8i8RoJ"
      },
      "outputs": [],
      "source": [
        "\n",
        "from sklearn.preprocessing import StandardScaler\n",
        "\n",
        "scaler = StandardScaler().fit(X_train)\n",
        "X_train_scaled = scaler.transform(X_train)\n",
        "\n",
        "\n",
        "scaler = StandardScaler().fit(X_test)\n",
        "X_test_scaled = scaler.transform(X_test)\n"
      ]
    },
    {
      "cell_type": "code",
      "execution_count": 12,
      "metadata": {
        "id": "Comlswp-44Kq"
      },
      "outputs": [],
      "source": [
        "from keras.layers.core.dropout import Dropout\n",
        "from keras.layers import LeakyReLU\n",
        "from tensorflow.keras import regularizers\n",
        "\n",
        "model = Sequential()\n",
        "model.add(Dense(64, input_dim=79,kernel_regularizer=regularizers.l2(0.001)))\n",
        "model.add(LeakyReLU(alpha=0.01))\n",
        "#model.add(BatchNormalization())\n",
        "model.add(Dropout(0.02))\n",
        "model.add(Dense(32,kernel_regularizer=regularizers.l2(0.001)))\n",
        "model.add(LeakyReLU(alpha=0.01))\n",
        "model.add(Dropout(0.02))\n",
        "model.add(Dense(16,kernel_regularizer=regularizers.l2(0.001)))\n",
        "model.add(LeakyReLU(alpha=0.01))\n",
        "#model.add(BatchNormalization())\n",
        "model.add(Dropout(0.07))\n",
        "model.add(Dense(3, activation= 'softmax'))\n",
        "\n",
        "sgd = SGD(learning_rate=0.1, decay=5e-4, momentum= 0.9,nesterov= True)"
      ]
    },
    {
      "cell_type": "code",
      "execution_count": 13,
      "metadata": {
        "colab": {
          "base_uri": "https://localhost:8080/"
        },
        "id": "mr9DS0Emy553",
        "outputId": "2cc0f4ea-444a-486b-853f-669c75442168"
      },
      "outputs": [
        {
          "name": "stdout",
          "output_type": "stream",
          "text": [
            "Model: \"sequential\"\n",
            "_________________________________________________________________\n",
            " Layer (type)                Output Shape              Param #   \n",
            "=================================================================\n",
            " dense (Dense)               (None, 64)                5120      \n",
            "                                                                 \n",
            " leaky_re_lu (LeakyReLU)     (None, 64)                0         \n",
            "                                                                 \n",
            " dropout (Dropout)           (None, 64)                0         \n",
            "                                                                 \n",
            " dense_1 (Dense)             (None, 32)                2080      \n",
            "                                                                 \n",
            " leaky_re_lu_1 (LeakyReLU)   (None, 32)                0         \n",
            "                                                                 \n",
            " dropout_1 (Dropout)         (None, 32)                0         \n",
            "                                                                 \n",
            " dense_2 (Dense)             (None, 16)                528       \n",
            "                                                                 \n",
            " leaky_re_lu_2 (LeakyReLU)   (None, 16)                0         \n",
            "                                                                 \n",
            " dropout_2 (Dropout)         (None, 16)                0         \n",
            "                                                                 \n",
            " dense_3 (Dense)             (None, 3)                 51        \n",
            "                                                                 \n",
            "=================================================================\n",
            "Total params: 7,779\n",
            "Trainable params: 7,779\n",
            "Non-trainable params: 0\n",
            "_________________________________________________________________\n",
            "None\n"
          ]
        }
      ],
      "source": [
        "print(model.summary())"
      ]
    },
    {
      "cell_type": "code",
      "execution_count": 14,
      "metadata": {
        "id": "TFVYzjC86mPz"
      },
      "outputs": [],
      "source": [
        "\n",
        "model.compile(loss='sparse_categorical_crossentropy', \n",
        "              optimizer= 'Adam', \n",
        "              metrics=['accuracy'])"
      ]
    },
    {
      "cell_type": "code",
      "execution_count": 15,
      "metadata": {
        "colab": {
          "base_uri": "https://localhost:8080/"
        },
        "id": "Oqh8ugF1VV-j",
        "outputId": "dd9e3f83-e748-4306-b8dc-bfa28416be32"
      },
      "outputs": [
        {
          "name": "stdout",
          "output_type": "stream",
          "text": [
            "Epoch 1/100\n",
            "2/2 [==============================] - 2s 493ms/step - loss: 1.4897 - accuracy: 0.2963 - val_loss: 1.3539 - val_accuracy: 0.1429\n",
            "Epoch 2/100\n",
            "2/2 [==============================] - 0s 30ms/step - loss: 1.3540 - accuracy: 0.3704 - val_loss: 1.2673 - val_accuracy: 0.4286\n",
            "Epoch 3/100\n",
            "2/2 [==============================] - 0s 41ms/step - loss: 1.2881 - accuracy: 0.4074 - val_loss: 1.1880 - val_accuracy: 0.5714\n",
            "Epoch 4/100\n",
            "2/2 [==============================] - 0s 30ms/step - loss: 1.2206 - accuracy: 0.3519 - val_loss: 1.1212 - val_accuracy: 0.7143\n",
            "Epoch 5/100\n",
            "2/2 [==============================] - 0s 33ms/step - loss: 1.1262 - accuracy: 0.5185 - val_loss: 1.0740 - val_accuracy: 0.8571\n",
            "Epoch 6/100\n",
            "2/2 [==============================] - 0s 30ms/step - loss: 1.1161 - accuracy: 0.5000 - val_loss: 1.0417 - val_accuracy: 0.8571\n",
            "Epoch 7/100\n",
            "2/2 [==============================] - 0s 38ms/step - loss: 1.0856 - accuracy: 0.5370 - val_loss: 1.0159 - val_accuracy: 0.8571\n",
            "Epoch 8/100\n",
            "2/2 [==============================] - 0s 32ms/step - loss: 1.0396 - accuracy: 0.5926 - val_loss: 0.9979 - val_accuracy: 0.8571\n",
            "Epoch 9/100\n",
            "2/2 [==============================] - 0s 31ms/step - loss: 1.0401 - accuracy: 0.6481 - val_loss: 0.9834 - val_accuracy: 0.7143\n",
            "Epoch 10/100\n",
            "2/2 [==============================] - 0s 55ms/step - loss: 1.0281 - accuracy: 0.5926 - val_loss: 0.9691 - val_accuracy: 0.7143\n",
            "Epoch 11/100\n",
            "2/2 [==============================] - 0s 62ms/step - loss: 0.9795 - accuracy: 0.6667 - val_loss: 0.9557 - val_accuracy: 0.7143\n",
            "Epoch 12/100\n",
            "2/2 [==============================] - 0s 67ms/step - loss: 1.0084 - accuracy: 0.5741 - val_loss: 0.9464 - val_accuracy: 0.7143\n",
            "Epoch 13/100\n",
            "2/2 [==============================] - 0s 57ms/step - loss: 0.9334 - accuracy: 0.6481 - val_loss: 0.9390 - val_accuracy: 0.7143\n",
            "Epoch 14/100\n",
            "2/2 [==============================] - 0s 39ms/step - loss: 0.9786 - accuracy: 0.6111 - val_loss: 0.9338 - val_accuracy: 0.7143\n",
            "Epoch 15/100\n",
            "2/2 [==============================] - 0s 33ms/step - loss: 0.9487 - accuracy: 0.7037 - val_loss: 0.9301 - val_accuracy: 0.7143\n",
            "Epoch 16/100\n",
            "2/2 [==============================] - 0s 46ms/step - loss: 0.9285 - accuracy: 0.7037 - val_loss: 0.9258 - val_accuracy: 0.7143\n",
            "Epoch 17/100\n",
            "2/2 [==============================] - 0s 34ms/step - loss: 0.9242 - accuracy: 0.7407 - val_loss: 0.9207 - val_accuracy: 0.7143\n",
            "Epoch 18/100\n",
            "2/2 [==============================] - 0s 34ms/step - loss: 0.8756 - accuracy: 0.7593 - val_loss: 0.9150 - val_accuracy: 0.7143\n",
            "Epoch 19/100\n",
            "2/2 [==============================] - 0s 32ms/step - loss: 0.8790 - accuracy: 0.7037 - val_loss: 0.9078 - val_accuracy: 0.7143\n",
            "Epoch 20/100\n",
            "2/2 [==============================] - 0s 37ms/step - loss: 0.8297 - accuracy: 0.7963 - val_loss: 0.9032 - val_accuracy: 0.7143\n",
            "Epoch 21/100\n",
            "2/2 [==============================] - 0s 32ms/step - loss: 0.8345 - accuracy: 0.7593 - val_loss: 0.8996 - val_accuracy: 0.7143\n",
            "Epoch 22/100\n",
            "2/2 [==============================] - 0s 34ms/step - loss: 0.7865 - accuracy: 0.8333 - val_loss: 0.8969 - val_accuracy: 0.7143\n",
            "Epoch 23/100\n",
            "2/2 [==============================] - 0s 33ms/step - loss: 0.8198 - accuracy: 0.8148 - val_loss: 0.8939 - val_accuracy: 0.7143\n",
            "Epoch 24/100\n",
            "2/2 [==============================] - 0s 36ms/step - loss: 0.7948 - accuracy: 0.7963 - val_loss: 0.8905 - val_accuracy: 0.7143\n",
            "Epoch 25/100\n",
            "2/2 [==============================] - 0s 31ms/step - loss: 0.7509 - accuracy: 0.8148 - val_loss: 0.8876 - val_accuracy: 0.7143\n",
            "Epoch 26/100\n",
            "2/2 [==============================] - 0s 31ms/step - loss: 0.7923 - accuracy: 0.8148 - val_loss: 0.8856 - val_accuracy: 0.7143\n",
            "Epoch 27/100\n",
            "2/2 [==============================] - 0s 32ms/step - loss: 0.7138 - accuracy: 0.8704 - val_loss: 0.8843 - val_accuracy: 0.7143\n",
            "Epoch 28/100\n",
            "2/2 [==============================] - 0s 32ms/step - loss: 0.7175 - accuracy: 0.8148 - val_loss: 0.8860 - val_accuracy: 0.7143\n",
            "Epoch 29/100\n",
            "2/2 [==============================] - 0s 33ms/step - loss: 0.7429 - accuracy: 0.8519 - val_loss: 0.8874 - val_accuracy: 0.7143\n",
            "Epoch 30/100\n",
            "2/2 [==============================] - 0s 33ms/step - loss: 0.7468 - accuracy: 0.8333 - val_loss: 0.8882 - val_accuracy: 0.7143\n",
            "Epoch 31/100\n",
            "2/2 [==============================] - 0s 48ms/step - loss: 0.7257 - accuracy: 0.8148 - val_loss: 0.8896 - val_accuracy: 0.7143\n",
            "Epoch 32/100\n",
            "2/2 [==============================] - 0s 32ms/step - loss: 0.6407 - accuracy: 0.8889 - val_loss: 0.8930 - val_accuracy: 0.7143\n",
            "CPU times: user 2.95 s, sys: 141 ms, total: 3.09 s\n",
            "Wall time: 3.38 s\n"
          ]
        }
      ],
      "source": [
        "%%time\n",
        "\n",
        "keras_callbacks   = [ tf.keras.callbacks.EarlyStopping(monitor='val_loss', patience=5, mode='min', min_delta=0.0001)]\n",
        "trenovanie = model.fit(X_train_scaled, y_train, batch_size=42, epochs=100, validation_split=0.1, verbose=1,callbacks= keras_callbacks )"
      ]
    },
    {
      "cell_type": "code",
      "execution_count": 17,
      "metadata": {
        "colab": {
          "base_uri": "https://localhost:8080/"
        },
        "id": "-dtmYM3K63Fi",
        "outputId": "ae949cc1-30ae-48f4-e98c-f419426487f5"
      },
      "outputs": [
        {
          "name": "stdout",
          "output_type": "stream",
          "text": [
            "Accuracy: 62.500%\n"
          ]
        }
      ],
      "source": [
        "model_acc = model.evaluate(X_test_scaled, y_test, verbose=0)[1]\n",
        "print(\"Accuracy: {:.3f}%\".format(model_acc * 100))"
      ]
    },
    {
      "cell_type": "code",
      "execution_count": 18,
      "metadata": {
        "colab": {
          "base_uri": "https://localhost:8080/",
          "height": 295
        },
        "id": "nYOqtGTlasl0",
        "outputId": "f2d1413e-d0f8-49ae-d2cc-e94a8c148883"
      },
      "outputs": [
        {
          "data": {
            "image/png": "[encoded data removed]",
            "text/plain": [
              "<Figure size 432x288 with 1 Axes>"
            ]
          },
          "metadata": {
            "needs_background": "light"
          },
          "output_type": "display_data"
        }
      ],
      "source": [
        "plt.plot(trenovanie.history['loss']) \n",
        "plt.plot(trenovanie.history['val_loss']) \n",
        "plt.ylabel('Chyba') \n",
        "plt.xlabel('Iterácia')\n",
        "plt.title('Chyba') \n",
        "plt.legend(['Train', 'Test'], loc='upper right') \n",
        "plt.show()"
      ]
    },
    {
      "cell_type": "code",
      "execution_count": 19,
      "metadata": {
        "colab": {
          "base_uri": "https://localhost:8080/",
          "height": 1000
        },
        "id": "cpbHJFpw9xS-",
        "outputId": "eba48c99-cf01-48c0-848f-864426e43f94"
      },
      "outputs": [
        {
          "data": {
            "image/png": "[encoded data removed]",
            "text/plain": [
              "<IPython.core.display.Image object>"
            ]
          },
          "execution_count": 19,
          "metadata": {},
          "output_type": "execute_result"
        }
      ],
      "source": [
        "from tensorflow.keras.utils import plot_model\n",
        "plot_model(model, to_file='model2.png',show_shapes=True, show_layer_names=True)"
      ]
    }
  ],
  "metadata": {
    "colab": {
      "collapsed_sections": [],
      "name": "Neuronova_siet_diplomovka_62__neurokit.ipynb",
      "provenance": []
    },
    "kernelspec": {
      "display_name": "Python 3",
      "name": "python3"
    },
    "language_info": {
      "name": "python"
    }
  },
  "nbformat": 4,
  "nbformat_minor": 0
}
