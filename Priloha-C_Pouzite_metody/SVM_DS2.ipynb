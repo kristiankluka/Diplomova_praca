{
  "cells": [
    {
      "cell_type": "code",
      "execution_count": 1,
      "metadata": {
        "colab": {
          "base_uri": "https://localhost:8080/"
        },
        "id": "berWdV8rPf7c",
        "outputId": "0041f35f-6896-4dbf-9e28-879e19d713ee"
      },
      "outputs": [
        {
          "name": "stdout",
          "output_type": "stream",
          "text": [
            "(112, 12) (28, 12) (112,) (28,)\n"
          ]
        }
      ],
      "source": [
        "\n",
        "import pandas as pd\n",
        "import numpy as np\n",
        "data = pd.read_csv('ds2.csv', sep=';')\n",
        "features = data.drop(['Label','ID'], axis=1)\n",
        "target = data['Label']\n",
        "from sklearn.model_selection import train_test_split\n",
        "\n",
        "\n",
        "features = features.replace((np.inf, -np.inf, np.nan), 0).reset_index(drop=True)\n",
        "X_train, X_test, y_train, y_test = train_test_split(\n",
        "    features, target,test_size=0.20,random_state=42,stratify=target)\n",
        "print(X_train.shape, X_test.shape, y_train.shape, y_test.shape)\n",
        "\n",
        "\n",
        "from sklearn import preprocessing\n",
        "scaler = preprocessing.StandardScaler() \n",
        "X_train = scaler.fit_transform(X_train, y_train)\n",
        "X_test = scaler.transform(X_test)\n",
        "\n",
        "from sklearn.discriminant_analysis import LinearDiscriminantAnalysis as LDA\n",
        "lda = LDA(n_components=1)\n",
        "X_train = lda.fit_transform(X_train, y_train)\n",
        "X_test = lda.transform(X_test)\n",
        "\n",
        "from sklearn.svm import SVC\n",
        "model = SVC(random_state=42)\n",
        "parameters = {'kernel': ('linear', 'rbf'), 'C': [0.1 , 1, 10], 'gamma': [0.1, 1, 10]}\n",
        "\n",
        "from sklearn.model_selection import KFold\n",
        "cv = KFold(n_splits=5, shuffle=True, random_state=42)\n",
        "\n",
        "from sklearn.model_selection import GridSearchCV\n",
        "clf = GridSearchCV(model, param_grid=parameters, scoring='accuracy', n_jobs=1, cv=cv, refit=True)\n",
        "\n",
        "\n"
      ]
    },
    {
      "cell_type": "code",
      "execution_count": 2,
      "metadata": {
        "colab": {
          "base_uri": "https://localhost:8080/"
        },
        "id": "iYUH50NldUZt",
        "outputId": "7af02c87-4a51-42f2-e5f6-a7be7b1ed1f0"
      },
      "outputs": [
        {
          "name": "stdout",
          "output_type": "stream",
          "text": [
            "CPU times: user 229 ms, sys: 4.31 ms, total: 234 ms\n",
            "Wall time: 237 ms\n"
          ]
        },
        {
          "data": {
            "text/plain": [
              "GridSearchCV(cv=KFold(n_splits=5, random_state=42, shuffle=True),\n",
              "             estimator=SVC(random_state=42), n_jobs=1,\n",
              "             param_grid={'C': [0.1, 1, 10], 'gamma': [0.1, 1, 10],\n",
              "                         'kernel': ('linear', 'rbf')},\n",
              "             scoring='accuracy')"
            ]
          },
          "execution_count": 2,
          "metadata": {},
          "output_type": "execute_result"
        }
      ],
      "source": [
        "%%time\n",
        "clf.fit(X_train, y_train)"
      ]
    },
    {
      "cell_type": "code",
      "execution_count": 3,
      "metadata": {
        "colab": {
          "base_uri": "https://localhost:8080/"
        },
        "id": "-aqH6iF_dRNw",
        "outputId": "140af4a2-9991-4b38-f9da-0548aa17555f"
      },
      "outputs": [
        {
          "name": "stdout",
          "output_type": "stream",
          "text": [
            "Presnosť tréningových dát: 72.73\n",
            "Presnosť klasifikácie dát: 71.43\n"
          ]
        }
      ],
      "source": [
        "from sklearn.model_selection import cross_val_score\n",
        "scores = cross_val_score(clf.best_estimator_, X_train, y_train, scoring='accuracy', cv=cv, n_jobs=-1)\n",
        "print('Presnosť tréningových dát: %0.2f' % (scores.max() * 100))\n",
        "y_pred = clf.best_estimator_.predict(X_test)\n",
        "from sklearn.metrics import accuracy_score\n",
        "print('Presnosť klasifikácie dát: %0.2f' % (accuracy_score(y_test,y_pred) * 100))\n"
      ]
    },
    {
      "cell_type": "code",
      "execution_count": 4,
      "metadata": {
        "colab": {
          "base_uri": "https://localhost:8080/",
          "height": 721
        },
        "id": "0cXkLij4PvaS",
        "outputId": "f1bd9323-c1a1-4571-e467-5f86920e8fd1"
      },
      "outputs": [
        {
          "data": {
            "image/png": "[encoded data removed]",
            "text/plain": [
              "<Figure size 576x576 with 1 Axes>"
            ]
          },
          "metadata": {
            "needs_background": "light"
          },
          "output_type": "display_data"
        },
        {
          "name": "stdout",
          "output_type": "stream",
          "text": [
            "Classification Report:\n",
            "----------------------\n",
            "               precision    recall  f1-score   support\n",
            "\n",
            "    Negative       0.65      0.92      0.76        12\n",
            "    Positive       1.00      0.14      0.25         7\n",
            "     Neutral       0.80      0.89      0.84         9\n",
            "\n",
            "    accuracy                           0.71        28\n",
            "   macro avg       0.82      0.65      0.62        28\n",
            "weighted avg       0.78      0.71      0.66        28\n",
            "\n"
          ]
        }
      ],
      "source": [
        "from sklearn.metrics import confusion_matrix,  classification_report\n",
        "import seaborn as sns\n",
        "import matplotlib.pyplot as plt\n",
        "mapovanie = {'Negative': 0, 'Positive': 1, 'Neutral': 2}\n",
        "#y_pred = np.array(list(map(lambda x: np.argmax(x), clf.predict(X_test_scaled))))\n",
        "\n",
        "cm = confusion_matrix(y_test, y_pred)\n",
        "clr = classification_report(y_test, y_pred, target_names=mapovanie.keys())\n",
        "\n",
        "plt.figure(figsize=(8, 8))\n",
        "sns.heatmap(cm, annot=True, vmin=0, fmt='g', cbar=False, cmap='Blues')\n",
        "plt.xticks(np.arange(3) + 0.5, mapovanie.keys())\n",
        "plt.yticks(np.arange(3) + 0.5, mapovanie.keys())\n",
        "plt.xlabel(\"Klasifikácia\")\n",
        "plt.ylabel(\"Skutočnosť\")\n",
        "plt.title(\"Confusion Matrix\")\n",
        "plt.show()\n",
        "\n",
        "print(\"Classification Report:\\n----------------------\\n\", clr)"
      ]
    }
  ],
  "metadata": {
    "colab": {
      "name": "SVM_2_M_72%.ipynb",
      "provenance": []
    },
    "kernelspec": {
      "display_name": "Python 3",
      "name": "python3"
    },
    "language_info": {
      "name": "python"
    }
  },
  "nbformat": 4,
  "nbformat_minor": 0
}
