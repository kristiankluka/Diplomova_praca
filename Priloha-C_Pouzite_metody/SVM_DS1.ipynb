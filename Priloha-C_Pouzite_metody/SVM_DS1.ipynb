{
  "nbformat": 4,
  "nbformat_minor": 0,
  "metadata": {
    "colab": {
      "name": "SVM_DS1.ipynb",
      "provenance": []
    },
    "kernelspec": {
      "name": "python3",
      "display_name": "Python 3"
    },
    "language_info": {
      "name": "python"
    }
  },
  "cells": [
    {
      "cell_type": "code",
      "execution_count": 1,
      "metadata": {
        "colab": {
          "base_uri": "https://localhost:8080/"
        },
        "id": "berWdV8rPf7c",
        "outputId": "9134e3d9-b148-42d6-a6cd-0a89af59bf67"
      },
      "outputs": [
        {
          "output_type": "stream",
          "name": "stdout",
          "text": [
            "(61, 12) (16, 12) (61,) (16,)\n"
          ]
        }
      ],
      "source": [
        "\n",
        "import pandas as pd\n",
        "import numpy as np\n",
        "data = pd.read_csv('ds1.csv', sep=';')\n",
        "features = data.drop(['Label','ID'], axis=1)\n",
        "target = data['Label']\n",
        "from sklearn.model_selection import train_test_split\n",
        "\n",
        "\n",
        "features = features.replace((np.inf, -np.inf, np.nan), 0).reset_index(drop=True)\n",
        "X_train, X_test, y_train, y_test = train_test_split(\n",
        "    features, target,test_size=0.20,random_state=42,stratify=target)\n",
        "print(X_train.shape, X_test.shape, y_train.shape, y_test.shape)\n",
        "\n",
        "X= X_test\n",
        "\n",
        "from sklearn import preprocessing\n",
        "scaler = preprocessing.StandardScaler() \n",
        "X_train = scaler.fit_transform(X_train, y_train)\n",
        "X_test = scaler.transform(X_test)\n",
        "\n",
        "from sklearn.discriminant_analysis import LinearDiscriminantAnalysis as LDA\n",
        "lda = LDA(n_components=1)\n",
        "X_train = lda.fit_transform(X_train, y_train)\n",
        "X_test = lda.transform(X_test)\n",
        "\n",
        "from sklearn.svm import SVC\n",
        "model = SVC(random_state=42)\n",
        "parameters = {'kernel': ('linear', 'rbf'), 'C': [0.1 , 1, 10], 'gamma': [0.1, 1, 10]}\n",
        "\n",
        "from sklearn.model_selection import KFold\n",
        "cv = KFold(n_splits=5, shuffle=True, random_state=42)\n",
        "\n",
        "from sklearn.model_selection import GridSearchCV\n",
        "clf = GridSearchCV(model, param_grid=parameters, scoring='accuracy', n_jobs=1, cv=cv, refit=True)\n",
        "\n",
        "\n"
      ]
    },
    {
      "cell_type": "code",
      "source": [
        "%%time\n",
        "clf.fit(X_train, y_train)"
      ],
      "metadata": {
        "colab": {
          "base_uri": "https://localhost:8080/"
        },
        "id": "iYUH50NldUZt",
        "outputId": "c31454b7-0928-445d-d808-7183b0f95423"
      },
      "execution_count": 2,
      "outputs": [
        {
          "output_type": "stream",
          "name": "stdout",
          "text": [
            "CPU times: user 250 ms, sys: 3.71 ms, total: 254 ms\n",
            "Wall time: 285 ms\n"
          ]
        },
        {
          "output_type": "execute_result",
          "data": {
            "text/plain": [
              "GridSearchCV(cv=KFold(n_splits=5, random_state=42, shuffle=True),\n",
              "             estimator=SVC(random_state=42), n_jobs=1,\n",
              "             param_grid={'C': [0.1, 1, 10], 'gamma': [0.1, 1, 10],\n",
              "                         'kernel': ('linear', 'rbf')},\n",
              "             scoring='accuracy')"
            ]
          },
          "metadata": {},
          "execution_count": 2
        }
      ]
    },
    {
      "cell_type": "code",
      "source": [
        "from sklearn.model_selection import cross_val_score\n",
        "scores = cross_val_score(clf.best_estimator_, X_train, y_train, scoring='accuracy', cv=cv, n_jobs=-1)\n",
        "print('Presnosť tréningových dát: %0.2f' % (scores.max() * 100))\n",
        "y_pred = clf.best_estimator_.predict(X_test)\n",
        "from sklearn.metrics import accuracy_score\n",
        "print('Presnosť klasifikácie dát: %0.2f' % (accuracy_score(y_test,y_pred) * 100))\n"
      ],
      "metadata": {
        "colab": {
          "base_uri": "https://localhost:8080/"
        },
        "id": "-aqH6iF_dRNw",
        "outputId": "5fc73255-9fd9-4b31-bfe7-d067e19544a1"
      },
      "execution_count": 3,
      "outputs": [
        {
          "output_type": "stream",
          "name": "stdout",
          "text": [
            "Presnosť tréningových dát: 76.92\n",
            "Presnosť klasifikácie dát: 50.00\n"
          ]
        }
      ]
    },
    {
      "cell_type": "code",
      "source": [
        "from sklearn.metrics import confusion_matrix,  classification_report\n",
        "import seaborn as sns\n",
        "import matplotlib.pyplot as plt\n",
        "mapovanie = {'Negative': 0, 'Positive': 1, 'Neutral': 2}\n",
        "#y_pred = np.array(list(map(lambda x: np.argmax(x), clf.predict(X_test_scaled))))\n",
        "\n",
        "cm = confusion_matrix(y_test, y_pred)\n",
        "clr = classification_report(y_test, y_pred, target_names=mapovanie.keys())\n",
        "\n",
        "plt.figure(figsize=(8, 8))\n",
        "sns.heatmap(cm, annot=True, vmin=0, fmt='g', cbar=False, cmap='Blues')\n",
        "plt.xticks(np.arange(3) + 0.5, mapovanie.keys())\n",
        "plt.yticks(np.arange(3) + 0.5, mapovanie.keys())\n",
        "plt.xlabel(\"Klasifikácia\")\n",
        "plt.ylabel(\"Skutočnosť\")\n",
        "plt.title(\"Confusion Matrix\")\n",
        "plt.show()\n",
        "\n",
        "print(\"Classification Report:\\n----------------------\\n\", clr)"
      ],
      "metadata": {
        "id": "0cXkLij4PvaS",
        "colab": {
          "base_uri": "https://localhost:8080/",
          "height": 845
        },
        "outputId": "c81cdbd0-5211-4cbe-808a-8d77fca7f9d4"
      },
      "execution_count": 4,
      "outputs": [
        {
          "output_type": "stream",
          "name": "stderr",
          "text": [
            "/usr/local/lib/python3.7/dist-packages/sklearn/metrics/_classification.py:1318: UndefinedMetricWarning: Precision and F-score are ill-defined and being set to 0.0 in labels with no predicted samples. Use `zero_division` parameter to control this behavior.\n",
            "  _warn_prf(average, modifier, msg_start, len(result))\n",
            "/usr/local/lib/python3.7/dist-packages/sklearn/metrics/_classification.py:1318: UndefinedMetricWarning: Precision and F-score are ill-defined and being set to 0.0 in labels with no predicted samples. Use `zero_division` parameter to control this behavior.\n",
            "  _warn_prf(average, modifier, msg_start, len(result))\n",
            "/usr/local/lib/python3.7/dist-packages/sklearn/metrics/_classification.py:1318: UndefinedMetricWarning: Precision and F-score are ill-defined and being set to 0.0 in labels with no predicted samples. Use `zero_division` parameter to control this behavior.\n",
            "  _warn_prf(average, modifier, msg_start, len(result))\n"
          ]
        },
        {
          "output_type": "display_data",
          "data": {
            "text/plain": [
              "<Figure size 576x576 with 1 Axes>"
            ],
            "image/png": "[encoded data removed]"
          },
          "metadata": {
            "needs_background": "light"
          }
        },
        {
          "output_type": "stream",
          "name": "stdout",
          "text": [
            "Classification Report:\n",
            "----------------------\n",
            "               precision    recall  f1-score   support\n",
            "\n",
            "    Negative       0.55      0.75      0.63         8\n",
            "    Positive       0.40      0.40      0.40         5\n",
            "     Neutral       0.00      0.00      0.00         3\n",
            "\n",
            "    accuracy                           0.50        16\n",
            "   macro avg       0.32      0.38      0.34        16\n",
            "weighted avg       0.40      0.50      0.44        16\n",
            "\n"
          ]
        }
      ]
    }
  ]
}