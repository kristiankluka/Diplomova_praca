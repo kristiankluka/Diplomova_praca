{
  "cells": [
    {
      "cell_type": "code",
      "execution_count": 1,
      "metadata": {
        "colab": {
          "base_uri": "https://localhost:8080/"
        },
        "id": "sBvIbRPrskGv",
        "outputId": "9783d85f-3bec-47c2-895d-5a4932545357"
      },
      "outputs": [
        {
          "name": "stdout",
          "output_type": "stream",
          "text": [
            "Requirement already satisfied: keras in /usr/local/lib/python3.7/dist-packages (2.8.0)\n"
          ]
        }
      ],
      "source": [
        "!pip install keras"
      ]
    },
    {
      "cell_type": "code",
      "execution_count": 2,
      "metadata": {
        "id": "WspQ0oK_uMnF"
      },
      "outputs": [],
      "source": [
        "import numpy as np\n",
        "import pandas as pd\n",
        "import matplotlib.pyplot as plt\n",
        "import seaborn as sns\n",
        "from sklearn.model_selection import train_test_split\n",
        "import tensorflow as tf\n",
        "from sklearn.metrics import confusion_matrix, classification_report\n",
        "import keras\n",
        "import numpy as np\n",
        "import matplotlib.pyplot as plt\n",
        "import pandas as pd\n",
        "import seaborn as sns\n",
        "from sklearn.preprocessing import LabelEncoder\n",
        "from sklearn.preprocessing import StandardScaler, OneHotEncoder\n",
        "from sklearn.compose import ColumnTransformer\n",
        "from sklearn.pipeline import Pipeline\n",
        "from sklearn.model_selection import train_test_split\n",
        "from keras.models import Sequential\n",
        "from tensorflow.keras.optimizers import SGD\n",
        "from keras.layers import Dense, Dropout, Activation, BatchNormalization\n",
        "from sklearn.metrics import confusion_matrix,  classification_report\n",
        "from keras.utils.vis_utils import plot_model\n",
        "from tensorflow.keras.utils import to_categorical"
      ]
    },
    {
      "cell_type": "code",
      "execution_count": 3,
      "metadata": {
        "id": "Clr788F1uUJn"
      },
      "outputs": [],
      "source": [
        "data = pd.read_csv('ds2.csv',sep=';')"
      ]
    },
    {
      "cell_type": "code",
      "execution_count": 4,
      "metadata": {
        "colab": {
          "base_uri": "https://localhost:8080/",
          "height": 424
        },
        "id": "xfWLoULdufjl",
        "outputId": "85e988ba-5193-4cca-bfe7-7387ef892dc2"
      },
      "outputs": [
        {
          "data": {
            "text/html": [
              "\n",
              "  <div id=\"df-56e47ece-7d3f-4889-87da-58c26ba1a0e7\">\n",
              "    <div class=\"colab-df-container\">\n",
              "      <div>\n",
              "<style scoped>\n",
              "    .dataframe tbody tr th:only-of-type {\n",
              "        vertical-align: middle;\n",
              "    }\n",
              "\n",
              "    .dataframe tbody tr th {\n",
              "        vertical-align: top;\n",
              "    }\n",
              "\n",
              "    .dataframe thead th {\n",
              "        text-align: right;\n",
              "    }\n",
              "</style>\n",
              "<table border=\"1\" class=\"dataframe\">\n",
              "  <thead>\n",
              "    <tr style=\"text-align: right;\">\n",
              "      <th></th>\n",
              "      <th>ID</th>\n",
              "      <th>Min_EKG</th>\n",
              "      <th>Max_EKG</th>\n",
              "      <th>Mean_EKG</th>\n",
              "      <th>STDEV_EKG</th>\n",
              "      <th>Min_GSR</th>\n",
              "      <th>Max_GSR</th>\n",
              "      <th>Mean_GSR</th>\n",
              "      <th>STDEV_GSR</th>\n",
              "      <th>Min_Tep</th>\n",
              "      <th>Max_Tep</th>\n",
              "      <th>Mean_Tep</th>\n",
              "      <th>STDEV_Tep</th>\n",
              "      <th>Label</th>\n",
              "    </tr>\n",
              "  </thead>\n",
              "  <tbody>\n",
              "    <tr>\n",
              "      <th>0</th>\n",
              "      <td>1_h</td>\n",
              "      <td>171</td>\n",
              "      <td>650</td>\n",
              "      <td>407.777358</td>\n",
              "      <td>137.906972</td>\n",
              "      <td>132</td>\n",
              "      <td>460</td>\n",
              "      <td>309.290566</td>\n",
              "      <td>95.519882</td>\n",
              "      <td>37.15</td>\n",
              "      <td>39.10</td>\n",
              "      <td>38.103925</td>\n",
              "      <td>0.564672</td>\n",
              "      <td>Neutral</td>\n",
              "    </tr>\n",
              "    <tr>\n",
              "      <th>1</th>\n",
              "      <td>2_h</td>\n",
              "      <td>170</td>\n",
              "      <td>650</td>\n",
              "      <td>420.826415</td>\n",
              "      <td>140.368050</td>\n",
              "      <td>130</td>\n",
              "      <td>460</td>\n",
              "      <td>291.343396</td>\n",
              "      <td>94.786518</td>\n",
              "      <td>35.68</td>\n",
              "      <td>37.63</td>\n",
              "      <td>36.632566</td>\n",
              "      <td>0.557221</td>\n",
              "      <td>Negative</td>\n",
              "    </tr>\n",
              "    <tr>\n",
              "      <th>2</th>\n",
              "      <td>3_h</td>\n",
              "      <td>174</td>\n",
              "      <td>649</td>\n",
              "      <td>411.766038</td>\n",
              "      <td>136.412941</td>\n",
              "      <td>131</td>\n",
              "      <td>456</td>\n",
              "      <td>294.433962</td>\n",
              "      <td>93.505167</td>\n",
              "      <td>37.16</td>\n",
              "      <td>38.61</td>\n",
              "      <td>37.878189</td>\n",
              "      <td>0.415849</td>\n",
              "      <td>Neutral</td>\n",
              "    </tr>\n",
              "    <tr>\n",
              "      <th>3</th>\n",
              "      <td>4_h</td>\n",
              "      <td>171</td>\n",
              "      <td>650</td>\n",
              "      <td>414.396226</td>\n",
              "      <td>145.213211</td>\n",
              "      <td>139</td>\n",
              "      <td>460</td>\n",
              "      <td>299.184906</td>\n",
              "      <td>97.555616</td>\n",
              "      <td>36.75</td>\n",
              "      <td>37.12</td>\n",
              "      <td>36.928604</td>\n",
              "      <td>0.112906</td>\n",
              "      <td>Neutral</td>\n",
              "    </tr>\n",
              "    <tr>\n",
              "      <th>4</th>\n",
              "      <td>5_h</td>\n",
              "      <td>170</td>\n",
              "      <td>650</td>\n",
              "      <td>415.049057</td>\n",
              "      <td>141.312521</td>\n",
              "      <td>131</td>\n",
              "      <td>458</td>\n",
              "      <td>277.800000</td>\n",
              "      <td>97.853950</td>\n",
              "      <td>36.75</td>\n",
              "      <td>37.12</td>\n",
              "      <td>36.948868</td>\n",
              "      <td>0.111699</td>\n",
              "      <td>Negative</td>\n",
              "    </tr>\n",
              "    <tr>\n",
              "      <th>...</th>\n",
              "      <td>...</td>\n",
              "      <td>...</td>\n",
              "      <td>...</td>\n",
              "      <td>...</td>\n",
              "      <td>...</td>\n",
              "      <td>...</td>\n",
              "      <td>...</td>\n",
              "      <td>...</td>\n",
              "      <td>...</td>\n",
              "      <td>...</td>\n",
              "      <td>...</td>\n",
              "      <td>...</td>\n",
              "      <td>...</td>\n",
              "      <td>...</td>\n",
              "    </tr>\n",
              "    <tr>\n",
              "      <th>135</th>\n",
              "      <td>16_z</td>\n",
              "      <td>175</td>\n",
              "      <td>524</td>\n",
              "      <td>360.529412</td>\n",
              "      <td>98.325091</td>\n",
              "      <td>131</td>\n",
              "      <td>320</td>\n",
              "      <td>237.094118</td>\n",
              "      <td>55.566053</td>\n",
              "      <td>36.51</td>\n",
              "      <td>38.78</td>\n",
              "      <td>37.670588</td>\n",
              "      <td>0.695977</td>\n",
              "      <td>Negative</td>\n",
              "    </tr>\n",
              "    <tr>\n",
              "      <th>136</th>\n",
              "      <td>17_z</td>\n",
              "      <td>176</td>\n",
              "      <td>530</td>\n",
              "      <td>331.858824</td>\n",
              "      <td>103.905767</td>\n",
              "      <td>131</td>\n",
              "      <td>318</td>\n",
              "      <td>222.541177</td>\n",
              "      <td>53.065448</td>\n",
              "      <td>36.61</td>\n",
              "      <td>38.78</td>\n",
              "      <td>37.761647</td>\n",
              "      <td>0.660787</td>\n",
              "      <td>Negative</td>\n",
              "    </tr>\n",
              "    <tr>\n",
              "      <th>137</th>\n",
              "      <td>18_z</td>\n",
              "      <td>170</td>\n",
              "      <td>522</td>\n",
              "      <td>346.070588</td>\n",
              "      <td>105.025143</td>\n",
              "      <td>138</td>\n",
              "      <td>320</td>\n",
              "      <td>233.670588</td>\n",
              "      <td>52.125852</td>\n",
              "      <td>36.46</td>\n",
              "      <td>38.75</td>\n",
              "      <td>37.694588</td>\n",
              "      <td>0.690665</td>\n",
              "      <td>Negative</td>\n",
              "    </tr>\n",
              "    <tr>\n",
              "      <th>138</th>\n",
              "      <td>19_z</td>\n",
              "      <td>176</td>\n",
              "      <td>514</td>\n",
              "      <td>333.800000</td>\n",
              "      <td>101.663052</td>\n",
              "      <td>136</td>\n",
              "      <td>319</td>\n",
              "      <td>226.470588</td>\n",
              "      <td>51.480599</td>\n",
              "      <td>36.51</td>\n",
              "      <td>38.79</td>\n",
              "      <td>37.567529</td>\n",
              "      <td>0.663879</td>\n",
              "      <td>Negative</td>\n",
              "    </tr>\n",
              "    <tr>\n",
              "      <th>139</th>\n",
              "      <td>20_z</td>\n",
              "      <td>170</td>\n",
              "      <td>514</td>\n",
              "      <td>346.941176</td>\n",
              "      <td>111.073694</td>\n",
              "      <td>132</td>\n",
              "      <td>320</td>\n",
              "      <td>221.294118</td>\n",
              "      <td>55.138964</td>\n",
              "      <td>36.46</td>\n",
              "      <td>38.76</td>\n",
              "      <td>37.522824</td>\n",
              "      <td>0.653650</td>\n",
              "      <td>Negative</td>\n",
              "    </tr>\n",
              "  </tbody>\n",
              "</table>\n",
              "<p>140 rows × 14 columns</p>\n",
              "</div>\n",
              "      <button class=\"colab-df-convert\" onclick=\"convertToInteractive('df-56e47ece-7d3f-4889-87da-58c26ba1a0e7')\"\n",
              "              title=\"Convert this dataframe to an interactive table.\"\n",
              "              style=\"display:none;\">\n",
              "        \n",
              "  <svg xmlns=\"http://www.w3.org/2000/svg\" height=\"24px\"viewBox=\"0 0 24 24\"\n",
              "       width=\"24px\">\n",
              "    <path d=\"M0 0h24v24H0V0z\" fill=\"none\"/>\n",
              "    <path d=\"M18.56 5.44l.94 2.06.94-2.06 2.06-.94-2.06-.94-.94-2.06-.94 2.06-2.06.94zm-11 1L8.5 8.5l.94-2.06 2.06-.94-2.06-.94L8.5 2.5l-.94 2.06-2.06.94zm10 10l.94 2.06.94-2.06 2.06-.94-2.06-.94-.94-2.06-.94 2.06-2.06.94z\"/><path d=\"M17.41 7.96l-1.37-1.37c-.4-.4-.92-.59-1.43-.59-.52 0-1.04.2-1.43.59L10.3 9.45l-7.72 7.72c-.78.78-.78 2.05 0 2.83L4 21.41c.39.39.9.59 1.41.59.51 0 1.02-.2 1.41-.59l7.78-7.78 2.81-2.81c.8-.78.8-2.07 0-2.86zM5.41 20L4 18.59l7.72-7.72 1.47 1.35L5.41 20z\"/>\n",
              "  </svg>\n",
              "      </button>\n",
              "      \n",
              "  <style>\n",
              "    .colab-df-container {\n",
              "      display:flex;\n",
              "      flex-wrap:wrap;\n",
              "      gap: 12px;\n",
              "    }\n",
              "\n",
              "    .colab-df-convert {\n",
              "      background-color: #E8F0FE;\n",
              "      border: none;\n",
              "      border-radius: 50%;\n",
              "      cursor: pointer;\n",
              "      display: none;\n",
              "      fill: #1967D2;\n",
              "      height: 32px;\n",
              "      padding: 0 0 0 0;\n",
              "      width: 32px;\n",
              "    }\n",
              "\n",
              "    .colab-df-convert:hover {\n",
              "      background-color: #E2EBFA;\n",
              "      box-shadow: 0px 1px 2px rgba(60, 64, 67, 0.3), 0px 1px 3px 1px rgba(60, 64, 67, 0.15);\n",
              "      fill: #174EA6;\n",
              "    }\n",
              "\n",
              "    [theme=dark] .colab-df-convert {\n",
              "      background-color: #3B4455;\n",
              "      fill: #D2E3FC;\n",
              "    }\n",
              "\n",
              "    [theme=dark] .colab-df-convert:hover {\n",
              "      background-color: #434B5C;\n",
              "      box-shadow: 0px 1px 3px 1px rgba(0, 0, 0, 0.15);\n",
              "      filter: drop-shadow(0px 1px 2px rgba(0, 0, 0, 0.3));\n",
              "      fill: #FFFFFF;\n",
              "    }\n",
              "  </style>\n",
              "\n",
              "      <script>\n",
              "        const buttonEl =\n",
              "          document.querySelector('#df-56e47ece-7d3f-4889-87da-58c26ba1a0e7 button.colab-df-convert');\n",
              "        buttonEl.style.display =\n",
              "          google.colab.kernel.accessAllowed ? 'block' : 'none';\n",
              "\n",
              "        async function convertToInteractive(key) {\n",
              "          const element = document.querySelector('#df-56e47ece-7d3f-4889-87da-58c26ba1a0e7');\n",
              "          const dataTable =\n",
              "            await google.colab.kernel.invokeFunction('convertToInteractive',\n",
              "                                                     [key], {});\n",
              "          if (!dataTable) return;\n",
              "\n",
              "          const docLinkHtml = 'Like what you see? Visit the ' +\n",
              "            '<a target=\"_blank\" href=https://colab.research.google.com/notebooks/data_table.ipynb>data table notebook</a>'\n",
              "            + ' to learn more about interactive tables.';\n",
              "          element.innerHTML = '';\n",
              "          dataTable['output_type'] = 'display_data';\n",
              "          await google.colab.output.renderOutput(dataTable, element);\n",
              "          const docLink = document.createElement('div');\n",
              "          docLink.innerHTML = docLinkHtml;\n",
              "          element.appendChild(docLink);\n",
              "        }\n",
              "      </script>\n",
              "    </div>\n",
              "  </div>\n",
              "  "
            ],
            "text/plain": [
              "       ID  Min_EKG  Max_EKG    Mean_EKG   STDEV_EKG  Min_GSR  Max_GSR  \\\n",
              "0     1_h      171      650  407.777358  137.906972      132      460   \n",
              "1     2_h      170      650  420.826415  140.368050      130      460   \n",
              "2     3_h      174      649  411.766038  136.412941      131      456   \n",
              "3     4_h      171      650  414.396226  145.213211      139      460   \n",
              "4     5_h      170      650  415.049057  141.312521      131      458   \n",
              "..    ...      ...      ...         ...         ...      ...      ...   \n",
              "135  16_z      175      524  360.529412   98.325091      131      320   \n",
              "136  17_z      176      530  331.858824  103.905767      131      318   \n",
              "137  18_z      170      522  346.070588  105.025143      138      320   \n",
              "138  19_z      176      514  333.800000  101.663052      136      319   \n",
              "139  20_z      170      514  346.941176  111.073694      132      320   \n",
              "\n",
              "       Mean_GSR  STDEV_GSR  Min_Tep  Max_Tep   Mean_Tep  STDEV_Tep     Label  \n",
              "0    309.290566  95.519882    37.15    39.10  38.103925   0.564672   Neutral  \n",
              "1    291.343396  94.786518    35.68    37.63  36.632566   0.557221  Negative  \n",
              "2    294.433962  93.505167    37.16    38.61  37.878189   0.415849   Neutral  \n",
              "3    299.184906  97.555616    36.75    37.12  36.928604   0.112906   Neutral  \n",
              "4    277.800000  97.853950    36.75    37.12  36.948868   0.111699  Negative  \n",
              "..          ...        ...      ...      ...        ...        ...       ...  \n",
              "135  237.094118  55.566053    36.51    38.78  37.670588   0.695977  Negative  \n",
              "136  222.541177  53.065448    36.61    38.78  37.761647   0.660787  Negative  \n",
              "137  233.670588  52.125852    36.46    38.75  37.694588   0.690665  Negative  \n",
              "138  226.470588  51.480599    36.51    38.79  37.567529   0.663879  Negative  \n",
              "139  221.294118  55.138964    36.46    38.76  37.522824   0.653650  Negative  \n",
              "\n",
              "[140 rows x 14 columns]"
            ]
          },
          "execution_count": 4,
          "metadata": {},
          "output_type": "execute_result"
        }
      ],
      "source": [
        "data"
      ]
    },
    {
      "cell_type": "markdown",
      "metadata": {
        "id": "vgKVbCYe34cp"
      },
      "source": [
        "# **Kontrola dát**\n"
      ]
    },
    {
      "cell_type": "code",
      "execution_count": 5,
      "metadata": {
        "colab": {
          "base_uri": "https://localhost:8080/"
        },
        "id": "Gm24VWXt2r8C",
        "outputId": "f6ae31c8-499d-44c7-96fb-9ca5360fd1e3"
      },
      "outputs": [
        {
          "data": {
            "text/plain": [
              "Negative    60\n",
              "Positive    43\n",
              "Neutral     37\n",
              "Name: Label, dtype: int64"
            ]
          },
          "execution_count": 5,
          "metadata": {},
          "output_type": "execute_result"
        }
      ],
      "source": [
        "data['Label'].value_counts()"
      ]
    },
    {
      "cell_type": "markdown",
      "metadata": {
        "id": "05fIj-J1bvyl"
      },
      "source": []
    },
    {
      "cell_type": "code",
      "execution_count": 6,
      "metadata": {
        "id": "CvQmjFEd4Kn5"
      },
      "outputs": [],
      "source": [
        "mapovanie = {'Negative': 0, 'Positive': 1, 'Neutral': 2}"
      ]
    },
    {
      "cell_type": "code",
      "execution_count": 7,
      "metadata": {
        "id": "yEw2AyB64nx6"
      },
      "outputs": [],
      "source": [
        "def preprocesing(df):\n",
        "    df = df.copy()\n",
        "    \n",
        "    df['Label'] = df['Label'].replace(mapovanie)\n",
        "    \n",
        "    y = df['Label'].copy()\n",
        "    X = df.drop(['ID','Label'], axis=1).copy()\n",
        "    \n",
        "    X_train, X_test, y_train, y_test = train_test_split(X, y, train_size=0.8, random_state=12)\n",
        "    \n",
        "    return X_train, X_test, y_train, y_test"
      ]
    },
    {
      "cell_type": "code",
      "execution_count": 8,
      "metadata": {
        "id": "iJL-qArN4zr6"
      },
      "outputs": [],
      "source": [
        "X_train, X_test, y_train, y_test = preprocesing(data)\n",
        "#X_train = X_train.replace((np.inf, -np.inf, np.nan), 0).reset_index(drop=True)"
      ]
    },
    {
      "cell_type": "code",
      "execution_count": 9,
      "metadata": {
        "id": "Lge7WHFuBi-k"
      },
      "outputs": [],
      "source": [
        "#X_train = X_train.apply(lambda row: row.fillna(row.mean()), axis=1)\n"
      ]
    },
    {
      "cell_type": "code",
      "execution_count": 10,
      "metadata": {
        "id": "wTi67O7YDYUb"
      },
      "outputs": [],
      "source": [
        "#X_test = X_test.apply(lambda row: row.fillna(row.mean()), axis=1)"
      ]
    },
    {
      "cell_type": "code",
      "execution_count": 11,
      "metadata": {
        "id": "1f3o3n8i8RoJ"
      },
      "outputs": [],
      "source": [
        "\n",
        "from sklearn.preprocessing import StandardScaler\n",
        "\n",
        "scaler = StandardScaler().fit(X_train)\n",
        "X_train_scaled = scaler.transform(X_train)\n",
        "\n",
        "\n",
        "scaler = StandardScaler().fit(X_test)\n",
        "X_test_scaled = scaler.transform(X_test)\n"
      ]
    },
    {
      "cell_type": "code",
      "execution_count": 12,
      "metadata": {
        "id": "Comlswp-44Kq"
      },
      "outputs": [],
      "source": [
        "from keras.layers.core.dropout import Dropout\n",
        "from keras.layers import LeakyReLU\n",
        "from tensorflow.keras import regularizers\n",
        "\n",
        "model = Sequential()\n",
        "model.add(Dense(32, input_dim=12,kernel_regularizer=regularizers.l2(0.001)))\n",
        "model.add(LeakyReLU(alpha=0.02))\n",
        "#model.add(BatchNormalization())\n",
        "#model.add(Dropout(0.02))\n",
        "model.add(Dense(16,kernel_regularizer=regularizers.l2(0.001)))\n",
        "model.add(LeakyReLU(alpha=0.02))\n",
        "#model.add(Dropout(0.02))\n",
        "model.add(Dense(8,kernel_regularizer=regularizers.l2(0.001)))\n",
        "model.add(LeakyReLU(alpha=0.02))\n",
        "#model.add(BatchNormalization())\n",
        "model.add(Dropout(0.02))\n",
        "model.add(Dense(3, activation= 'softmax'))\n",
        "\n",
        "sgd = SGD(learning_rate=0.05, decay=5e-4, momentum= 0.9,nesterov= True)"
      ]
    },
    {
      "cell_type": "code",
      "execution_count": 13,
      "metadata": {
        "colab": {
          "base_uri": "https://localhost:8080/"
        },
        "id": "mr9DS0Emy553",
        "outputId": "e47d0709-1cf8-42ab-de86-7b99a0932b92"
      },
      "outputs": [
        {
          "name": "stdout",
          "output_type": "stream",
          "text": [
            "Model: \"sequential\"\n",
            "_________________________________________________________________\n",
            " Layer (type)                Output Shape              Param #   \n",
            "=================================================================\n",
            " dense (Dense)               (None, 32)                416       \n",
            "                                                                 \n",
            " leaky_re_lu (LeakyReLU)     (None, 32)                0         \n",
            "                                                                 \n",
            " dense_1 (Dense)             (None, 16)                528       \n",
            "                                                                 \n",
            " leaky_re_lu_1 (LeakyReLU)   (None, 16)                0         \n",
            "                                                                 \n",
            " dense_2 (Dense)             (None, 8)                 136       \n",
            "                                                                 \n",
            " leaky_re_lu_2 (LeakyReLU)   (None, 8)                 0         \n",
            "                                                                 \n",
            " dropout (Dropout)           (None, 8)                 0         \n",
            "                                                                 \n",
            " dense_3 (Dense)             (None, 3)                 27        \n",
            "                                                                 \n",
            "=================================================================\n",
            "Total params: 1,107\n",
            "Trainable params: 1,107\n",
            "Non-trainable params: 0\n",
            "_________________________________________________________________\n",
            "None\n"
          ]
        }
      ],
      "source": [
        "print(model.summary())"
      ]
    },
    {
      "cell_type": "code",
      "execution_count": 14,
      "metadata": {
        "id": "TFVYzjC86mPz"
      },
      "outputs": [],
      "source": [
        "\n",
        "model.compile(loss='sparse_categorical_crossentropy', \n",
        "              optimizer= 'Adamax', \n",
        "              metrics=['accuracy'])"
      ]
    },
    {
      "cell_type": "code",
      "execution_count": 15,
      "metadata": {
        "colab": {
          "base_uri": "https://localhost:8080/"
        },
        "id": "Oqh8ugF1VV-j",
        "outputId": "8fc298a8-cedb-4355-bb4a-4856ee110343"
      },
      "outputs": [
        {
          "name": "stdout",
          "output_type": "stream",
          "text": [
            "Epoch 1/100\n",
            "3/3 [==============================] - 1s 151ms/step - loss: 1.4270 - accuracy: 0.3258 - val_loss: 1.5120 - val_accuracy: 0.1739\n",
            "Epoch 2/100\n",
            "3/3 [==============================] - 0s 31ms/step - loss: 1.3547 - accuracy: 0.3483 - val_loss: 1.4596 - val_accuracy: 0.1739\n",
            "Epoch 3/100\n",
            "3/3 [==============================] - 0s 27ms/step - loss: 1.3351 - accuracy: 0.3258 - val_loss: 1.4153 - val_accuracy: 0.1739\n",
            "Epoch 4/100\n",
            "3/3 [==============================] - 0s 25ms/step - loss: 1.2899 - accuracy: 0.3146 - val_loss: 1.3776 - val_accuracy: 0.2609\n",
            "Epoch 5/100\n",
            "3/3 [==============================] - 0s 23ms/step - loss: 1.2673 - accuracy: 0.3820 - val_loss: 1.3441 - val_accuracy: 0.3043\n",
            "Epoch 6/100\n",
            "3/3 [==============================] - 0s 16ms/step - loss: 1.2365 - accuracy: 0.4045 - val_loss: 1.3158 - val_accuracy: 0.3478\n",
            "Epoch 7/100\n",
            "3/3 [==============================] - 0s 17ms/step - loss: 1.2137 - accuracy: 0.4382 - val_loss: 1.2913 - val_accuracy: 0.3913\n",
            "Epoch 8/100\n",
            "3/3 [==============================] - 0s 15ms/step - loss: 1.1887 - accuracy: 0.4607 - val_loss: 1.2668 - val_accuracy: 0.3913\n",
            "Epoch 9/100\n",
            "3/3 [==============================] - 0s 23ms/step - loss: 1.1662 - accuracy: 0.4607 - val_loss: 1.2429 - val_accuracy: 0.3913\n",
            "Epoch 10/100\n",
            "3/3 [==============================] - 0s 19ms/step - loss: 1.1551 - accuracy: 0.4157 - val_loss: 1.2211 - val_accuracy: 0.3913\n",
            "Epoch 11/100\n",
            "3/3 [==============================] - 0s 19ms/step - loss: 1.1375 - accuracy: 0.4270 - val_loss: 1.1990 - val_accuracy: 0.3913\n",
            "Epoch 12/100\n",
            "3/3 [==============================] - 0s 18ms/step - loss: 1.1151 - accuracy: 0.4157 - val_loss: 1.1775 - val_accuracy: 0.3913\n",
            "Epoch 13/100\n",
            "3/3 [==============================] - 0s 28ms/step - loss: 1.0961 - accuracy: 0.4157 - val_loss: 1.1564 - val_accuracy: 0.3913\n",
            "Epoch 14/100\n",
            "3/3 [==============================] - 0s 15ms/step - loss: 1.0881 - accuracy: 0.4382 - val_loss: 1.1353 - val_accuracy: 0.3913\n",
            "Epoch 15/100\n",
            "3/3 [==============================] - 0s 17ms/step - loss: 1.0737 - accuracy: 0.4157 - val_loss: 1.1161 - val_accuracy: 0.3913\n",
            "Epoch 16/100\n",
            "3/3 [==============================] - 0s 20ms/step - loss: 1.0562 - accuracy: 0.4045 - val_loss: 1.0982 - val_accuracy: 0.3913\n",
            "Epoch 17/100\n",
            "3/3 [==============================] - 0s 15ms/step - loss: 1.0401 - accuracy: 0.4382 - val_loss: 1.0809 - val_accuracy: 0.4348\n",
            "Epoch 18/100\n",
            "3/3 [==============================] - 0s 17ms/step - loss: 1.0341 - accuracy: 0.4270 - val_loss: 1.0637 - val_accuracy: 0.4348\n",
            "Epoch 19/100\n",
            "3/3 [==============================] - 0s 24ms/step - loss: 1.0335 - accuracy: 0.4382 - val_loss: 1.0486 - val_accuracy: 0.4783\n",
            "Epoch 20/100\n",
            "3/3 [==============================] - 0s 16ms/step - loss: 1.0177 - accuracy: 0.4831 - val_loss: 1.0345 - val_accuracy: 0.4783\n",
            "Epoch 21/100\n",
            "3/3 [==============================] - 0s 21ms/step - loss: 1.0082 - accuracy: 0.4944 - val_loss: 1.0225 - val_accuracy: 0.5217\n",
            "Epoch 22/100\n",
            "3/3 [==============================] - 0s 16ms/step - loss: 0.9975 - accuracy: 0.5056 - val_loss: 1.0120 - val_accuracy: 0.5217\n",
            "Epoch 23/100\n",
            "3/3 [==============================] - 0s 19ms/step - loss: 0.9816 - accuracy: 0.5056 - val_loss: 1.0033 - val_accuracy: 0.5217\n",
            "Epoch 24/100\n",
            "3/3 [==============================] - 0s 16ms/step - loss: 0.9855 - accuracy: 0.4944 - val_loss: 0.9955 - val_accuracy: 0.5217\n",
            "Epoch 25/100\n",
            "3/3 [==============================] - 0s 16ms/step - loss: 0.9821 - accuracy: 0.5281 - val_loss: 0.9886 - val_accuracy: 0.5652\n",
            "Epoch 26/100\n",
            "3/3 [==============================] - 0s 29ms/step - loss: 0.9681 - accuracy: 0.5730 - val_loss: 0.9827 - val_accuracy: 0.5652\n",
            "Epoch 27/100\n",
            "3/3 [==============================] - 0s 46ms/step - loss: 0.9767 - accuracy: 0.5393 - val_loss: 0.9781 - val_accuracy: 0.5652\n",
            "Epoch 28/100\n",
            "3/3 [==============================] - 0s 53ms/step - loss: 0.9737 - accuracy: 0.5618 - val_loss: 0.9742 - val_accuracy: 0.6087\n",
            "Epoch 29/100\n",
            "3/3 [==============================] - 0s 30ms/step - loss: 0.9690 - accuracy: 0.5843 - val_loss: 0.9705 - val_accuracy: 0.6087\n",
            "Epoch 30/100\n",
            "3/3 [==============================] - 0s 29ms/step - loss: 0.9711 - accuracy: 0.5618 - val_loss: 0.9670 - val_accuracy: 0.6087\n",
            "Epoch 31/100\n",
            "3/3 [==============================] - 0s 23ms/step - loss: 0.9605 - accuracy: 0.5955 - val_loss: 0.9634 - val_accuracy: 0.6087\n",
            "Epoch 32/100\n",
            "3/3 [==============================] - 0s 24ms/step - loss: 0.9637 - accuracy: 0.5955 - val_loss: 0.9601 - val_accuracy: 0.6087\n",
            "Epoch 33/100\n",
            "3/3 [==============================] - 0s 26ms/step - loss: 0.9606 - accuracy: 0.6404 - val_loss: 0.9570 - val_accuracy: 0.6087\n",
            "Epoch 34/100\n",
            "3/3 [==============================] - 0s 24ms/step - loss: 0.9524 - accuracy: 0.6067 - val_loss: 0.9542 - val_accuracy: 0.6087\n",
            "Epoch 35/100\n",
            "3/3 [==============================] - 0s 23ms/step - loss: 0.9548 - accuracy: 0.5955 - val_loss: 0.9516 - val_accuracy: 0.6087\n",
            "Epoch 36/100\n",
            "3/3 [==============================] - 0s 36ms/step - loss: 0.9471 - accuracy: 0.6180 - val_loss: 0.9488 - val_accuracy: 0.6087\n",
            "Epoch 37/100\n",
            "3/3 [==============================] - 0s 24ms/step - loss: 0.9455 - accuracy: 0.6292 - val_loss: 0.9461 - val_accuracy: 0.6087\n",
            "Epoch 38/100\n",
            "3/3 [==============================] - 0s 27ms/step - loss: 0.9466 - accuracy: 0.6404 - val_loss: 0.9437 - val_accuracy: 0.6087\n",
            "Epoch 39/100\n",
            "3/3 [==============================] - 0s 24ms/step - loss: 0.9499 - accuracy: 0.6292 - val_loss: 0.9414 - val_accuracy: 0.6087\n",
            "Epoch 40/100\n",
            "3/3 [==============================] - 0s 29ms/step - loss: 0.9351 - accuracy: 0.6404 - val_loss: 0.9390 - val_accuracy: 0.6087\n",
            "Epoch 41/100\n",
            "3/3 [==============================] - 0s 25ms/step - loss: 0.9349 - accuracy: 0.6292 - val_loss: 0.9371 - val_accuracy: 0.6087\n",
            "Epoch 42/100\n",
            "3/3 [==============================] - 0s 37ms/step - loss: 0.9422 - accuracy: 0.6292 - val_loss: 0.9351 - val_accuracy: 0.6087\n",
            "Epoch 43/100\n",
            "3/3 [==============================] - 0s 38ms/step - loss: 0.9424 - accuracy: 0.6180 - val_loss: 0.9330 - val_accuracy: 0.6087\n",
            "Epoch 44/100\n",
            "3/3 [==============================] - 0s 28ms/step - loss: 0.9335 - accuracy: 0.6517 - val_loss: 0.9311 - val_accuracy: 0.6087\n",
            "Epoch 45/100\n",
            "3/3 [==============================] - 0s 43ms/step - loss: 0.9352 - accuracy: 0.6404 - val_loss: 0.9293 - val_accuracy: 0.6087\n",
            "Epoch 46/100\n",
            "3/3 [==============================] - 0s 26ms/step - loss: 0.9288 - accuracy: 0.6292 - val_loss: 0.9270 - val_accuracy: 0.5217\n",
            "Epoch 47/100\n",
            "3/3 [==============================] - 0s 39ms/step - loss: 0.9297 - accuracy: 0.6180 - val_loss: 0.9252 - val_accuracy: 0.5217\n",
            "Epoch 48/100\n",
            "3/3 [==============================] - 0s 32ms/step - loss: 0.9211 - accuracy: 0.6067 - val_loss: 0.9236 - val_accuracy: 0.5217\n",
            "Epoch 49/100\n",
            "3/3 [==============================] - 0s 26ms/step - loss: 0.9331 - accuracy: 0.6067 - val_loss: 0.9221 - val_accuracy: 0.5217\n",
            "Epoch 50/100\n",
            "3/3 [==============================] - 0s 23ms/step - loss: 0.9223 - accuracy: 0.6180 - val_loss: 0.9203 - val_accuracy: 0.5217\n",
            "Epoch 51/100\n",
            "3/3 [==============================] - 0s 30ms/step - loss: 0.9213 - accuracy: 0.6067 - val_loss: 0.9187 - val_accuracy: 0.5652\n",
            "Epoch 52/100\n",
            "3/3 [==============================] - 0s 24ms/step - loss: 0.9162 - accuracy: 0.6292 - val_loss: 0.9172 - val_accuracy: 0.5652\n",
            "Epoch 53/100\n",
            "3/3 [==============================] - 0s 53ms/step - loss: 0.9180 - accuracy: 0.6517 - val_loss: 0.9158 - val_accuracy: 0.5652\n",
            "Epoch 54/100\n",
            "3/3 [==============================] - 0s 35ms/step - loss: 0.9129 - accuracy: 0.6180 - val_loss: 0.9145 - val_accuracy: 0.5652\n",
            "Epoch 55/100\n",
            "3/3 [==============================] - 0s 26ms/step - loss: 0.9144 - accuracy: 0.6292 - val_loss: 0.9131 - val_accuracy: 0.5652\n",
            "Epoch 56/100\n",
            "3/3 [==============================] - 0s 23ms/step - loss: 0.9173 - accuracy: 0.6404 - val_loss: 0.9116 - val_accuracy: 0.5652\n",
            "Epoch 57/100\n",
            "3/3 [==============================] - 0s 34ms/step - loss: 0.9134 - accuracy: 0.6629 - val_loss: 0.9103 - val_accuracy: 0.5652\n",
            "Epoch 58/100\n",
            "3/3 [==============================] - 0s 23ms/step - loss: 0.9110 - accuracy: 0.6629 - val_loss: 0.9090 - val_accuracy: 0.5652\n",
            "Epoch 59/100\n",
            "3/3 [==============================] - 0s 29ms/step - loss: 0.9194 - accuracy: 0.6629 - val_loss: 0.9075 - val_accuracy: 0.5652\n",
            "Epoch 60/100\n",
            "3/3 [==============================] - 0s 25ms/step - loss: 0.9146 - accuracy: 0.6742 - val_loss: 0.9060 - val_accuracy: 0.5652\n",
            "Epoch 61/100\n",
            "3/3 [==============================] - 0s 49ms/step - loss: 0.9152 - accuracy: 0.6742 - val_loss: 0.9046 - val_accuracy: 0.5652\n",
            "Epoch 62/100\n",
            "3/3 [==============================] - 0s 38ms/step - loss: 0.9054 - accuracy: 0.6629 - val_loss: 0.9029 - val_accuracy: 0.5652\n",
            "Epoch 63/100\n",
            "3/3 [==============================] - 0s 27ms/step - loss: 0.9043 - accuracy: 0.6517 - val_loss: 0.9015 - val_accuracy: 0.5652\n",
            "Epoch 64/100\n",
            "3/3 [==============================] - 0s 22ms/step - loss: 0.9014 - accuracy: 0.6629 - val_loss: 0.9002 - val_accuracy: 0.5652\n",
            "Epoch 65/100\n",
            "3/3 [==============================] - 0s 26ms/step - loss: 0.9012 - accuracy: 0.6629 - val_loss: 0.8990 - val_accuracy: 0.5652\n",
            "Epoch 66/100\n",
            "3/3 [==============================] - 0s 24ms/step - loss: 0.9078 - accuracy: 0.6404 - val_loss: 0.8979 - val_accuracy: 0.6087\n",
            "Epoch 67/100\n",
            "3/3 [==============================] - 0s 30ms/step - loss: 0.9029 - accuracy: 0.6629 - val_loss: 0.8967 - val_accuracy: 0.6087\n",
            "Epoch 68/100\n",
            "3/3 [==============================] - 0s 38ms/step - loss: 0.9109 - accuracy: 0.6629 - val_loss: 0.8958 - val_accuracy: 0.6087\n",
            "Epoch 69/100\n",
            "3/3 [==============================] - 0s 42ms/step - loss: 0.8936 - accuracy: 0.6629 - val_loss: 0.8950 - val_accuracy: 0.6087\n",
            "Epoch 70/100\n",
            "3/3 [==============================] - 0s 23ms/step - loss: 0.8912 - accuracy: 0.6742 - val_loss: 0.8941 - val_accuracy: 0.6087\n",
            "Epoch 71/100\n",
            "3/3 [==============================] - 0s 41ms/step - loss: 0.8956 - accuracy: 0.6629 - val_loss: 0.8933 - val_accuracy: 0.6087\n",
            "Epoch 72/100\n",
            "3/3 [==============================] - 0s 23ms/step - loss: 0.8912 - accuracy: 0.6854 - val_loss: 0.8925 - val_accuracy: 0.6087\n",
            "Epoch 73/100\n",
            "3/3 [==============================] - 0s 53ms/step - loss: 0.8958 - accuracy: 0.6854 - val_loss: 0.8914 - val_accuracy: 0.6087\n",
            "Epoch 74/100\n",
            "3/3 [==============================] - 0s 30ms/step - loss: 0.8942 - accuracy: 0.6854 - val_loss: 0.8907 - val_accuracy: 0.6087\n",
            "Epoch 75/100\n",
            "3/3 [==============================] - 0s 25ms/step - loss: 0.9050 - accuracy: 0.7079 - val_loss: 0.8898 - val_accuracy: 0.6087\n",
            "Epoch 76/100\n",
            "3/3 [==============================] - 0s 26ms/step - loss: 0.8791 - accuracy: 0.6854 - val_loss: 0.8890 - val_accuracy: 0.6087\n",
            "Epoch 77/100\n",
            "3/3 [==============================] - 0s 32ms/step - loss: 0.8872 - accuracy: 0.6854 - val_loss: 0.8878 - val_accuracy: 0.6087\n",
            "Epoch 78/100\n",
            "3/3 [==============================] - 0s 31ms/step - loss: 0.8903 - accuracy: 0.6854 - val_loss: 0.8867 - val_accuracy: 0.6087\n",
            "Epoch 79/100\n",
            "3/3 [==============================] - 0s 46ms/step - loss: 0.8850 - accuracy: 0.7079 - val_loss: 0.8856 - val_accuracy: 0.6087\n",
            "Epoch 80/100\n",
            "3/3 [==============================] - 0s 22ms/step - loss: 0.8766 - accuracy: 0.7079 - val_loss: 0.8845 - val_accuracy: 0.6087\n",
            "Epoch 81/100\n",
            "3/3 [==============================] - 0s 40ms/step - loss: 0.8860 - accuracy: 0.7079 - val_loss: 0.8838 - val_accuracy: 0.6087\n",
            "Epoch 82/100\n",
            "3/3 [==============================] - 0s 23ms/step - loss: 0.8845 - accuracy: 0.6966 - val_loss: 0.8829 - val_accuracy: 0.6087\n",
            "Epoch 83/100\n",
            "3/3 [==============================] - 0s 21ms/step - loss: 0.8804 - accuracy: 0.7079 - val_loss: 0.8822 - val_accuracy: 0.6087\n",
            "Epoch 84/100\n",
            "3/3 [==============================] - 0s 46ms/step - loss: 0.8852 - accuracy: 0.7079 - val_loss: 0.8816 - val_accuracy: 0.6087\n",
            "Epoch 85/100\n",
            "3/3 [==============================] - 0s 26ms/step - loss: 0.8803 - accuracy: 0.7303 - val_loss: 0.8806 - val_accuracy: 0.6087\n",
            "Epoch 86/100\n",
            "3/3 [==============================] - 0s 52ms/step - loss: 0.8800 - accuracy: 0.7191 - val_loss: 0.8798 - val_accuracy: 0.6087\n",
            "Epoch 87/100\n",
            "3/3 [==============================] - 0s 24ms/step - loss: 0.8733 - accuracy: 0.7303 - val_loss: 0.8790 - val_accuracy: 0.6087\n",
            "Epoch 88/100\n",
            "3/3 [==============================] - 0s 25ms/step - loss: 0.8784 - accuracy: 0.7303 - val_loss: 0.8783 - val_accuracy: 0.6087\n",
            "Epoch 89/100\n",
            "3/3 [==============================] - 0s 27ms/step - loss: 0.8705 - accuracy: 0.7303 - val_loss: 0.8774 - val_accuracy: 0.6087\n",
            "Epoch 90/100\n",
            "3/3 [==============================] - 0s 26ms/step - loss: 0.8759 - accuracy: 0.7640 - val_loss: 0.8768 - val_accuracy: 0.6087\n",
            "Epoch 91/100\n",
            "3/3 [==============================] - 0s 38ms/step - loss: 0.8616 - accuracy: 0.7416 - val_loss: 0.8757 - val_accuracy: 0.6087\n",
            "Epoch 92/100\n",
            "3/3 [==============================] - 0s 45ms/step - loss: 0.8669 - accuracy: 0.7416 - val_loss: 0.8747 - val_accuracy: 0.6087\n",
            "Epoch 93/100\n",
            "3/3 [==============================] - 0s 24ms/step - loss: 0.8645 - accuracy: 0.7416 - val_loss: 0.8738 - val_accuracy: 0.6522\n",
            "Epoch 94/100\n",
            "3/3 [==============================] - 0s 33ms/step - loss: 0.8723 - accuracy: 0.7416 - val_loss: 0.8725 - val_accuracy: 0.6522\n",
            "Epoch 95/100\n",
            "3/3 [==============================] - 0s 30ms/step - loss: 0.8671 - accuracy: 0.7416 - val_loss: 0.8713 - val_accuracy: 0.6522\n",
            "Epoch 96/100\n",
            "3/3 [==============================] - 0s 34ms/step - loss: 0.8633 - accuracy: 0.7416 - val_loss: 0.8702 - val_accuracy: 0.6957\n",
            "Epoch 97/100\n",
            "3/3 [==============================] - 0s 36ms/step - loss: 0.8674 - accuracy: 0.7416 - val_loss: 0.8692 - val_accuracy: 0.6957\n",
            "Epoch 98/100\n",
            "3/3 [==============================] - 0s 30ms/step - loss: 0.8614 - accuracy: 0.7416 - val_loss: 0.8683 - val_accuracy: 0.6957\n",
            "Epoch 99/100\n",
            "3/3 [==============================] - 0s 23ms/step - loss: 0.8684 - accuracy: 0.7528 - val_loss: 0.8673 - val_accuracy: 0.6957\n",
            "Epoch 100/100\n",
            "3/3 [==============================] - 0s 32ms/step - loss: 0.8569 - accuracy: 0.7640 - val_loss: 0.8660 - val_accuracy: 0.6957\n",
            "CPU times: user 6.12 s, sys: 293 ms, total: 6.41 s\n",
            "Wall time: 11.2 s\n"
          ]
        }
      ],
      "source": [
        "%%time\n",
        "\n",
        "keras_callbacks   = [ tf.keras.callbacks.EarlyStopping(monitor='val_loss', patience=2, mode='min', min_delta=0.0001)]\n",
        "trenovanie = model.fit(X_train_scaled, y_train, batch_size=32, epochs=100, validation_split=0.2, verbose=1,callbacks= keras_callbacks )"
      ]
    },
    {
      "cell_type": "code",
      "execution_count": 16,
      "metadata": {
        "colab": {
          "base_uri": "https://localhost:8080/"
        },
        "id": "-dtmYM3K63Fi",
        "outputId": "5fac4254-1a67-43d0-aab0-6f690fb5a2bc"
      },
      "outputs": [
        {
          "name": "stdout",
          "output_type": "stream",
          "text": [
            "Accuracy: 85.714%\n"
          ]
        }
      ],
      "source": [
        "model_acc = model.evaluate(X_test_scaled, y_test, verbose=0)[1]\n",
        "print(\"Accuracy: {:.3f}%\".format(model_acc * 100))"
      ]
    },
    {
      "cell_type": "code",
      "execution_count": 17,
      "metadata": {
        "colab": {
          "base_uri": "https://localhost:8080/",
          "height": 295
        },
        "id": "nYOqtGTlasl0",
        "outputId": "64569f21-0046-41e8-d42e-b123ab44de64"
      },
      "outputs": [
        {
          "data": {
            "image/png": "[encoded data removed]",
            "text/plain": [
              "<Figure size 432x288 with 1 Axes>"
            ]
          },
          "metadata": {
            "needs_background": "light"
          },
          "output_type": "display_data"
        }
      ],
      "source": [
        "plt.plot(trenovanie.history['loss']) \n",
        "plt.plot(trenovanie.history['val_loss']) \n",
        "plt.ylabel('Chyba') \n",
        "plt.xlabel('Iterácia')\n",
        "plt.title('Chyba') \n",
        "plt.legend(['Train', 'Test'], loc='upper right') \n",
        "plt.show()"
      ]
    },
    {
      "cell_type": "code",
      "execution_count": 18,
      "metadata": {
        "colab": {
          "base_uri": "https://localhost:8080/",
          "height": 295
        },
        "id": "ORVHHn2sY5sv",
        "outputId": "9a6dcae9-0c15-4c40-c901-92c84f6bf239"
      },
      "outputs": [
        {
          "data": {
            "image/png": "[encoded data removed]",
            "text/plain": [
              "<Figure size 432x288 with 1 Axes>"
            ]
          },
          "metadata": {
            "needs_background": "light"
          },
          "output_type": "display_data"
        }
      ],
      "source": [
        "plt.plot(trenovanie.history['accuracy'])\n",
        "plt.plot(trenovanie.history['val_accuracy'])\n",
        "plt.title('Presnosť modelu')\n",
        "plt.ylabel('presnosť(%)')\n",
        "plt.xlabel('iterácie')\n",
        "plt.legend(['train', 'test'], loc='lower right')\n",
        "plt.show()"
      ]
    },
    {
      "cell_type": "code",
      "execution_count": 19,
      "metadata": {
        "colab": {
          "base_uri": "https://localhost:8080/",
          "height": 976
        },
        "id": "cpbHJFpw9xS-",
        "outputId": "9038bbd5-8faa-4744-9707-efefb963b641"
      },
      "outputs": [
        {
          "data": {
            "image/png": "[encoded data removed]",
            "text/plain": [
              "<IPython.core.display.Image object>"
            ]
          },
          "execution_count": 19,
          "metadata": {},
          "output_type": "execute_result"
        }
      ],
      "source": [
        "from tensorflow.keras.utils import plot_model\n",
        "plot_model(model, to_file='model2.png',show_shapes=True, show_layer_names=True)"
      ]
    }
  ],
  "metadata": {
    "colab": {
      "collapsed_sections": [],
      "name": "Neuronka_M_data_86%_Adamax.ipynb",
      "provenance": []
    },
    "kernelspec": {
      "display_name": "Python 3",
      "name": "python3"
    },
    "language_info": {
      "name": "python"
    }
  },
  "nbformat": 4,
  "nbformat_minor": 0
}
