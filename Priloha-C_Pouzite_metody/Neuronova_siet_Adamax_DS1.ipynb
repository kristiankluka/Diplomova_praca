{
  "cells": [
    {
      "cell_type": "code",
      "execution_count": 1,
      "metadata": {
        "colab": {
          "base_uri": "https://localhost:8080/"
        },
        "id": "sBvIbRPrskGv",
        "outputId": "32ae605a-1606-4c9c-b5c4-b4d45c3be0aa"
      },
      "outputs": [
        {
          "name": "stdout",
          "output_type": "stream",
          "text": [
            "Requirement already satisfied: keras in /usr/local/lib/python3.7/dist-packages (2.8.0)\n"
          ]
        }
      ],
      "source": [
        "!pip install keras"
      ]
    },
    {
      "cell_type": "code",
      "execution_count": 2,
      "metadata": {
        "id": "WspQ0oK_uMnF"
      },
      "outputs": [],
      "source": [
        "import numpy as np\n",
        "import pandas as pd\n",
        "import matplotlib.pyplot as plt\n",
        "import seaborn as sns\n",
        "from sklearn.model_selection import train_test_split\n",
        "import tensorflow as tf\n",
        "from sklearn.metrics import confusion_matrix, classification_report\n",
        "import keras\n",
        "import numpy as np\n",
        "import matplotlib.pyplot as plt\n",
        "import pandas as pd\n",
        "import seaborn as sns\n",
        "from sklearn.preprocessing import LabelEncoder\n",
        "from sklearn.preprocessing import StandardScaler, OneHotEncoder\n",
        "from sklearn.compose import ColumnTransformer\n",
        "from sklearn.pipeline import Pipeline\n",
        "from sklearn.model_selection import train_test_split\n",
        "from keras.models import Sequential\n",
        "from tensorflow.keras.optimizers import SGD\n",
        "from keras.layers import Dense, Dropout, Activation, BatchNormalization\n",
        "from sklearn.metrics import confusion_matrix,  classification_report\n",
        "from keras.utils.vis_utils import plot_model\n",
        "from tensorflow.keras.utils import to_categorical"
      ]
    },
    {
      "cell_type": "code",
      "execution_count": 3,
      "metadata": {
        "id": "Clr788F1uUJn"
      },
      "outputs": [],
      "source": [
        "data = pd.read_csv('ds1.csv',sep=';')"
      ]
    },
    {
      "cell_type": "code",
      "execution_count": 4,
      "metadata": {
        "colab": {
          "base_uri": "https://localhost:8080/",
          "height": 424
        },
        "id": "xfWLoULdufjl",
        "outputId": "096e3b59-955c-4b17-f982-92f17c7815a3"
      },
      "outputs": [
        {
          "data": {
            "text/html": [
              "\n",
              "  <div id=\"df-a53f8920-9505-4f4a-a286-8b341dfd410e\">\n",
              "    <div class=\"colab-df-container\">\n",
              "      <div>\n",
              "<style scoped>\n",
              "    .dataframe tbody tr th:only-of-type {\n",
              "        vertical-align: middle;\n",
              "    }\n",
              "\n",
              "    .dataframe tbody tr th {\n",
              "        vertical-align: top;\n",
              "    }\n",
              "\n",
              "    .dataframe thead th {\n",
              "        text-align: right;\n",
              "    }\n",
              "</style>\n",
              "<table border=\"1\" class=\"dataframe\">\n",
              "  <thead>\n",
              "    <tr style=\"text-align: right;\">\n",
              "      <th></th>\n",
              "      <th>ID</th>\n",
              "      <th>Min_EKG</th>\n",
              "      <th>Max_EKG</th>\n",
              "      <th>Mean_EKG</th>\n",
              "      <th>STDEV_EKG</th>\n",
              "      <th>Min_GSR</th>\n",
              "      <th>Max_GSR</th>\n",
              "      <th>Mean_GSR</th>\n",
              "      <th>STDEV_GSR</th>\n",
              "      <th>Min_Tep</th>\n",
              "      <th>Max_Tep</th>\n",
              "      <th>Mean_Tep</th>\n",
              "      <th>STDEV_Tep</th>\n",
              "      <th>Label</th>\n",
              "    </tr>\n",
              "  </thead>\n",
              "  <tbody>\n",
              "    <tr>\n",
              "      <th>0</th>\n",
              "      <td>3_h</td>\n",
              "      <td>10</td>\n",
              "      <td>617</td>\n",
              "      <td>333.516508</td>\n",
              "      <td>48.163003</td>\n",
              "      <td>317</td>\n",
              "      <td>337</td>\n",
              "      <td>330.212305</td>\n",
              "      <td>4.077739</td>\n",
              "      <td>37.15</td>\n",
              "      <td>38.61</td>\n",
              "      <td>37.894830</td>\n",
              "      <td>2.972412e-01</td>\n",
              "      <td>Neutral</td>\n",
              "    </tr>\n",
              "    <tr>\n",
              "      <th>1</th>\n",
              "      <td>5_h</td>\n",
              "      <td>10</td>\n",
              "      <td>655</td>\n",
              "      <td>333.662258</td>\n",
              "      <td>74.671788</td>\n",
              "      <td>273</td>\n",
              "      <td>315</td>\n",
              "      <td>302.143985</td>\n",
              "      <td>9.844223</td>\n",
              "      <td>35.68</td>\n",
              "      <td>36.66</td>\n",
              "      <td>36.170000</td>\n",
              "      <td>4.264903e-02</td>\n",
              "      <td>Negative</td>\n",
              "    </tr>\n",
              "    <tr>\n",
              "      <th>2</th>\n",
              "      <td>6_h</td>\n",
              "      <td>172</td>\n",
              "      <td>653</td>\n",
              "      <td>326.923148</td>\n",
              "      <td>33.356241</td>\n",
              "      <td>366</td>\n",
              "      <td>388</td>\n",
              "      <td>381.556474</td>\n",
              "      <td>4.600456</td>\n",
              "      <td>36.17</td>\n",
              "      <td>36.66</td>\n",
              "      <td>36.630415</td>\n",
              "      <td>1.169313e-01</td>\n",
              "      <td>Negative</td>\n",
              "    </tr>\n",
              "    <tr>\n",
              "      <th>3</th>\n",
              "      <td>7_h</td>\n",
              "      <td>204</td>\n",
              "      <td>519</td>\n",
              "      <td>332.974105</td>\n",
              "      <td>28.862731</td>\n",
              "      <td>273</td>\n",
              "      <td>322</td>\n",
              "      <td>305.297337</td>\n",
              "      <td>10.751020</td>\n",
              "      <td>37.15</td>\n",
              "      <td>37.63</td>\n",
              "      <td>37.256868</td>\n",
              "      <td>2.000672e-01</td>\n",
              "      <td>Neutral</td>\n",
              "    </tr>\n",
              "    <tr>\n",
              "      <th>4</th>\n",
              "      <td>8_h</td>\n",
              "      <td>225</td>\n",
              "      <td>562</td>\n",
              "      <td>356.487284</td>\n",
              "      <td>25.060835</td>\n",
              "      <td>376</td>\n",
              "      <td>418</td>\n",
              "      <td>397.679890</td>\n",
              "      <td>10.684603</td>\n",
              "      <td>37.63</td>\n",
              "      <td>38.12</td>\n",
              "      <td>37.722453</td>\n",
              "      <td>1.920770e-01</td>\n",
              "      <td>Negative</td>\n",
              "    </tr>\n",
              "    <tr>\n",
              "      <th>...</th>\n",
              "      <td>...</td>\n",
              "      <td>...</td>\n",
              "      <td>...</td>\n",
              "      <td>...</td>\n",
              "      <td>...</td>\n",
              "      <td>...</td>\n",
              "      <td>...</td>\n",
              "      <td>...</td>\n",
              "      <td>...</td>\n",
              "      <td>...</td>\n",
              "      <td>...</td>\n",
              "      <td>...</td>\n",
              "      <td>...</td>\n",
              "      <td>...</td>\n",
              "    </tr>\n",
              "    <tr>\n",
              "      <th>72</th>\n",
              "      <td>13_z</td>\n",
              "      <td>271</td>\n",
              "      <td>472</td>\n",
              "      <td>333.539683</td>\n",
              "      <td>22.439852</td>\n",
              "      <td>341</td>\n",
              "      <td>371</td>\n",
              "      <td>358.503409</td>\n",
              "      <td>9.699814</td>\n",
              "      <td>35.68</td>\n",
              "      <td>36.17</td>\n",
              "      <td>36.135412</td>\n",
              "      <td>1.262514e-01</td>\n",
              "      <td>Negative</td>\n",
              "    </tr>\n",
              "    <tr>\n",
              "      <th>73</th>\n",
              "      <td>17_z</td>\n",
              "      <td>276</td>\n",
              "      <td>501</td>\n",
              "      <td>333.692240</td>\n",
              "      <td>24.240372</td>\n",
              "      <td>227</td>\n",
              "      <td>330</td>\n",
              "      <td>291.081818</td>\n",
              "      <td>27.876547</td>\n",
              "      <td>35.68</td>\n",
              "      <td>35.68</td>\n",
              "      <td>35.680000</td>\n",
              "      <td>4.288558e-14</td>\n",
              "      <td>Negative</td>\n",
              "    </tr>\n",
              "    <tr>\n",
              "      <th>74</th>\n",
              "      <td>18_z</td>\n",
              "      <td>9</td>\n",
              "      <td>654</td>\n",
              "      <td>334.505291</td>\n",
              "      <td>47.567666</td>\n",
              "      <td>156</td>\n",
              "      <td>204</td>\n",
              "      <td>186.990909</td>\n",
              "      <td>7.814356</td>\n",
              "      <td>36.17</td>\n",
              "      <td>36.66</td>\n",
              "      <td>36.648471</td>\n",
              "      <td>7.471383e-02</td>\n",
              "      <td>Negative</td>\n",
              "    </tr>\n",
              "    <tr>\n",
              "      <th>75</th>\n",
              "      <td>19_z</td>\n",
              "      <td>296</td>\n",
              "      <td>392</td>\n",
              "      <td>332.582598</td>\n",
              "      <td>10.325506</td>\n",
              "      <td>333</td>\n",
              "      <td>341</td>\n",
              "      <td>336.893182</td>\n",
              "      <td>1.676497</td>\n",
              "      <td>37.63</td>\n",
              "      <td>38.61</td>\n",
              "      <td>37.872118</td>\n",
              "      <td>3.082713e-01</td>\n",
              "      <td>Negative</td>\n",
              "    </tr>\n",
              "    <tr>\n",
              "      <th>76</th>\n",
              "      <td>20_z</td>\n",
              "      <td>0</td>\n",
              "      <td>649</td>\n",
              "      <td>329.305996</td>\n",
              "      <td>42.564811</td>\n",
              "      <td>476</td>\n",
              "      <td>479</td>\n",
              "      <td>478.485795</td>\n",
              "      <td>0.544571</td>\n",
              "      <td>33.72</td>\n",
              "      <td>34.21</td>\n",
              "      <td>33.806471</td>\n",
              "      <td>1.879064e-01</td>\n",
              "      <td>Negative</td>\n",
              "    </tr>\n",
              "  </tbody>\n",
              "</table>\n",
              "<p>77 rows × 14 columns</p>\n",
              "</div>\n",
              "      <button class=\"colab-df-convert\" onclick=\"convertToInteractive('df-a53f8920-9505-4f4a-a286-8b341dfd410e')\"\n",
              "              title=\"Convert this dataframe to an interactive table.\"\n",
              "              style=\"display:none;\">\n",
              "        \n",
              "  <svg xmlns=\"http://www.w3.org/2000/svg\" height=\"24px\"viewBox=\"0 0 24 24\"\n",
              "       width=\"24px\">\n",
              "    <path d=\"M0 0h24v24H0V0z\" fill=\"none\"/>\n",
              "    <path d=\"M18.56 5.44l.94 2.06.94-2.06 2.06-.94-2.06-.94-.94-2.06-.94 2.06-2.06.94zm-11 1L8.5 8.5l.94-2.06 2.06-.94-2.06-.94L8.5 2.5l-.94 2.06-2.06.94zm10 10l.94 2.06.94-2.06 2.06-.94-2.06-.94-.94-2.06-.94 2.06-2.06.94z\"/><path d=\"M17.41 7.96l-1.37-1.37c-.4-.4-.92-.59-1.43-.59-.52 0-1.04.2-1.43.59L10.3 9.45l-7.72 7.72c-.78.78-.78 2.05 0 2.83L4 21.41c.39.39.9.59 1.41.59.51 0 1.02-.2 1.41-.59l7.78-7.78 2.81-2.81c.8-.78.8-2.07 0-2.86zM5.41 20L4 18.59l7.72-7.72 1.47 1.35L5.41 20z\"/>\n",
              "  </svg>\n",
              "      </button>\n",
              "      \n",
              "  <style>\n",
              "    .colab-df-container {\n",
              "      display:flex;\n",
              "      flex-wrap:wrap;\n",
              "      gap: 12px;\n",
              "    }\n",
              "\n",
              "    .colab-df-convert {\n",
              "      background-color: #E8F0FE;\n",
              "      border: none;\n",
              "      border-radius: 50%;\n",
              "      cursor: pointer;\n",
              "      display: none;\n",
              "      fill: #1967D2;\n",
              "      height: 32px;\n",
              "      padding: 0 0 0 0;\n",
              "      width: 32px;\n",
              "    }\n",
              "\n",
              "    .colab-df-convert:hover {\n",
              "      background-color: #E2EBFA;\n",
              "      box-shadow: 0px 1px 2px rgba(60, 64, 67, 0.3), 0px 1px 3px 1px rgba(60, 64, 67, 0.15);\n",
              "      fill: #174EA6;\n",
              "    }\n",
              "\n",
              "    [theme=dark] .colab-df-convert {\n",
              "      background-color: #3B4455;\n",
              "      fill: #D2E3FC;\n",
              "    }\n",
              "\n",
              "    [theme=dark] .colab-df-convert:hover {\n",
              "      background-color: #434B5C;\n",
              "      box-shadow: 0px 1px 3px 1px rgba(0, 0, 0, 0.15);\n",
              "      filter: drop-shadow(0px 1px 2px rgba(0, 0, 0, 0.3));\n",
              "      fill: #FFFFFF;\n",
              "    }\n",
              "  </style>\n",
              "\n",
              "      <script>\n",
              "        const buttonEl =\n",
              "          document.querySelector('#df-a53f8920-9505-4f4a-a286-8b341dfd410e button.colab-df-convert');\n",
              "        buttonEl.style.display =\n",
              "          google.colab.kernel.accessAllowed ? 'block' : 'none';\n",
              "\n",
              "        async function convertToInteractive(key) {\n",
              "          const element = document.querySelector('#df-a53f8920-9505-4f4a-a286-8b341dfd410e');\n",
              "          const dataTable =\n",
              "            await google.colab.kernel.invokeFunction('convertToInteractive',\n",
              "                                                     [key], {});\n",
              "          if (!dataTable) return;\n",
              "\n",
              "          const docLinkHtml = 'Like what you see? Visit the ' +\n",
              "            '<a target=\"_blank\" href=https://colab.research.google.com/notebooks/data_table.ipynb>data table notebook</a>'\n",
              "            + ' to learn more about interactive tables.';\n",
              "          element.innerHTML = '';\n",
              "          dataTable['output_type'] = 'display_data';\n",
              "          await google.colab.output.renderOutput(dataTable, element);\n",
              "          const docLink = document.createElement('div');\n",
              "          docLink.innerHTML = docLinkHtml;\n",
              "          element.appendChild(docLink);\n",
              "        }\n",
              "      </script>\n",
              "    </div>\n",
              "  </div>\n",
              "  "
            ],
            "text/plain": [
              "      ID  Min_EKG  Max_EKG    Mean_EKG  STDEV_EKG  Min_GSR  Max_GSR  \\\n",
              "0    3_h       10      617  333.516508  48.163003      317      337   \n",
              "1    5_h       10      655  333.662258  74.671788      273      315   \n",
              "2    6_h      172      653  326.923148  33.356241      366      388   \n",
              "3    7_h      204      519  332.974105  28.862731      273      322   \n",
              "4    8_h      225      562  356.487284  25.060835      376      418   \n",
              "..   ...      ...      ...         ...        ...      ...      ...   \n",
              "72  13_z      271      472  333.539683  22.439852      341      371   \n",
              "73  17_z      276      501  333.692240  24.240372      227      330   \n",
              "74  18_z        9      654  334.505291  47.567666      156      204   \n",
              "75  19_z      296      392  332.582598  10.325506      333      341   \n",
              "76  20_z        0      649  329.305996  42.564811      476      479   \n",
              "\n",
              "      Mean_GSR  STDEV_GSR  Min_Tep  Max_Tep   Mean_Tep     STDEV_Tep     Label  \n",
              "0   330.212305   4.077739    37.15    38.61  37.894830  2.972412e-01   Neutral  \n",
              "1   302.143985   9.844223    35.68    36.66  36.170000  4.264903e-02  Negative  \n",
              "2   381.556474   4.600456    36.17    36.66  36.630415  1.169313e-01  Negative  \n",
              "3   305.297337  10.751020    37.15    37.63  37.256868  2.000672e-01   Neutral  \n",
              "4   397.679890  10.684603    37.63    38.12  37.722453  1.920770e-01  Negative  \n",
              "..         ...        ...      ...      ...        ...           ...       ...  \n",
              "72  358.503409   9.699814    35.68    36.17  36.135412  1.262514e-01  Negative  \n",
              "73  291.081818  27.876547    35.68    35.68  35.680000  4.288558e-14  Negative  \n",
              "74  186.990909   7.814356    36.17    36.66  36.648471  7.471383e-02  Negative  \n",
              "75  336.893182   1.676497    37.63    38.61  37.872118  3.082713e-01  Negative  \n",
              "76  478.485795   0.544571    33.72    34.21  33.806471  1.879064e-01  Negative  \n",
              "\n",
              "[77 rows x 14 columns]"
            ]
          },
          "execution_count": 4,
          "metadata": {},
          "output_type": "execute_result"
        }
      ],
      "source": [
        "data"
      ]
    },
    {
      "cell_type": "markdown",
      "metadata": {
        "id": "vgKVbCYe34cp"
      },
      "source": [
        "# **Kontrola dát**\n"
      ]
    },
    {
      "cell_type": "code",
      "execution_count": 5,
      "metadata": {
        "colab": {
          "base_uri": "https://localhost:8080/"
        },
        "id": "Gm24VWXt2r8C",
        "outputId": "d207dc8a-f5a3-40f0-dcb2-87620a9b1156"
      },
      "outputs": [
        {
          "data": {
            "text/plain": [
              "Negative    37\n",
              "Neutral     25\n",
              "Positive    15\n",
              "Name: Label, dtype: int64"
            ]
          },
          "execution_count": 5,
          "metadata": {},
          "output_type": "execute_result"
        }
      ],
      "source": [
        "data['Label'].value_counts()"
      ]
    },
    {
      "cell_type": "markdown",
      "metadata": {
        "id": "05fIj-J1bvyl"
      },
      "source": []
    },
    {
      "cell_type": "code",
      "execution_count": 6,
      "metadata": {
        "id": "CvQmjFEd4Kn5"
      },
      "outputs": [],
      "source": [
        "mapovanie = {'Negative': 0, 'Positive': 1, 'Neutral': 2}"
      ]
    },
    {
      "cell_type": "code",
      "execution_count": 7,
      "metadata": {
        "id": "yEw2AyB64nx6"
      },
      "outputs": [],
      "source": [
        "def preprocesing(df):\n",
        "    df = df.copy()\n",
        "    \n",
        "    df['Label'] = df['Label'].replace(mapovanie)\n",
        "    \n",
        "    y = df['Label'].copy()\n",
        "    X = df.drop(['ID','Label'], axis=1).copy()\n",
        "    \n",
        "    X_train, X_test, y_train, y_test = train_test_split(X, y, train_size=0.8, random_state=12)\n",
        "    \n",
        "    return X_train, X_test, y_train, y_test"
      ]
    },
    {
      "cell_type": "code",
      "execution_count": 8,
      "metadata": {
        "id": "iJL-qArN4zr6"
      },
      "outputs": [],
      "source": [
        "X_train, X_test, y_train, y_test = preprocesing(data)\n",
        "#X_train = X_train.replace((np.inf, -np.inf, np.nan), 0).reset_index(drop=True)"
      ]
    },
    {
      "cell_type": "code",
      "execution_count": 9,
      "metadata": {
        "id": "Lge7WHFuBi-k"
      },
      "outputs": [],
      "source": [
        "#X_train = X_train.apply(lambda row: row.fillna(row.mean()), axis=1)\n"
      ]
    },
    {
      "cell_type": "code",
      "execution_count": 10,
      "metadata": {
        "id": "wTi67O7YDYUb"
      },
      "outputs": [],
      "source": [
        "#X_test = X_test.apply(lambda row: row.fillna(row.mean()), axis=1)"
      ]
    },
    {
      "cell_type": "code",
      "execution_count": 11,
      "metadata": {
        "id": "1f3o3n8i8RoJ"
      },
      "outputs": [],
      "source": [
        "\n",
        "from sklearn.preprocessing import StandardScaler\n",
        "\n",
        "scaler = StandardScaler().fit(X_train)\n",
        "X_train_scaled = scaler.transform(X_train)\n",
        "\n",
        "\n",
        "scaler = StandardScaler().fit(X_test)\n",
        "X_test_scaled = scaler.transform(X_test)\n"
      ]
    },
    {
      "cell_type": "code",
      "execution_count": 12,
      "metadata": {
        "id": "Comlswp-44Kq"
      },
      "outputs": [],
      "source": [
        "from keras.layers.core.dropout import Dropout\n",
        "from keras.layers import LeakyReLU\n",
        "from tensorflow.keras import regularizers\n",
        "\n",
        "model = Sequential()\n",
        "model.add(Dense(64, input_dim=12,kernel_regularizer=regularizers.l2(0.001)))\n",
        "model.add(LeakyReLU(alpha=0.01))\n",
        "#model.add(BatchNormalization())\n",
        "model.add(Dropout(0.02))\n",
        "model.add(Dense(32,kernel_regularizer=regularizers.l2(0.001)))\n",
        "model.add(LeakyReLU(alpha=0.01))\n",
        "model.add(Dropout(0.02))\n",
        "model.add(Dense(16,kernel_regularizer=regularizers.l2(0.001)))\n",
        "model.add(LeakyReLU(alpha=0.01))\n",
        "#model.add(BatchNormalization())\n",
        "model.add(Dropout(0.07))\n",
        "model.add(Dense(3, activation= 'softmax'))\n",
        "\n",
        "sgd = SGD(learning_rate=0.1, decay=5e-4, momentum= 0.9,nesterov= True)"
      ]
    },
    {
      "cell_type": "code",
      "execution_count": 13,
      "metadata": {
        "colab": {
          "base_uri": "https://localhost:8080/"
        },
        "id": "mr9DS0Emy553",
        "outputId": "2ddd43c0-4b7f-4599-eec5-e19a549608fd"
      },
      "outputs": [
        {
          "name": "stdout",
          "output_type": "stream",
          "text": [
            "Model: \"sequential\"\n",
            "_________________________________________________________________\n",
            " Layer (type)                Output Shape              Param #   \n",
            "=================================================================\n",
            " dense (Dense)               (None, 64)                832       \n",
            "                                                                 \n",
            " leaky_re_lu (LeakyReLU)     (None, 64)                0         \n",
            "                                                                 \n",
            " dropout (Dropout)           (None, 64)                0         \n",
            "                                                                 \n",
            " dense_1 (Dense)             (None, 32)                2080      \n",
            "                                                                 \n",
            " leaky_re_lu_1 (LeakyReLU)   (None, 32)                0         \n",
            "                                                                 \n",
            " dropout_1 (Dropout)         (None, 32)                0         \n",
            "                                                                 \n",
            " dense_2 (Dense)             (None, 16)                528       \n",
            "                                                                 \n",
            " leaky_re_lu_2 (LeakyReLU)   (None, 16)                0         \n",
            "                                                                 \n",
            " dropout_2 (Dropout)         (None, 16)                0         \n",
            "                                                                 \n",
            " dense_3 (Dense)             (None, 3)                 51        \n",
            "                                                                 \n",
            "=================================================================\n",
            "Total params: 3,491\n",
            "Trainable params: 3,491\n",
            "Non-trainable params: 0\n",
            "_________________________________________________________________\n",
            "None\n"
          ]
        }
      ],
      "source": [
        "print(model.summary())"
      ]
    },
    {
      "cell_type": "code",
      "execution_count": 14,
      "metadata": {
        "id": "TFVYzjC86mPz"
      },
      "outputs": [],
      "source": [
        "\n",
        "model.compile(loss='sparse_categorical_crossentropy', \n",
        "              optimizer= 'Adamax', \n",
        "              metrics=['accuracy'])"
      ]
    },
    {
      "cell_type": "code",
      "execution_count": 15,
      "metadata": {
        "colab": {
          "base_uri": "https://localhost:8080/"
        },
        "id": "Oqh8ugF1VV-j",
        "outputId": "f050269a-db76-4370-db88-e6ad0179aee1"
      },
      "outputs": [
        {
          "name": "stdout",
          "output_type": "stream",
          "text": [
            "Epoch 1/100\n",
            "2/2 [==============================] - 1s 214ms/step - loss: 1.2254 - accuracy: 0.3600 - val_loss: 1.1403 - val_accuracy: 0.5455\n",
            "Epoch 2/100\n",
            "2/2 [==============================] - 0s 31ms/step - loss: 1.1951 - accuracy: 0.3800 - val_loss: 1.1267 - val_accuracy: 0.4545\n",
            "Epoch 3/100\n",
            "2/2 [==============================] - 0s 24ms/step - loss: 1.1749 - accuracy: 0.4200 - val_loss: 1.1154 - val_accuracy: 0.5455\n",
            "Epoch 4/100\n",
            "2/2 [==============================] - 0s 195ms/step - loss: 1.1648 - accuracy: 0.4000 - val_loss: 1.1031 - val_accuracy: 0.6364\n",
            "Epoch 5/100\n",
            "2/2 [==============================] - 0s 42ms/step - loss: 1.1666 - accuracy: 0.4600 - val_loss: 1.0921 - val_accuracy: 0.6364\n",
            "Epoch 6/100\n",
            "2/2 [==============================] - 0s 42ms/step - loss: 1.1369 - accuracy: 0.4800 - val_loss: 1.0816 - val_accuracy: 0.6364\n",
            "Epoch 7/100\n",
            "2/2 [==============================] - 0s 36ms/step - loss: 1.1193 - accuracy: 0.5200 - val_loss: 1.0722 - val_accuracy: 0.6364\n",
            "Epoch 8/100\n",
            "2/2 [==============================] - 0s 33ms/step - loss: 1.1268 - accuracy: 0.4400 - val_loss: 1.0636 - val_accuracy: 0.6364\n",
            "Epoch 9/100\n",
            "2/2 [==============================] - 0s 36ms/step - loss: 1.0860 - accuracy: 0.5600 - val_loss: 1.0550 - val_accuracy: 0.6364\n",
            "Epoch 10/100\n",
            "2/2 [==============================] - 0s 41ms/step - loss: 1.0921 - accuracy: 0.5400 - val_loss: 1.0465 - val_accuracy: 0.7273\n",
            "Epoch 11/100\n",
            "2/2 [==============================] - 0s 43ms/step - loss: 1.0773 - accuracy: 0.5600 - val_loss: 1.0386 - val_accuracy: 0.7273\n",
            "Epoch 12/100\n",
            "2/2 [==============================] - 0s 25ms/step - loss: 1.0844 - accuracy: 0.5200 - val_loss: 1.0312 - val_accuracy: 0.7273\n",
            "Epoch 13/100\n",
            "2/2 [==============================] - 0s 25ms/step - loss: 1.0626 - accuracy: 0.5600 - val_loss: 1.0242 - val_accuracy: 0.7273\n",
            "Epoch 14/100\n",
            "2/2 [==============================] - 0s 28ms/step - loss: 1.0887 - accuracy: 0.5800 - val_loss: 1.0178 - val_accuracy: 0.7273\n",
            "Epoch 15/100\n",
            "2/2 [==============================] - 0s 32ms/step - loss: 1.0631 - accuracy: 0.5600 - val_loss: 1.0119 - val_accuracy: 0.7273\n",
            "Epoch 16/100\n",
            "2/2 [==============================] - 0s 24ms/step - loss: 1.0555 - accuracy: 0.5800 - val_loss: 1.0062 - val_accuracy: 0.7273\n",
            "Epoch 17/100\n",
            "2/2 [==============================] - 0s 28ms/step - loss: 1.0531 - accuracy: 0.5600 - val_loss: 1.0007 - val_accuracy: 0.7273\n",
            "Epoch 18/100\n",
            "2/2 [==============================] - 0s 25ms/step - loss: 1.0633 - accuracy: 0.5800 - val_loss: 0.9956 - val_accuracy: 0.7273\n",
            "Epoch 19/100\n",
            "2/2 [==============================] - 0s 23ms/step - loss: 1.0347 - accuracy: 0.5800 - val_loss: 0.9910 - val_accuracy: 0.7273\n",
            "Epoch 20/100\n",
            "2/2 [==============================] - 0s 23ms/step - loss: 1.0371 - accuracy: 0.5800 - val_loss: 0.9865 - val_accuracy: 0.7273\n",
            "Epoch 21/100\n",
            "2/2 [==============================] - 0s 23ms/step - loss: 1.0338 - accuracy: 0.5800 - val_loss: 0.9821 - val_accuracy: 0.7273\n",
            "Epoch 22/100\n",
            "2/2 [==============================] - 0s 29ms/step - loss: 1.0094 - accuracy: 0.6200 - val_loss: 0.9775 - val_accuracy: 0.7273\n",
            "Epoch 23/100\n",
            "2/2 [==============================] - 0s 23ms/step - loss: 1.0300 - accuracy: 0.5400 - val_loss: 0.9733 - val_accuracy: 0.7273\n",
            "Epoch 24/100\n",
            "2/2 [==============================] - 0s 26ms/step - loss: 1.0017 - accuracy: 0.6000 - val_loss: 0.9692 - val_accuracy: 0.7273\n",
            "Epoch 25/100\n",
            "2/2 [==============================] - 0s 25ms/step - loss: 0.9996 - accuracy: 0.5800 - val_loss: 0.9653 - val_accuracy: 0.7273\n",
            "Epoch 26/100\n",
            "2/2 [==============================] - 0s 28ms/step - loss: 0.9910 - accuracy: 0.6000 - val_loss: 0.9615 - val_accuracy: 0.8182\n",
            "Epoch 27/100\n",
            "2/2 [==============================] - 0s 26ms/step - loss: 1.0220 - accuracy: 0.5800 - val_loss: 0.9584 - val_accuracy: 0.8182\n",
            "Epoch 28/100\n",
            "2/2 [==============================] - 0s 30ms/step - loss: 1.0102 - accuracy: 0.5600 - val_loss: 0.9552 - val_accuracy: 0.8182\n",
            "Epoch 29/100\n",
            "2/2 [==============================] - 0s 29ms/step - loss: 1.0077 - accuracy: 0.6400 - val_loss: 0.9523 - val_accuracy: 0.8182\n",
            "Epoch 30/100\n",
            "2/2 [==============================] - 0s 28ms/step - loss: 0.9749 - accuracy: 0.6200 - val_loss: 0.9494 - val_accuracy: 0.8182\n",
            "Epoch 31/100\n",
            "2/2 [==============================] - 0s 38ms/step - loss: 0.9941 - accuracy: 0.5600 - val_loss: 0.9468 - val_accuracy: 0.8182\n",
            "Epoch 32/100\n",
            "2/2 [==============================] - 0s 27ms/step - loss: 0.9890 - accuracy: 0.6000 - val_loss: 0.9439 - val_accuracy: 0.8182\n",
            "Epoch 33/100\n",
            "2/2 [==============================] - 0s 33ms/step - loss: 0.9787 - accuracy: 0.6200 - val_loss: 0.9410 - val_accuracy: 0.8182\n",
            "Epoch 34/100\n",
            "2/2 [==============================] - 0s 26ms/step - loss: 0.9652 - accuracy: 0.6400 - val_loss: 0.9378 - val_accuracy: 0.8182\n",
            "Epoch 35/100\n",
            "2/2 [==============================] - 0s 26ms/step - loss: 1.0132 - accuracy: 0.5800 - val_loss: 0.9337 - val_accuracy: 0.8182\n",
            "Epoch 36/100\n",
            "2/2 [==============================] - 0s 26ms/step - loss: 0.9674 - accuracy: 0.6200 - val_loss: 0.9297 - val_accuracy: 0.8182\n",
            "Epoch 37/100\n",
            "2/2 [==============================] - 0s 25ms/step - loss: 0.9772 - accuracy: 0.6600 - val_loss: 0.9251 - val_accuracy: 0.8182\n",
            "Epoch 38/100\n",
            "2/2 [==============================] - 0s 44ms/step - loss: 0.9574 - accuracy: 0.6400 - val_loss: 0.9208 - val_accuracy: 0.8182\n",
            "Epoch 39/100\n",
            "2/2 [==============================] - 0s 45ms/step - loss: 0.9569 - accuracy: 0.6400 - val_loss: 0.9161 - val_accuracy: 0.8182\n",
            "Epoch 40/100\n",
            "2/2 [==============================] - 0s 55ms/step - loss: 0.9593 - accuracy: 0.6400 - val_loss: 0.9116 - val_accuracy: 0.8182\n",
            "Epoch 41/100\n",
            "2/2 [==============================] - 0s 103ms/step - loss: 0.9573 - accuracy: 0.6000 - val_loss: 0.9071 - val_accuracy: 0.9091\n",
            "Epoch 42/100\n",
            "2/2 [==============================] - 0s 40ms/step - loss: 0.9528 - accuracy: 0.6400 - val_loss: 0.9031 - val_accuracy: 0.9091\n",
            "Epoch 43/100\n",
            "2/2 [==============================] - 0s 33ms/step - loss: 0.9369 - accuracy: 0.6200 - val_loss: 0.8983 - val_accuracy: 0.9091\n",
            "Epoch 44/100\n",
            "2/2 [==============================] - 0s 34ms/step - loss: 0.9402 - accuracy: 0.6400 - val_loss: 0.8933 - val_accuracy: 0.9091\n",
            "Epoch 45/100\n",
            "2/2 [==============================] - 0s 51ms/step - loss: 0.9519 - accuracy: 0.6400 - val_loss: 0.8882 - val_accuracy: 0.9091\n",
            "Epoch 46/100\n",
            "2/2 [==============================] - 0s 39ms/step - loss: 0.9251 - accuracy: 0.6600 - val_loss: 0.8834 - val_accuracy: 0.9091\n",
            "Epoch 47/100\n",
            "2/2 [==============================] - 0s 44ms/step - loss: 0.9450 - accuracy: 0.6000 - val_loss: 0.8784 - val_accuracy: 0.9091\n",
            "Epoch 48/100\n",
            "2/2 [==============================] - 0s 37ms/step - loss: 0.9533 - accuracy: 0.5800 - val_loss: 0.8732 - val_accuracy: 0.9091\n",
            "Epoch 49/100\n",
            "2/2 [==============================] - 0s 39ms/step - loss: 0.9100 - accuracy: 0.6600 - val_loss: 0.8682 - val_accuracy: 0.9091\n",
            "Epoch 50/100\n",
            "2/2 [==============================] - 0s 34ms/step - loss: 0.8972 - accuracy: 0.6400 - val_loss: 0.8631 - val_accuracy: 0.9091\n",
            "Epoch 51/100\n",
            "2/2 [==============================] - 0s 35ms/step - loss: 0.9347 - accuracy: 0.6200 - val_loss: 0.8575 - val_accuracy: 0.9091\n",
            "Epoch 52/100\n",
            "2/2 [==============================] - 0s 55ms/step - loss: 0.8892 - accuracy: 0.6600 - val_loss: 0.8522 - val_accuracy: 0.9091\n",
            "Epoch 53/100\n",
            "2/2 [==============================] - 0s 45ms/step - loss: 0.9233 - accuracy: 0.6000 - val_loss: 0.8471 - val_accuracy: 0.9091\n",
            "Epoch 54/100\n",
            "2/2 [==============================] - 0s 35ms/step - loss: 0.9175 - accuracy: 0.6000 - val_loss: 0.8426 - val_accuracy: 0.9091\n",
            "Epoch 55/100\n",
            "2/2 [==============================] - 0s 41ms/step - loss: 0.9110 - accuracy: 0.6200 - val_loss: 0.8377 - val_accuracy: 0.9091\n",
            "Epoch 56/100\n",
            "2/2 [==============================] - 0s 40ms/step - loss: 0.8688 - accuracy: 0.6400 - val_loss: 0.8325 - val_accuracy: 0.9091\n",
            "Epoch 57/100\n",
            "2/2 [==============================] - 0s 45ms/step - loss: 0.8935 - accuracy: 0.6200 - val_loss: 0.8278 - val_accuracy: 0.9091\n",
            "Epoch 58/100\n",
            "2/2 [==============================] - 0s 46ms/step - loss: 0.8813 - accuracy: 0.6600 - val_loss: 0.8232 - val_accuracy: 0.9091\n",
            "Epoch 59/100\n",
            "2/2 [==============================] - 0s 37ms/step - loss: 0.8845 - accuracy: 0.6400 - val_loss: 0.8190 - val_accuracy: 0.9091\n",
            "Epoch 60/100\n",
            "2/2 [==============================] - 0s 49ms/step - loss: 0.8964 - accuracy: 0.6200 - val_loss: 0.8148 - val_accuracy: 0.9091\n",
            "Epoch 61/100\n",
            "2/2 [==============================] - 0s 73ms/step - loss: 0.8967 - accuracy: 0.6200 - val_loss: 0.8107 - val_accuracy: 0.9091\n",
            "Epoch 62/100\n",
            "2/2 [==============================] - 0s 33ms/step - loss: 0.8547 - accuracy: 0.6600 - val_loss: 0.8067 - val_accuracy: 0.9091\n",
            "Epoch 63/100\n",
            "2/2 [==============================] - 0s 46ms/step - loss: 0.8789 - accuracy: 0.6400 - val_loss: 0.8028 - val_accuracy: 0.9091\n",
            "Epoch 64/100\n",
            "2/2 [==============================] - 0s 37ms/step - loss: 0.8462 - accuracy: 0.6800 - val_loss: 0.7982 - val_accuracy: 0.9091\n",
            "Epoch 65/100\n",
            "2/2 [==============================] - 0s 40ms/step - loss: 0.8684 - accuracy: 0.6200 - val_loss: 0.7945 - val_accuracy: 0.9091\n",
            "Epoch 66/100\n",
            "2/2 [==============================] - 0s 38ms/step - loss: 0.8847 - accuracy: 0.6200 - val_loss: 0.7910 - val_accuracy: 0.8182\n",
            "Epoch 67/100\n",
            "2/2 [==============================] - 0s 32ms/step - loss: 0.8692 - accuracy: 0.6600 - val_loss: 0.7880 - val_accuracy: 0.8182\n",
            "Epoch 68/100\n",
            "2/2 [==============================] - 0s 42ms/step - loss: 0.8711 - accuracy: 0.6600 - val_loss: 0.7849 - val_accuracy: 0.8182\n",
            "Epoch 69/100\n",
            "2/2 [==============================] - 0s 44ms/step - loss: 0.8392 - accuracy: 0.6600 - val_loss: 0.7818 - val_accuracy: 0.8182\n",
            "Epoch 70/100\n",
            "2/2 [==============================] - 0s 46ms/step - loss: 0.8543 - accuracy: 0.6400 - val_loss: 0.7785 - val_accuracy: 0.8182\n",
            "Epoch 71/100\n",
            "2/2 [==============================] - 0s 41ms/step - loss: 0.8174 - accuracy: 0.7000 - val_loss: 0.7748 - val_accuracy: 0.8182\n",
            "Epoch 72/100\n",
            "2/2 [==============================] - 0s 60ms/step - loss: 0.8484 - accuracy: 0.7000 - val_loss: 0.7713 - val_accuracy: 0.8182\n",
            "Epoch 73/100\n",
            "2/2 [==============================] - 0s 35ms/step - loss: 0.8576 - accuracy: 0.6400 - val_loss: 0.7679 - val_accuracy: 0.8182\n",
            "Epoch 74/100\n",
            "2/2 [==============================] - 0s 36ms/step - loss: 0.8126 - accuracy: 0.6800 - val_loss: 0.7641 - val_accuracy: 0.8182\n",
            "Epoch 75/100\n",
            "2/2 [==============================] - 0s 45ms/step - loss: 0.8512 - accuracy: 0.6600 - val_loss: 0.7609 - val_accuracy: 0.8182\n",
            "Epoch 76/100\n",
            "2/2 [==============================] - 0s 44ms/step - loss: 0.8329 - accuracy: 0.6600 - val_loss: 0.7580 - val_accuracy: 0.8182\n",
            "Epoch 77/100\n",
            "2/2 [==============================] - 0s 38ms/step - loss: 0.8330 - accuracy: 0.6800 - val_loss: 0.7546 - val_accuracy: 0.8182\n",
            "Epoch 78/100\n",
            "2/2 [==============================] - 0s 61ms/step - loss: 0.8437 - accuracy: 0.6600 - val_loss: 0.7517 - val_accuracy: 0.8182\n",
            "Epoch 79/100\n",
            "2/2 [==============================] - 0s 89ms/step - loss: 0.8132 - accuracy: 0.7000 - val_loss: 0.7485 - val_accuracy: 0.8182\n",
            "Epoch 80/100\n",
            "2/2 [==============================] - 0s 53ms/step - loss: 0.8299 - accuracy: 0.6800 - val_loss: 0.7452 - val_accuracy: 0.8182\n",
            "Epoch 81/100\n",
            "2/2 [==============================] - 0s 54ms/step - loss: 0.8219 - accuracy: 0.7000 - val_loss: 0.7419 - val_accuracy: 0.8182\n",
            "Epoch 82/100\n",
            "2/2 [==============================] - 0s 36ms/step - loss: 0.8280 - accuracy: 0.6800 - val_loss: 0.7391 - val_accuracy: 0.8182\n",
            "Epoch 83/100\n",
            "2/2 [==============================] - 0s 38ms/step - loss: 0.8010 - accuracy: 0.7000 - val_loss: 0.7361 - val_accuracy: 0.8182\n",
            "Epoch 84/100\n",
            "2/2 [==============================] - 0s 40ms/step - loss: 0.8018 - accuracy: 0.6800 - val_loss: 0.7331 - val_accuracy: 0.8182\n",
            "Epoch 85/100\n",
            "2/2 [==============================] - 0s 41ms/step - loss: 0.7941 - accuracy: 0.6800 - val_loss: 0.7302 - val_accuracy: 0.8182\n",
            "Epoch 86/100\n",
            "2/2 [==============================] - 0s 77ms/step - loss: 0.7957 - accuracy: 0.7000 - val_loss: 0.7282 - val_accuracy: 0.8182\n",
            "Epoch 87/100\n",
            "2/2 [==============================] - 0s 55ms/step - loss: 0.8237 - accuracy: 0.6800 - val_loss: 0.7259 - val_accuracy: 0.8182\n",
            "Epoch 88/100\n",
            "2/2 [==============================] - 0s 67ms/step - loss: 0.8311 - accuracy: 0.6800 - val_loss: 0.7234 - val_accuracy: 0.8182\n",
            "Epoch 89/100\n",
            "2/2 [==============================] - 0s 46ms/step - loss: 0.7943 - accuracy: 0.6800 - val_loss: 0.7223 - val_accuracy: 0.8182\n",
            "Epoch 90/100\n",
            "2/2 [==============================] - 0s 40ms/step - loss: 0.7919 - accuracy: 0.7000 - val_loss: 0.7206 - val_accuracy: 0.8182\n",
            "Epoch 91/100\n",
            "2/2 [==============================] - 0s 69ms/step - loss: 0.7708 - accuracy: 0.6800 - val_loss: 0.7187 - val_accuracy: 0.8182\n",
            "Epoch 92/100\n",
            "2/2 [==============================] - 0s 56ms/step - loss: 0.8219 - accuracy: 0.6800 - val_loss: 0.7166 - val_accuracy: 0.8182\n",
            "Epoch 93/100\n",
            "2/2 [==============================] - 0s 58ms/step - loss: 0.7933 - accuracy: 0.6800 - val_loss: 0.7145 - val_accuracy: 0.8182\n",
            "Epoch 94/100\n",
            "2/2 [==============================] - 0s 38ms/step - loss: 0.7391 - accuracy: 0.7000 - val_loss: 0.7120 - val_accuracy: 0.8182\n",
            "Epoch 95/100\n",
            "2/2 [==============================] - 0s 35ms/step - loss: 0.7738 - accuracy: 0.7000 - val_loss: 0.7090 - val_accuracy: 0.8182\n",
            "Epoch 96/100\n",
            "2/2 [==============================] - 0s 37ms/step - loss: 0.8028 - accuracy: 0.6800 - val_loss: 0.7064 - val_accuracy: 0.8182\n",
            "Epoch 97/100\n",
            "2/2 [==============================] - 0s 49ms/step - loss: 0.7943 - accuracy: 0.6600 - val_loss: 0.7042 - val_accuracy: 0.8182\n",
            "Epoch 98/100\n",
            "2/2 [==============================] - 0s 51ms/step - loss: 0.7870 - accuracy: 0.7000 - val_loss: 0.7025 - val_accuracy: 0.8182\n",
            "Epoch 99/100\n",
            "2/2 [==============================] - 0s 48ms/step - loss: 0.7474 - accuracy: 0.7000 - val_loss: 0.7004 - val_accuracy: 0.8182\n",
            "Epoch 100/100\n",
            "2/2 [==============================] - 0s 33ms/step - loss: 0.7448 - accuracy: 0.7000 - val_loss: 0.6987 - val_accuracy: 0.8182\n",
            "CPU times: user 5.15 s, sys: 211 ms, total: 5.36 s\n",
            "Wall time: 6.7 s\n"
          ]
        }
      ],
      "source": [
        "%%time\n",
        "\n",
        "keras_callbacks   = [ tf.keras.callbacks.EarlyStopping(monitor='val_loss', patience=5, mode='min', min_delta=0.0001)]\n",
        "trenovanie = model.fit(X_train_scaled, y_train, batch_size=30, epochs=100, validation_split=0.17, verbose=1,callbacks= keras_callbacks )"
      ]
    },
    {
      "cell_type": "code",
      "execution_count": 16,
      "metadata": {
        "colab": {
          "base_uri": "https://localhost:8080/"
        },
        "id": "-dtmYM3K63Fi",
        "outputId": "1ae49fab-cdb2-4db0-b949-b06221a3c614"
      },
      "outputs": [
        {
          "name": "stdout",
          "output_type": "stream",
          "text": [
            "Accuracy: 62.500%\n"
          ]
        }
      ],
      "source": [
        "model_acc = model.evaluate(X_test_scaled, y_test, verbose=0)[1]\n",
        "print(\"Accuracy: {:.3f}%\".format(model_acc * 100))"
      ]
    },
    {
      "cell_type": "code",
      "execution_count": 17,
      "metadata": {
        "colab": {
          "base_uri": "https://localhost:8080/",
          "height": 295
        },
        "id": "nYOqtGTlasl0",
        "outputId": "17eb0f44-fcfd-4153-8aff-2afa41ecbc88"
      },
      "outputs": [
        {
          "data": {
            "image/png": "[encoded data removed]",
            "text/plain": [
              "<Figure size 432x288 with 1 Axes>"
            ]
          },
          "metadata": {
            "needs_background": "light"
          },
          "output_type": "display_data"
        }
      ],
      "source": [
        "plt.plot(trenovanie.history['loss']) \n",
        "plt.plot(trenovanie.history['val_loss']) \n",
        "plt.ylabel('Chyba') \n",
        "plt.xlabel('Iterácia')\n",
        "plt.title('Chyba') \n",
        "plt.legend(['Train', 'Test'], loc='upper right') \n",
        "plt.show()"
      ]
    },
    {
      "cell_type": "code",
      "execution_count": 18,
      "metadata": {
        "colab": {
          "base_uri": "https://localhost:8080/",
          "height": 1000
        },
        "id": "cpbHJFpw9xS-",
        "outputId": "65dc40ff-8f06-4a8c-f35d-e78e61e074d0"
      },
      "outputs": [
        {
          "data": {
            "image/png": "[encoded data removed]",
            "text/plain": [
              "<IPython.core.display.Image object>"
            ]
          },
          "execution_count": 18,
          "metadata": {},
          "output_type": "execute_result"
        }
      ],
      "source": [
        "from tensorflow.keras.utils import plot_model\n",
        "plot_model(model, to_file='model2.png',show_shapes=True, show_layer_names=True)"
      ]
    }
  ],
  "metadata": {
    "colab": {
      "collapsed_sections": [],
      "name": "Neuronova_siet_diplomovka-62%_bezneurokit_dobry_graf_Adamax.ipynb",
      "provenance": []
    },
    "kernelspec": {
      "display_name": "Python 3",
      "name": "python3"
    },
    "language_info": {
      "name": "python"
    }
  },
  "nbformat": 4,
  "nbformat_minor": 0
}
