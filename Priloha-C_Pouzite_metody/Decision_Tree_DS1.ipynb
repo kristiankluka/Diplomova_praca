{
  "cells": [
    {
      "cell_type": "code",
      "execution_count": 1,
      "metadata": {
        "id": "vykfoCe6xPDc"
      },
      "outputs": [],
      "source": [
        "import pandas\n",
        "import numpy as np \n",
        "from sklearn.metrics import classification_report"
      ]
    },
    {
      "cell_type": "code",
      "execution_count": 2,
      "metadata": {
        "colab": {
          "base_uri": "https://localhost:8080/",
          "height": 206
        },
        "id": "Cjm8rRN9xRxe",
        "outputId": "19172cce-31bc-4088-d253-4b5e515d68b9"
      },
      "outputs": [
        {
          "output_type": "execute_result",
          "data": {
            "text/plain": [
              "    ID  Min_EKG  Max_EKG    Mean_EKG  STDEV_EKG  Min_GSR  Max_GSR    Mean_GSR  \\\n",
              "0  3_h       10      617  333.516508  48.163003      317      337  330.212305   \n",
              "1  5_h       10      655  333.662258  74.671788      273      315  302.143985   \n",
              "2  6_h      172      653  326.923148  33.356241      366      388  381.556474   \n",
              "3  7_h      204      519  332.974105  28.862731      273      322  305.297337   \n",
              "4  8_h      225      562  356.487284  25.060835      376      418  397.679890   \n",
              "\n",
              "   STDEV_GSR  Min_Tep  Max_Tep   Mean_Tep  STDEV_Tep     Label  \n",
              "0   4.077739    37.15    38.61  37.894830   0.297241   Neutral  \n",
              "1   9.844223    35.68    36.66  36.170000   0.042649  Negative  \n",
              "2   4.600456    36.17    36.66  36.630415   0.116931  Negative  \n",
              "3  10.751020    37.15    37.63  37.256868   0.200067   Neutral  \n",
              "4  10.684603    37.63    38.12  37.722453   0.192077  Negative  "
            ],
            "text/html": [
              "\n",
              "  <div id=\"df-910a7e6d-2aea-4e66-85a2-149c279339e4\">\n",
              "    <div class=\"colab-df-container\">\n",
              "      <div>\n",
              "<style scoped>\n",
              "    .dataframe tbody tr th:only-of-type {\n",
              "        vertical-align: middle;\n",
              "    }\n",
              "\n",
              "    .dataframe tbody tr th {\n",
              "        vertical-align: top;\n",
              "    }\n",
              "\n",
              "    .dataframe thead th {\n",
              "        text-align: right;\n",
              "    }\n",
              "</style>\n",
              "<table border=\"1\" class=\"dataframe\">\n",
              "  <thead>\n",
              "    <tr style=\"text-align: right;\">\n",
              "      <th></th>\n",
              "      <th>ID</th>\n",
              "      <th>Min_EKG</th>\n",
              "      <th>Max_EKG</th>\n",
              "      <th>Mean_EKG</th>\n",
              "      <th>STDEV_EKG</th>\n",
              "      <th>Min_GSR</th>\n",
              "      <th>Max_GSR</th>\n",
              "      <th>Mean_GSR</th>\n",
              "      <th>STDEV_GSR</th>\n",
              "      <th>Min_Tep</th>\n",
              "      <th>Max_Tep</th>\n",
              "      <th>Mean_Tep</th>\n",
              "      <th>STDEV_Tep</th>\n",
              "      <th>Label</th>\n",
              "    </tr>\n",
              "  </thead>\n",
              "  <tbody>\n",
              "    <tr>\n",
              "      <th>0</th>\n",
              "      <td>3_h</td>\n",
              "      <td>10</td>\n",
              "      <td>617</td>\n",
              "      <td>333.516508</td>\n",
              "      <td>48.163003</td>\n",
              "      <td>317</td>\n",
              "      <td>337</td>\n",
              "      <td>330.212305</td>\n",
              "      <td>4.077739</td>\n",
              "      <td>37.15</td>\n",
              "      <td>38.61</td>\n",
              "      <td>37.894830</td>\n",
              "      <td>0.297241</td>\n",
              "      <td>Neutral</td>\n",
              "    </tr>\n",
              "    <tr>\n",
              "      <th>1</th>\n",
              "      <td>5_h</td>\n",
              "      <td>10</td>\n",
              "      <td>655</td>\n",
              "      <td>333.662258</td>\n",
              "      <td>74.671788</td>\n",
              "      <td>273</td>\n",
              "      <td>315</td>\n",
              "      <td>302.143985</td>\n",
              "      <td>9.844223</td>\n",
              "      <td>35.68</td>\n",
              "      <td>36.66</td>\n",
              "      <td>36.170000</td>\n",
              "      <td>0.042649</td>\n",
              "      <td>Negative</td>\n",
              "    </tr>\n",
              "    <tr>\n",
              "      <th>2</th>\n",
              "      <td>6_h</td>\n",
              "      <td>172</td>\n",
              "      <td>653</td>\n",
              "      <td>326.923148</td>\n",
              "      <td>33.356241</td>\n",
              "      <td>366</td>\n",
              "      <td>388</td>\n",
              "      <td>381.556474</td>\n",
              "      <td>4.600456</td>\n",
              "      <td>36.17</td>\n",
              "      <td>36.66</td>\n",
              "      <td>36.630415</td>\n",
              "      <td>0.116931</td>\n",
              "      <td>Negative</td>\n",
              "    </tr>\n",
              "    <tr>\n",
              "      <th>3</th>\n",
              "      <td>7_h</td>\n",
              "      <td>204</td>\n",
              "      <td>519</td>\n",
              "      <td>332.974105</td>\n",
              "      <td>28.862731</td>\n",
              "      <td>273</td>\n",
              "      <td>322</td>\n",
              "      <td>305.297337</td>\n",
              "      <td>10.751020</td>\n",
              "      <td>37.15</td>\n",
              "      <td>37.63</td>\n",
              "      <td>37.256868</td>\n",
              "      <td>0.200067</td>\n",
              "      <td>Neutral</td>\n",
              "    </tr>\n",
              "    <tr>\n",
              "      <th>4</th>\n",
              "      <td>8_h</td>\n",
              "      <td>225</td>\n",
              "      <td>562</td>\n",
              "      <td>356.487284</td>\n",
              "      <td>25.060835</td>\n",
              "      <td>376</td>\n",
              "      <td>418</td>\n",
              "      <td>397.679890</td>\n",
              "      <td>10.684603</td>\n",
              "      <td>37.63</td>\n",
              "      <td>38.12</td>\n",
              "      <td>37.722453</td>\n",
              "      <td>0.192077</td>\n",
              "      <td>Negative</td>\n",
              "    </tr>\n",
              "  </tbody>\n",
              "</table>\n",
              "</div>\n",
              "      <button class=\"colab-df-convert\" onclick=\"convertToInteractive('df-910a7e6d-2aea-4e66-85a2-149c279339e4')\"\n",
              "              title=\"Convert this dataframe to an interactive table.\"\n",
              "              style=\"display:none;\">\n",
              "        \n",
              "  <svg xmlns=\"http://www.w3.org/2000/svg\" height=\"24px\"viewBox=\"0 0 24 24\"\n",
              "       width=\"24px\">\n",
              "    <path d=\"M0 0h24v24H0V0z\" fill=\"none\"/>\n",
              "    <path d=\"M18.56 5.44l.94 2.06.94-2.06 2.06-.94-2.06-.94-.94-2.06-.94 2.06-2.06.94zm-11 1L8.5 8.5l.94-2.06 2.06-.94-2.06-.94L8.5 2.5l-.94 2.06-2.06.94zm10 10l.94 2.06.94-2.06 2.06-.94-2.06-.94-.94-2.06-.94 2.06-2.06.94z\"/><path d=\"M17.41 7.96l-1.37-1.37c-.4-.4-.92-.59-1.43-.59-.52 0-1.04.2-1.43.59L10.3 9.45l-7.72 7.72c-.78.78-.78 2.05 0 2.83L4 21.41c.39.39.9.59 1.41.59.51 0 1.02-.2 1.41-.59l7.78-7.78 2.81-2.81c.8-.78.8-2.07 0-2.86zM5.41 20L4 18.59l7.72-7.72 1.47 1.35L5.41 20z\"/>\n",
              "  </svg>\n",
              "      </button>\n",
              "      \n",
              "  <style>\n",
              "    .colab-df-container {\n",
              "      display:flex;\n",
              "      flex-wrap:wrap;\n",
              "      gap: 12px;\n",
              "    }\n",
              "\n",
              "    .colab-df-convert {\n",
              "      background-color: #E8F0FE;\n",
              "      border: none;\n",
              "      border-radius: 50%;\n",
              "      cursor: pointer;\n",
              "      display: none;\n",
              "      fill: #1967D2;\n",
              "      height: 32px;\n",
              "      padding: 0 0 0 0;\n",
              "      width: 32px;\n",
              "    }\n",
              "\n",
              "    .colab-df-convert:hover {\n",
              "      background-color: #E2EBFA;\n",
              "      box-shadow: 0px 1px 2px rgba(60, 64, 67, 0.3), 0px 1px 3px 1px rgba(60, 64, 67, 0.15);\n",
              "      fill: #174EA6;\n",
              "    }\n",
              "\n",
              "    [theme=dark] .colab-df-convert {\n",
              "      background-color: #3B4455;\n",
              "      fill: #D2E3FC;\n",
              "    }\n",
              "\n",
              "    [theme=dark] .colab-df-convert:hover {\n",
              "      background-color: #434B5C;\n",
              "      box-shadow: 0px 1px 3px 1px rgba(0, 0, 0, 0.15);\n",
              "      filter: drop-shadow(0px 1px 2px rgba(0, 0, 0, 0.3));\n",
              "      fill: #FFFFFF;\n",
              "    }\n",
              "  </style>\n",
              "\n",
              "      <script>\n",
              "        const buttonEl =\n",
              "          document.querySelector('#df-910a7e6d-2aea-4e66-85a2-149c279339e4 button.colab-df-convert');\n",
              "        buttonEl.style.display =\n",
              "          google.colab.kernel.accessAllowed ? 'block' : 'none';\n",
              "\n",
              "        async function convertToInteractive(key) {\n",
              "          const element = document.querySelector('#df-910a7e6d-2aea-4e66-85a2-149c279339e4');\n",
              "          const dataTable =\n",
              "            await google.colab.kernel.invokeFunction('convertToInteractive',\n",
              "                                                     [key], {});\n",
              "          if (!dataTable) return;\n",
              "\n",
              "          const docLinkHtml = 'Like what you see? Visit the ' +\n",
              "            '<a target=\"_blank\" href=https://colab.research.google.com/notebooks/data_table.ipynb>data table notebook</a>'\n",
              "            + ' to learn more about interactive tables.';\n",
              "          element.innerHTML = '';\n",
              "          dataTable['output_type'] = 'display_data';\n",
              "          await google.colab.output.renderOutput(dataTable, element);\n",
              "          const docLink = document.createElement('div');\n",
              "          docLink.innerHTML = docLinkHtml;\n",
              "          element.appendChild(docLink);\n",
              "        }\n",
              "      </script>\n",
              "    </div>\n",
              "  </div>\n",
              "  "
            ]
          },
          "metadata": {},
          "execution_count": 2
        }
      ],
      "source": [
        "moje_data = pandas.read_csv('ds1.csv',sep=';')\n",
        "moje_data.head()"
      ]
    },
    {
      "cell_type": "code",
      "execution_count": 3,
      "metadata": {
        "id": "LahDXmmR0RCc"
      },
      "outputs": [],
      "source": [
        "from sklearn.tree import DecisionTreeClassifier \n",
        "from sklearn.model_selection import train_test_split \n",
        "from sklearn import metrics "
      ]
    },
    {
      "cell_type": "code",
      "execution_count": 4,
      "metadata": {
        "id": "3_Pc2Zct0iAt"
      },
      "outputs": [],
      "source": [
        "X = moje_data.drop(['ID','Label'], axis=1)\n",
        "y = moje_data['Label']\n",
        "\n",
        "X_train, X_test, y_train, y_test = train_test_split(X, y, test_size = 0.2, random_state = 12)"
      ]
    },
    {
      "cell_type": "code",
      "source": [
        "X_train = X_train.replace((np.inf, -np.inf, np.nan), 0).reset_index(drop=True)"
      ],
      "metadata": {
        "id": "MJ-r7E5HrkK_"
      },
      "execution_count": 5,
      "outputs": []
    },
    {
      "cell_type": "code",
      "source": [
        "\n",
        "from sklearn.preprocessing import StandardScaler\n",
        "\n",
        "scaler = StandardScaler().fit(X_train)\n",
        "X_train_scaled = scaler.transform(X_train)\n",
        "\n",
        "\n",
        "scaler = StandardScaler().fit(X_test)\n",
        "X_test_scaled = scaler.transform(X_test)\n"
      ],
      "metadata": {
        "id": "ihgGVNrKKkw0"
      },
      "execution_count": 6,
      "outputs": []
    },
    {
      "cell_type": "code",
      "execution_count": 7,
      "metadata": {
        "id": "xGRfjrSb1Gdb"
      },
      "outputs": [],
      "source": [
        "clf = DecisionTreeClassifier(criterion = \"gini\", splitter = 'random', max_leaf_nodes = 3, min_samples_leaf = 10, max_depth= 10)\n",
        "#clf = DecisionTreeClassifier()"
      ]
    },
    {
      "cell_type": "code",
      "execution_count": 8,
      "metadata": {
        "id": "3atDktWW2ORV",
        "colab": {
          "base_uri": "https://localhost:8080/"
        },
        "outputId": "4bfe0993-abf0-4f0f-b2d6-9120ed687fab"
      },
      "outputs": [
        {
          "output_type": "stream",
          "name": "stdout",
          "text": [
            "CPU times: user 912 µs, sys: 0 ns, total: 912 µs\n",
            "Wall time: 1.08 ms\n"
          ]
        }
      ],
      "source": [
        "%%time\n",
        "clf = clf.fit(X_train_scaled,y_train,)"
      ]
    },
    {
      "cell_type": "code",
      "execution_count": 9,
      "metadata": {
        "id": "2Nbp5LQG2QoV"
      },
      "outputs": [],
      "source": [
        "y_pred = clf.predict(X_test_scaled)"
      ]
    },
    {
      "cell_type": "code",
      "execution_count": 10,
      "metadata": {
        "colab": {
          "base_uri": "https://localhost:8080/"
        },
        "id": "GhyaA3Vn2WiU",
        "outputId": "652a1736-7c6a-4a70-a83d-9c9b71fc2c2b"
      },
      "outputs": [
        {
          "output_type": "stream",
          "name": "stdout",
          "text": [
            "Accuracy: 0.5\n"
          ]
        }
      ],
      "source": [
        "\n",
        "print(\"Accuracy:\",metrics.accuracy_score(y_test, y_pred))"
      ]
    },
    {
      "cell_type": "code",
      "source": [
        "train_error = np.round(clf.score(X_train_scaled, y_train), 2)\n",
        "test_error = np.round(clf.score(X_test_scaled, y_test), 2)\n",
        "    \n",
        "print(\"Presnosť tréningových dát = \" + str(train_error))\n",
        "print(\"Presnosť testovacích dát = \" + str(test_error))"
      ],
      "metadata": {
        "colab": {
          "base_uri": "https://localhost:8080/"
        },
        "id": "48aKGqwT5Rur",
        "outputId": "1b0476a2-fe44-4898-99e9-d759a549340a"
      },
      "execution_count": 11,
      "outputs": [
        {
          "output_type": "stream",
          "name": "stdout",
          "text": [
            "Presnosť tréningových dát = 0.57\n",
            "Presnosť testovacích dát = 0.5\n"
          ]
        }
      ]
    },
    {
      "cell_type": "code",
      "source": [
        "from sklearn.metrics import confusion_matrix,  classification_report\n",
        "import seaborn as sns\n",
        "import matplotlib.pyplot as plt\n",
        "mapovanie = {'Negative': 0, 'Positive': 1, 'Neutral': 2}\n",
        "#y_pred = np.array(list(map(lambda x: np.argmax(x), clf.predict(X_test_scaled))))\n",
        "\n",
        "cm = confusion_matrix(y_test, y_pred)\n",
        "clr = classification_report(y_test, y_pred, target_names=mapovanie.keys())\n",
        "\n",
        "plt.figure(figsize=(8, 8))\n",
        "sns.heatmap(cm, annot=True, vmin=0, fmt='g', cbar=False, cmap='Blues')\n",
        "plt.xticks(np.arange(3) + 0.5, mapovanie.keys())\n",
        "plt.yticks(np.arange(3) + 0.5, mapovanie.keys())\n",
        "plt.xlabel(\"Klasifikácia\")\n",
        "plt.ylabel(\"Skutočnosť\")\n",
        "plt.title(\"Confusion Matrix\")\n",
        "plt.show()\n",
        "\n",
        "print(\"Classification Report:\\n----------------------\\n\", clr)"
      ],
      "metadata": {
        "colab": {
          "base_uri": "https://localhost:8080/",
          "height": 845
        },
        "id": "xqMLOhzO6197",
        "outputId": "e63179f3-4870-46cf-bc2a-a2e94642297c"
      },
      "execution_count": 12,
      "outputs": [
        {
          "output_type": "stream",
          "name": "stderr",
          "text": [
            "/usr/local/lib/python3.7/dist-packages/sklearn/metrics/_classification.py:1318: UndefinedMetricWarning: Precision and F-score are ill-defined and being set to 0.0 in labels with no predicted samples. Use `zero_division` parameter to control this behavior.\n",
            "  _warn_prf(average, modifier, msg_start, len(result))\n",
            "/usr/local/lib/python3.7/dist-packages/sklearn/metrics/_classification.py:1318: UndefinedMetricWarning: Precision and F-score are ill-defined and being set to 0.0 in labels with no predicted samples. Use `zero_division` parameter to control this behavior.\n",
            "  _warn_prf(average, modifier, msg_start, len(result))\n",
            "/usr/local/lib/python3.7/dist-packages/sklearn/metrics/_classification.py:1318: UndefinedMetricWarning: Precision and F-score are ill-defined and being set to 0.0 in labels with no predicted samples. Use `zero_division` parameter to control this behavior.\n",
            "  _warn_prf(average, modifier, msg_start, len(result))\n"
          ]
        },
        {
          "output_type": "display_data",
          "data": {
            "text/plain": [
              "<Figure size 576x576 with 1 Axes>"
            ],
            "image/png": "[encoded data removed]"
          },
          "metadata": {
            "needs_background": "light"
          }
        },
        {
          "output_type": "stream",
          "name": "stdout",
          "text": [
            "Classification Report:\n",
            "----------------------\n",
            "               precision    recall  f1-score   support\n",
            "\n",
            "    Negative       0.55      0.86      0.67         7\n",
            "    Positive       0.40      0.40      0.40         5\n",
            "     Neutral       0.00      0.00      0.00         4\n",
            "\n",
            "    accuracy                           0.50        16\n",
            "   macro avg       0.32      0.42      0.36        16\n",
            "weighted avg       0.36      0.50      0.42        16\n",
            "\n"
          ]
        }
      ]
    }
  ],
  "metadata": {
    "colab": {
      "collapsed_sections": [],
      "name": "Decision_Tree_DS1.ipynb",
      "provenance": []
    },
    "kernelspec": {
      "display_name": "Python 3",
      "name": "python3"
    }
  },
  "nbformat": 4,
  "nbformat_minor": 0
}